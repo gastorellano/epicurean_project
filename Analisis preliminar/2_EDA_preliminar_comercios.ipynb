{
 "cells": [
  {
   "cell_type": "markdown",
   "metadata": {},
   "source": [
    "# Analisis Calidad de los datos sobre los negocios existentes en Yelp y Google Maps"
   ]
  },
  {
   "cell_type": "code",
   "execution_count": 3,
   "metadata": {},
   "outputs": [],
   "source": [
    "import os\n",
    "import pandas as pd\n",
    "import seaborn as sns\n",
    "import matplotlib.pyplot as plt\n",
    "from wordcloud import WordCloud\n",
    "import re"
   ]
  },
  {
   "cell_type": "markdown",
   "metadata": {},
   "source": [
    "### Carga datos de Yelp"
   ]
  },
  {
   "cell_type": "code",
   "execution_count": 4,
   "metadata": {},
   "outputs": [
    {
     "data": {
      "text/plain": [
       "Index(['business_id', 'name', 'address', 'city', 'state', 'postal_code',\n",
       "       'latitude', 'longitude', 'stars', 'review_count', 'is_open',\n",
       "       'attributes', 'categories', 'hours', 'business_id', 'name', 'address',\n",
       "       'city', 'state', 'postal_code', 'latitude', 'longitude', 'stars',\n",
       "       'review_count', 'is_open', 'attributes', 'categories', 'hours'],\n",
       "      dtype='object')"
      ]
     },
     "execution_count": 4,
     "metadata": {},
     "output_type": "execute_result"
    }
   ],
   "source": [
    "# Ruta del archivo .pkl\n",
    "file_path = r'C:\\Users\\Usuario\\Desktop\\HENRY\\PROYECTO FINAL\\Proyecto Final\\datasets\\Yelp\\business.pkl'\n",
    "\n",
    "# Cargar el archivo .pkl\n",
    "df_business_yelp_base = pd.read_pickle(file_path)\n",
    "df_business_yelp_base.columns"
   ]
  },
  {
   "cell_type": "markdown",
   "metadata": {},
   "source": [
    "### Carga datos de Google Maps"
   ]
  },
  {
   "cell_type": "code",
   "execution_count": 5,
   "metadata": {},
   "outputs": [
    {
     "data": {
      "text/html": [
       "<div>\n",
       "<style scoped>\n",
       "    .dataframe tbody tr th:only-of-type {\n",
       "        vertical-align: middle;\n",
       "    }\n",
       "\n",
       "    .dataframe tbody tr th {\n",
       "        vertical-align: top;\n",
       "    }\n",
       "\n",
       "    .dataframe thead th {\n",
       "        text-align: right;\n",
       "    }\n",
       "</style>\n",
       "<table border=\"1\" class=\"dataframe\">\n",
       "  <thead>\n",
       "    <tr style=\"text-align: right;\">\n",
       "      <th></th>\n",
       "      <th>name</th>\n",
       "      <th>address</th>\n",
       "      <th>gmap_id</th>\n",
       "      <th>description</th>\n",
       "      <th>latitude</th>\n",
       "      <th>longitude</th>\n",
       "      <th>category</th>\n",
       "      <th>avg_rating</th>\n",
       "      <th>num_of_reviews</th>\n",
       "      <th>price</th>\n",
       "      <th>hours</th>\n",
       "      <th>MISC</th>\n",
       "      <th>state</th>\n",
       "      <th>relative_results</th>\n",
       "      <th>url</th>\n",
       "    </tr>\n",
       "  </thead>\n",
       "  <tbody>\n",
       "    <tr>\n",
       "      <th>0</th>\n",
       "      <td>Porter Pharmacy</td>\n",
       "      <td>Porter Pharmacy, 129 N Second St, Cochran, GA ...</td>\n",
       "      <td>0x88f16e41928ff687:0x883dad4fd048e8f8</td>\n",
       "      <td>None</td>\n",
       "      <td>32.388300</td>\n",
       "      <td>-83.357100</td>\n",
       "      <td>[Pharmacy]</td>\n",
       "      <td>4.9</td>\n",
       "      <td>16</td>\n",
       "      <td>None</td>\n",
       "      <td>[[Friday, 8AM–6PM], [Saturday, 8AM–12PM], [Sun...</td>\n",
       "      <td>{'Service options': ['In-store shopping', 'Sam...</td>\n",
       "      <td>Open ⋅ Closes 6PM</td>\n",
       "      <td>[0x88f16e41929435cf:0x5b2532a2885e9ef6, 0x88f1...</td>\n",
       "      <td>https://www.google.com/maps/place//data=!4m2!3...</td>\n",
       "    </tr>\n",
       "    <tr>\n",
       "      <th>1</th>\n",
       "      <td>City Textile</td>\n",
       "      <td>City Textile, 3001 E Pico Blvd, Los Angeles, C...</td>\n",
       "      <td>0x80c2c98c0e3c16fd:0x29ec8a728764fdf9</td>\n",
       "      <td>None</td>\n",
       "      <td>34.018891</td>\n",
       "      <td>-118.215290</td>\n",
       "      <td>[Textile exporter]</td>\n",
       "      <td>4.5</td>\n",
       "      <td>6</td>\n",
       "      <td>None</td>\n",
       "      <td>None</td>\n",
       "      <td>None</td>\n",
       "      <td>Open now</td>\n",
       "      <td>[0x80c2c624136ea88b:0xb0315367ed448771, 0x80c2...</td>\n",
       "      <td>https://www.google.com/maps/place//data=!4m2!3...</td>\n",
       "    </tr>\n",
       "    <tr>\n",
       "      <th>2</th>\n",
       "      <td>San Soo Dang</td>\n",
       "      <td>San Soo Dang, 761 S Vermont Ave, Los Angeles, ...</td>\n",
       "      <td>0x80c2c778e3b73d33:0xbdc58662a4a97d49</td>\n",
       "      <td>None</td>\n",
       "      <td>34.058092</td>\n",
       "      <td>-118.292130</td>\n",
       "      <td>[Korean restaurant]</td>\n",
       "      <td>4.4</td>\n",
       "      <td>18</td>\n",
       "      <td>None</td>\n",
       "      <td>[[Thursday, 6:30AM–6PM], [Friday, 6:30AM–6PM],...</td>\n",
       "      <td>{'Service options': ['Takeout', 'Dine-in', 'De...</td>\n",
       "      <td>Open ⋅ Closes 6PM</td>\n",
       "      <td>[0x80c2c78249aba68f:0x35bf16ce61be751d, 0x80c2...</td>\n",
       "      <td>https://www.google.com/maps/place//data=!4m2!3...</td>\n",
       "    </tr>\n",
       "    <tr>\n",
       "      <th>3</th>\n",
       "      <td>Nova Fabrics</td>\n",
       "      <td>Nova Fabrics, 2200 E 11th St, Los Angeles, CA ...</td>\n",
       "      <td>0x80c2c89923b27a41:0x32041559418d447</td>\n",
       "      <td>None</td>\n",
       "      <td>34.023669</td>\n",
       "      <td>-118.232930</td>\n",
       "      <td>[Fabric store]</td>\n",
       "      <td>3.3</td>\n",
       "      <td>6</td>\n",
       "      <td>None</td>\n",
       "      <td>[[Thursday, 9AM–5PM], [Friday, 9AM–5PM], [Satu...</td>\n",
       "      <td>{'Service options': ['In-store shopping'], 'Pa...</td>\n",
       "      <td>Open ⋅ Closes 5PM</td>\n",
       "      <td>[0x80c2c8811477253f:0x23a8a492df1918f7, 0x80c2...</td>\n",
       "      <td>https://www.google.com/maps/place//data=!4m2!3...</td>\n",
       "    </tr>\n",
       "    <tr>\n",
       "      <th>4</th>\n",
       "      <td>Nobel Textile Co</td>\n",
       "      <td>Nobel Textile Co, 719 E 9th St, Los Angeles, C...</td>\n",
       "      <td>0x80c2c632f933b073:0xc31785961fe826a6</td>\n",
       "      <td>None</td>\n",
       "      <td>34.036694</td>\n",
       "      <td>-118.249421</td>\n",
       "      <td>[Fabric store]</td>\n",
       "      <td>4.3</td>\n",
       "      <td>7</td>\n",
       "      <td>None</td>\n",
       "      <td>[[Thursday, 9AM–5PM], [Friday, 9AM–5PM], [Satu...</td>\n",
       "      <td>{'Service options': ['In-store pickup']}</td>\n",
       "      <td>Open ⋅ Closes 5PM</td>\n",
       "      <td>[0x80c2c62c496083d1:0xdefa11317fe870a1, 0x80c2...</td>\n",
       "      <td>https://www.google.com/maps/place//data=!4m2!3...</td>\n",
       "    </tr>\n",
       "  </tbody>\n",
       "</table>\n",
       "</div>"
      ],
      "text/plain": [
       "               name                                            address  \\\n",
       "0   Porter Pharmacy  Porter Pharmacy, 129 N Second St, Cochran, GA ...   \n",
       "1      City Textile  City Textile, 3001 E Pico Blvd, Los Angeles, C...   \n",
       "2      San Soo Dang  San Soo Dang, 761 S Vermont Ave, Los Angeles, ...   \n",
       "3      Nova Fabrics  Nova Fabrics, 2200 E 11th St, Los Angeles, CA ...   \n",
       "4  Nobel Textile Co  Nobel Textile Co, 719 E 9th St, Los Angeles, C...   \n",
       "\n",
       "                                 gmap_id description   latitude   longitude  \\\n",
       "0  0x88f16e41928ff687:0x883dad4fd048e8f8        None  32.388300  -83.357100   \n",
       "1  0x80c2c98c0e3c16fd:0x29ec8a728764fdf9        None  34.018891 -118.215290   \n",
       "2  0x80c2c778e3b73d33:0xbdc58662a4a97d49        None  34.058092 -118.292130   \n",
       "3   0x80c2c89923b27a41:0x32041559418d447        None  34.023669 -118.232930   \n",
       "4  0x80c2c632f933b073:0xc31785961fe826a6        None  34.036694 -118.249421   \n",
       "\n",
       "              category  avg_rating  num_of_reviews price  \\\n",
       "0           [Pharmacy]         4.9              16  None   \n",
       "1   [Textile exporter]         4.5               6  None   \n",
       "2  [Korean restaurant]         4.4              18  None   \n",
       "3       [Fabric store]         3.3               6  None   \n",
       "4       [Fabric store]         4.3               7  None   \n",
       "\n",
       "                                               hours  \\\n",
       "0  [[Friday, 8AM–6PM], [Saturday, 8AM–12PM], [Sun...   \n",
       "1                                               None   \n",
       "2  [[Thursday, 6:30AM–6PM], [Friday, 6:30AM–6PM],...   \n",
       "3  [[Thursday, 9AM–5PM], [Friday, 9AM–5PM], [Satu...   \n",
       "4  [[Thursday, 9AM–5PM], [Friday, 9AM–5PM], [Satu...   \n",
       "\n",
       "                                                MISC              state  \\\n",
       "0  {'Service options': ['In-store shopping', 'Sam...  Open ⋅ Closes 6PM   \n",
       "1                                               None           Open now   \n",
       "2  {'Service options': ['Takeout', 'Dine-in', 'De...  Open ⋅ Closes 6PM   \n",
       "3  {'Service options': ['In-store shopping'], 'Pa...  Open ⋅ Closes 5PM   \n",
       "4           {'Service options': ['In-store pickup']}  Open ⋅ Closes 5PM   \n",
       "\n",
       "                                    relative_results  \\\n",
       "0  [0x88f16e41929435cf:0x5b2532a2885e9ef6, 0x88f1...   \n",
       "1  [0x80c2c624136ea88b:0xb0315367ed448771, 0x80c2...   \n",
       "2  [0x80c2c78249aba68f:0x35bf16ce61be751d, 0x80c2...   \n",
       "3  [0x80c2c8811477253f:0x23a8a492df1918f7, 0x80c2...   \n",
       "4  [0x80c2c62c496083d1:0xdefa11317fe870a1, 0x80c2...   \n",
       "\n",
       "                                                 url  \n",
       "0  https://www.google.com/maps/place//data=!4m2!3...  \n",
       "1  https://www.google.com/maps/place//data=!4m2!3...  \n",
       "2  https://www.google.com/maps/place//data=!4m2!3...  \n",
       "3  https://www.google.com/maps/place//data=!4m2!3...  \n",
       "4  https://www.google.com/maps/place//data=!4m2!3...  "
      ]
     },
     "execution_count": 5,
     "metadata": {},
     "output_type": "execute_result"
    }
   ],
   "source": [
    "\n",
    "# Ruta del archivo .pkl\n",
    "folder_path = r'C:\\Users\\Usuario\\Desktop\\HENRY\\PROYECTO FINAL\\Proyecto Final\\datasets\\Google Maps\\metadata-sitios'\n",
    "\n",
    "# Obtiene los todos los archivos de la carpeta\n",
    "files = os.listdir(folder_path)\n",
    "dataframes = []\n",
    "\n",
    "# Leer cada archivo JSON línea por línea\n",
    "for file_name in files:\n",
    "    if file_name.endswith('.json'):  # Asegurarse de que solo se lean los archivos JSON\n",
    "        file_path = os.path.join(folder_path, file_name)\n",
    "        try:\n",
    "            df = pd.read_json(file_path, lines=True)  # Leer el archivo JSON línea por línea\n",
    "            dataframes.append(df)\n",
    "        except ValueError as e:\n",
    "            print(f\"Error leyendo {file_name}: {e}\")\n",
    "\n",
    "# Concatenar todos los DataFrames en uno solo\n",
    "df_business_google_base = pd.concat(dataframes, ignore_index=True)\n",
    "df_business_google_base.head()\n"
   ]
  },
  {
   "cell_type": "code",
   "execution_count": 6,
   "metadata": {},
   "outputs": [],
   "source": [
    "df_business_google = df_business_google_base\n",
    "df_business_yelp = df_business_yelp_base"
   ]
  },
  {
   "cell_type": "markdown",
   "metadata": {},
   "source": [
    "# Comenzamos analizando el dataset de Yelp"
   ]
  },
  {
   "cell_type": "code",
   "execution_count": 35,
   "metadata": {},
   "outputs": [
    {
     "name": "stdout",
     "output_type": "stream",
     "text": [
      "Index(['business_id', 'name', 'address', 'city', 'state', 'postal_code',\n",
      "       'latitude', 'longitude', 'stars', 'review_count', 'is_open',\n",
      "       'attributes', 'categories', 'hours'],\n",
      "      dtype='object')\n",
      "El DataFrame tiene 150346 filas.\n"
     ]
    }
   ],
   "source": [
    "# Visualizar Columnas\n",
    "print(df_business_yelp.columns)\n",
    "# Visualizar cantidad de Filas\n",
    "print(f\"El DataFrame tiene {df_business_yelp.shape[0]} filas.\")"
   ]
  },
  {
   "cell_type": "markdown",
   "metadata": {},
   "source": [
    "### Tipo de datos de las columnas"
   ]
  },
  {
   "cell_type": "code",
   "execution_count": 8,
   "metadata": {},
   "outputs": [
    {
     "name": "stdout",
     "output_type": "stream",
     "text": [
      "business_id     object\n",
      "name            object\n",
      "address         object\n",
      "city            object\n",
      "state           object\n",
      "postal_code     object\n",
      "latitude        object\n",
      "longitude       object\n",
      "stars           object\n",
      "review_count    object\n",
      "is_open         object\n",
      "attributes      object\n",
      "categories      object\n",
      "hours           object\n",
      "business_id     object\n",
      "name            object\n",
      "address         object\n",
      "city            object\n",
      "state           object\n",
      "postal_code     object\n",
      "latitude        object\n",
      "longitude       object\n",
      "stars           object\n",
      "review_count    object\n",
      "is_open         object\n",
      "attributes      object\n",
      "categories      object\n",
      "hours           object\n",
      "dtype: object\n"
     ]
    }
   ],
   "source": [
    "# Verificar los tipos de datos de cada columna\n",
    "print(df_business_yelp.dtypes)"
   ]
  },
  {
   "cell_type": "markdown",
   "metadata": {},
   "source": [
    "## Buscamos nulos en las columnas"
   ]
  },
  {
   "cell_type": "code",
   "execution_count": 9,
   "metadata": {},
   "outputs": [
    {
     "name": "stdout",
     "output_type": "stream",
     "text": [
      "Valores nulos por columna:\n",
      "business_id          0\n",
      "name                 0\n",
      "address              0\n",
      "city                 0\n",
      "state                3\n",
      "postal_code          0\n",
      "latitude             0\n",
      "longitude            0\n",
      "stars                0\n",
      "review_count         0\n",
      "is_open              0\n",
      "attributes       13744\n",
      "categories         103\n",
      "hours            23223\n",
      "business_id     150341\n",
      "name            150341\n",
      "address         150341\n",
      "city            150341\n",
      "state           150341\n",
      "postal_code     150341\n",
      "latitude        150341\n",
      "longitude       150341\n",
      "stars           150341\n",
      "review_count    150341\n",
      "is_open         150341\n",
      "attributes      150341\n",
      "categories      150341\n",
      "hours           150341\n",
      "dtype: int64\n",
      "El DataFrame df_business_yelp tiene 150346 filas.\n"
     ]
    }
   ],
   "source": [
    "# Verificar valores nulos en todas las columnas del DataFrame df_business_yelp\n",
    "valores_nulos = df_business_yelp.isnull().sum()\n",
    "print(\"Valores nulos por columna:\")\n",
    "print(valores_nulos)\n",
    "\n",
    "print(f\"El DataFrame df_business_yelp tiene {df_business_yelp.shape[0]} filas.\")\n"
   ]
  },
  {
   "cell_type": "markdown",
   "metadata": {},
   "source": [
    "## Observamos la cantidad de valores nulos en porcentaje"
   ]
  },
  {
   "cell_type": "code",
   "execution_count": 10,
   "metadata": {},
   "outputs": [
    {
     "name": "stdout",
     "output_type": "stream",
     "text": [
      "Porcentaje de valores nulos por columna:\n",
      "business_id      0.000000\n",
      "name             0.000000\n",
      "address          0.000000\n",
      "city             0.000000\n",
      "state            0.001995\n",
      "postal_code      0.000000\n",
      "latitude         0.000000\n",
      "longitude        0.000000\n",
      "stars            0.000000\n",
      "review_count     0.000000\n",
      "is_open          0.000000\n",
      "attributes       9.141580\n",
      "categories       0.068509\n",
      "hours           15.446370\n",
      "business_id     99.996674\n",
      "name            99.996674\n",
      "address         99.996674\n",
      "city            99.996674\n",
      "state           99.996674\n",
      "postal_code     99.996674\n",
      "latitude        99.996674\n",
      "longitude       99.996674\n",
      "stars           99.996674\n",
      "review_count    99.996674\n",
      "is_open         99.996674\n",
      "attributes      99.996674\n",
      "categories      99.996674\n",
      "hours           99.996674\n",
      "dtype: float64\n"
     ]
    }
   ],
   "source": [
    "# Calcular el porcentaje de valores nulos por columna\n",
    "porcentaje_nulos = (df_business_yelp.isnull().sum() / len(df_business_yelp)) * 100\n",
    "\n",
    "# Mostrar el porcentaje de valores nulos por columna\n",
    "print(\"Porcentaje de valores nulos por columna:\")\n",
    "print(porcentaje_nulos)\n"
   ]
  },
  {
   "cell_type": "markdown",
   "metadata": {},
   "source": [
    "### Vemos las que contienen esas filas que tambien tienen datos en la columna repetida"
   ]
  },
  {
   "cell_type": "code",
   "execution_count": 11,
   "metadata": {},
   "outputs": [
    {
     "data": {
      "text/html": [
       "<div>\n",
       "<style scoped>\n",
       "    .dataframe tbody tr th:only-of-type {\n",
       "        vertical-align: middle;\n",
       "    }\n",
       "\n",
       "    .dataframe tbody tr th {\n",
       "        vertical-align: top;\n",
       "    }\n",
       "\n",
       "    .dataframe thead th {\n",
       "        text-align: right;\n",
       "    }\n",
       "</style>\n",
       "<table border=\"1\" class=\"dataframe\">\n",
       "  <thead>\n",
       "    <tr style=\"text-align: right;\">\n",
       "      <th></th>\n",
       "      <th>business_id</th>\n",
       "      <th>name</th>\n",
       "      <th>address</th>\n",
       "      <th>city</th>\n",
       "      <th>state</th>\n",
       "      <th>postal_code</th>\n",
       "      <th>latitude</th>\n",
       "      <th>longitude</th>\n",
       "      <th>stars</th>\n",
       "      <th>review_count</th>\n",
       "      <th>...</th>\n",
       "      <th>state</th>\n",
       "      <th>postal_code</th>\n",
       "      <th>latitude</th>\n",
       "      <th>longitude</th>\n",
       "      <th>stars</th>\n",
       "      <th>review_count</th>\n",
       "      <th>is_open</th>\n",
       "      <th>attributes</th>\n",
       "      <th>categories</th>\n",
       "      <th>hours</th>\n",
       "    </tr>\n",
       "  </thead>\n",
       "  <tbody>\n",
       "    <tr>\n",
       "      <th>590</th>\n",
       "      <td>6_Zf2QsRHCH1RhbzA9inyw</td>\n",
       "      <td>Starbucks</td>\n",
       "      <td>8602 Hillsborough Ave</td>\n",
       "      <td>Tampa</td>\n",
       "      <td>LA</td>\n",
       "      <td>33615</td>\n",
       "      <td>27.99637</td>\n",
       "      <td>-82.580954</td>\n",
       "      <td>3.0</td>\n",
       "      <td>56</td>\n",
       "      <td>...</td>\n",
       "      <td>LA</td>\n",
       "      <td>33615</td>\n",
       "      <td>27.99637</td>\n",
       "      <td>-82.580954</td>\n",
       "      <td>3.0</td>\n",
       "      <td>56</td>\n",
       "      <td>1</td>\n",
       "      <td>{'BikeParking': 'True', 'BusinessAcceptsCredit...</td>\n",
       "      <td>Coffee &amp; Tea, Food</td>\n",
       "      <td>{'Monday': '5:30-21:0', 'Tuesday': '5:30-21:0'...</td>\n",
       "    </tr>\n",
       "    <tr>\n",
       "      <th>613</th>\n",
       "      <td>Iipfa9Kaac9XH5Vo8GQwvg</td>\n",
       "      <td>Starbucks</td>\n",
       "      <td>5956 153 Avenue</td>\n",
       "      <td>Edmonton</td>\n",
       "      <td>PA</td>\n",
       "      <td>T5Y 2W1</td>\n",
       "      <td>53.616147</td>\n",
       "      <td>-113.432424</td>\n",
       "      <td>3.5</td>\n",
       "      <td>10</td>\n",
       "      <td>...</td>\n",
       "      <td>PA</td>\n",
       "      <td>T5Y 2W1</td>\n",
       "      <td>53.616147</td>\n",
       "      <td>-113.432424</td>\n",
       "      <td>3.5</td>\n",
       "      <td>10</td>\n",
       "      <td>1</td>\n",
       "      <td>{'BusinessParking': '{'garage': False, 'street...</td>\n",
       "      <td>Coffee &amp; Tea, Food</td>\n",
       "      <td>{'Monday': '5:30-22:0', 'Tuesday': '5:30-22:0'...</td>\n",
       "    </tr>\n",
       "    <tr>\n",
       "      <th>978</th>\n",
       "      <td>oY6osC4Ch3PvguA7D1hh_w</td>\n",
       "      <td>Starbucks</td>\n",
       "      <td>1251 Route 130 S</td>\n",
       "      <td>Cinnaminson</td>\n",
       "      <td>AZ</td>\n",
       "      <td>08077</td>\n",
       "      <td>40.000157</td>\n",
       "      <td>-74.987313</td>\n",
       "      <td>4.5</td>\n",
       "      <td>7</td>\n",
       "      <td>...</td>\n",
       "      <td>AZ</td>\n",
       "      <td>08077</td>\n",
       "      <td>40.000157</td>\n",
       "      <td>-74.987313</td>\n",
       "      <td>4.5</td>\n",
       "      <td>7</td>\n",
       "      <td>1</td>\n",
       "      <td>{'WiFi': 'u'free'', 'BusinessParking': '{'gara...</td>\n",
       "      <td>Coffee &amp; Tea, Food</td>\n",
       "      <td>{'Monday': '5:30-20:0', 'Tuesday': '5:30-20:0'...</td>\n",
       "    </tr>\n",
       "    <tr>\n",
       "      <th>1296</th>\n",
       "      <td>pxuMxh5oC7W-PDN9wwvozg</td>\n",
       "      <td>Starbucks</td>\n",
       "      <td>219 N Center St</td>\n",
       "      <td>Reno</td>\n",
       "      <td>FL</td>\n",
       "      <td>89501</td>\n",
       "      <td>39.527772</td>\n",
       "      <td>-119.812518</td>\n",
       "      <td>3.0</td>\n",
       "      <td>44</td>\n",
       "      <td>...</td>\n",
       "      <td>FL</td>\n",
       "      <td>89501</td>\n",
       "      <td>39.527772</td>\n",
       "      <td>-119.812518</td>\n",
       "      <td>3.0</td>\n",
       "      <td>44</td>\n",
       "      <td>0</td>\n",
       "      <td>{'BikeParking': 'False', 'Caters': 'False', 'O...</td>\n",
       "      <td>Coffee &amp; Tea, Food</td>\n",
       "      <td>{'Monday': '5:30-19:0', 'Tuesday': '5:30-19:0'...</td>\n",
       "    </tr>\n",
       "    <tr>\n",
       "      <th>1543</th>\n",
       "      <td>lo2VbA7Lwzu3i23pQpmzlw</td>\n",
       "      <td>Starbucks</td>\n",
       "      <td>1125 S Black Horse Pike, Space 575</td>\n",
       "      <td>Gloucester Township</td>\n",
       "      <td>NJ</td>\n",
       "      <td>08012</td>\n",
       "      <td>39.78403</td>\n",
       "      <td>-75.05207</td>\n",
       "      <td>3.0</td>\n",
       "      <td>15</td>\n",
       "      <td>...</td>\n",
       "      <td>NJ</td>\n",
       "      <td>08012</td>\n",
       "      <td>39.78403</td>\n",
       "      <td>-75.05207</td>\n",
       "      <td>3.0</td>\n",
       "      <td>15</td>\n",
       "      <td>1</td>\n",
       "      <td>{'BikeParking': 'True', 'RestaurantsPriceRange...</td>\n",
       "      <td>Food, Coffee &amp; Tea</td>\n",
       "      <td>{'Monday': '0:0-0:0', 'Tuesday': '10:30-20:0',...</td>\n",
       "    </tr>\n",
       "  </tbody>\n",
       "</table>\n",
       "<p>5 rows × 28 columns</p>\n",
       "</div>"
      ],
      "text/plain": [
       "                 business_id       name                             address  \\\n",
       "590   6_Zf2QsRHCH1RhbzA9inyw  Starbucks               8602 Hillsborough Ave   \n",
       "613   Iipfa9Kaac9XH5Vo8GQwvg  Starbucks                     5956 153 Avenue   \n",
       "978   oY6osC4Ch3PvguA7D1hh_w  Starbucks                    1251 Route 130 S   \n",
       "1296  pxuMxh5oC7W-PDN9wwvozg  Starbucks                     219 N Center St   \n",
       "1543  lo2VbA7Lwzu3i23pQpmzlw  Starbucks  1125 S Black Horse Pike, Space 575   \n",
       "\n",
       "                     city state postal_code   latitude   longitude stars  \\\n",
       "590                 Tampa    LA       33615   27.99637  -82.580954   3.0   \n",
       "613              Edmonton    PA     T5Y 2W1  53.616147 -113.432424   3.5   \n",
       "978           Cinnaminson    AZ       08077  40.000157  -74.987313   4.5   \n",
       "1296                 Reno    FL       89501  39.527772 -119.812518   3.0   \n",
       "1543  Gloucester Township    NJ       08012   39.78403   -75.05207   3.0   \n",
       "\n",
       "     review_count  ... state postal_code   latitude   longitude stars  \\\n",
       "590            56  ...    LA       33615   27.99637  -82.580954   3.0   \n",
       "613            10  ...    PA     T5Y 2W1  53.616147 -113.432424   3.5   \n",
       "978             7  ...    AZ       08077  40.000157  -74.987313   4.5   \n",
       "1296           44  ...    FL       89501  39.527772 -119.812518   3.0   \n",
       "1543           15  ...    NJ       08012   39.78403   -75.05207   3.0   \n",
       "\n",
       "     review_count is_open                                         attributes  \\\n",
       "590            56       1  {'BikeParking': 'True', 'BusinessAcceptsCredit...   \n",
       "613            10       1  {'BusinessParking': '{'garage': False, 'street...   \n",
       "978             7       1  {'WiFi': 'u'free'', 'BusinessParking': '{'gara...   \n",
       "1296           44       0  {'BikeParking': 'False', 'Caters': 'False', 'O...   \n",
       "1543           15       1  {'BikeParking': 'True', 'RestaurantsPriceRange...   \n",
       "\n",
       "              categories                                              hours  \n",
       "590   Coffee & Tea, Food  {'Monday': '5:30-21:0', 'Tuesday': '5:30-21:0'...  \n",
       "613   Coffee & Tea, Food  {'Monday': '5:30-22:0', 'Tuesday': '5:30-22:0'...  \n",
       "978   Coffee & Tea, Food  {'Monday': '5:30-20:0', 'Tuesday': '5:30-20:0'...  \n",
       "1296  Coffee & Tea, Food  {'Monday': '5:30-19:0', 'Tuesday': '5:30-19:0'...  \n",
       "1543  Food, Coffee & Tea  {'Monday': '0:0-0:0', 'Tuesday': '10:30-20:0',...  \n",
       "\n",
       "[5 rows x 28 columns]"
      ]
     },
     "execution_count": 11,
     "metadata": {},
     "output_type": "execute_result"
    }
   ],
   "source": [
    "filas_erroneas = df_business_yelp.dropna()\n",
    "filas_erroneas.head()"
   ]
  },
  {
   "cell_type": "markdown",
   "metadata": {},
   "source": [
    "***Se observa que el Dataset cuenta con columnas duplicadas que tienen una inmensa cantidad de datos faltantes, que representan el 0.01% de los datos, por lo que resultan irrelevantes.\n",
    "Los datos existentes en esas columnas resultan ser de la misma organización, responden a un error de redacción que probablemente sea el que motive la creación de esas columnas adicionales. Por estas implicancias, se recomienda su eliminación, lo que reducirá significativamente la cantidad de valores faltantes.***"
   ]
  },
  {
   "cell_type": "markdown",
   "metadata": {},
   "source": [
    "### Eliminar las columnas duplicadas con datos erroneos"
   ]
  },
  {
   "cell_type": "code",
   "execution_count": 12,
   "metadata": {},
   "outputs": [
    {
     "name": "stdout",
     "output_type": "stream",
     "text": [
      "Columnas antes de eliminar duplicados:\n",
      "Index(['business_id', 'name', 'address', 'city', 'state', 'postal_code',\n",
      "       'latitude', 'longitude', 'stars', 'review_count', 'is_open',\n",
      "       'attributes', 'categories', 'hours', 'business_id', 'name', 'address',\n",
      "       'city', 'state', 'postal_code', 'latitude', 'longitude', 'stars',\n",
      "       'review_count', 'is_open', 'attributes', 'categories', 'hours'],\n",
      "      dtype='object')\n",
      "Columnas después de eliminar duplicados:\n",
      "Index(['business_id', 'name', 'address', 'city', 'state', 'postal_code',\n",
      "       'latitude', 'longitude', 'stars', 'review_count', 'is_open',\n",
      "       'attributes', 'categories', 'hours'],\n",
      "      dtype='object')\n"
     ]
    }
   ],
   "source": [
    "# Verificar si hay columnas duplicadas\n",
    "print(\"Columnas antes de eliminar duplicados:\")\n",
    "print(df_business_yelp.columns)\n",
    "\n",
    "# Eliminar las columnas duplicadas (mantener la primera aparición)\n",
    "df_business_yelp = df_business_yelp.loc[:, ~df_business_yelp.columns.duplicated()]\n",
    "\n",
    "# Verificar si las columnas fueron eliminadas correctamente\n",
    "print(\"Columnas después de eliminar duplicados:\")\n",
    "print(df_business_yelp.columns)\n"
   ]
  },
  {
   "cell_type": "code",
   "execution_count": 13,
   "metadata": {},
   "outputs": [
    {
     "data": {
      "image/png": "[encoded data removed]",
      "text/plain": [
       "<Figure size 1000x600 with 1 Axes>"
      ]
     },
     "metadata": {},
     "output_type": "display_data"
    }
   ],
   "source": [
    "# Calcular la cantidad de valores nulos por columna\n",
    "cantidad_nulos = df_business_yelp.isnull().sum()\n",
    "\n",
    "# Filtrar solo las columnas que tienen nulos\n",
    "cantidad_nulos = cantidad_nulos[cantidad_nulos > 0]\n",
    "\n",
    "# Crear el gráfico de barras\n",
    "plt.figure(figsize=(10, 6))\n",
    "ax = cantidad_nulos.plot(kind='bar', color='skyblue')\n",
    "\n",
    "# Personalizar el gráfico\n",
    "plt.title('Cantidad de valores nulos por columna en df_business_yelp', fontsize=14)\n",
    "plt.xlabel('Columnas')\n",
    "plt.ylabel('Cantidad de valores nulos (Escala log)')\n",
    "plt.xticks(rotation=45, ha='right')\n",
    "\n",
    "# Añadir etiquetas con los valores encima de cada barra\n",
    "for p in ax.patches:\n",
    "    ax.annotate(f'{int(p.get_height())} Nulos', (p.get_x() * 1.005, p.get_height() * 1.1))\n",
    "\n",
    "# Ajustar la escala si las diferencias son grandes\n",
    "ax.set_yscale('log')  # Escala logarítmica para \n"
   ]
  },
  {
   "cell_type": "markdown",
   "metadata": {},
   "source": [
    "***Este grafico muestra la cantidad de nulos representada en escala logaritmica y encima de cada barra podemos visualizar la cantidad real de los mismos***"
   ]
  },
  {
   "cell_type": "code",
   "execution_count": 14,
   "metadata": {},
   "outputs": [
    {
     "name": "stdout",
     "output_type": "stream",
     "text": [
      "Columnas duplicadas: Index([], dtype='object')\n"
     ]
    }
   ],
   "source": [
    "# Verificar si hay columnas duplicadas en el DataFrame\n",
    "duplicated_columns = df_business_yelp.columns[df_business_yelp.columns.duplicated()]\n",
    "print(f\"Columnas duplicadas: {duplicated_columns}\")\n"
   ]
  },
  {
   "cell_type": "markdown",
   "metadata": {},
   "source": [
    "### Observamos los nulos de la columna State"
   ]
  },
  {
   "cell_type": "code",
   "execution_count": 15,
   "metadata": {},
   "outputs": [
    {
     "name": "stdout",
     "output_type": "stream",
     "text": [
      "              business_id                      name  \\\n",
      "0  Pns2l4eNsfO8kk83dixA6A  Abby Rappoport, LAC, CMQ   \n",
      "1  mpf3x-BjTdTEA3yCZrAYPw             The UPS Store   \n",
      "2  tUFrWirKiKi_TAnsVWINQQ                    Target   \n",
      "\n",
      "                           address           city state postal_code  \\\n",
      "0           1616 Chapala St, Ste 2  Santa Barbara   NaN       93101   \n",
      "1  87 Grasso Plaza Shopping Center         Affton   NaN       63123   \n",
      "2             5255 E Broadway Blvd         Tucson   NaN       85711   \n",
      "\n",
      "    latitude   longitude stars review_count is_open  \\\n",
      "0  34.426679 -119.711197   5.0            7       0   \n",
      "1  38.551126  -90.335695   3.0           15       1   \n",
      "2  32.223236 -110.880452   3.5           22       0   \n",
      "\n",
      "                                          attributes  \\\n",
      "0                      {'ByAppointmentOnly': 'True'}   \n",
      "1             {'BusinessAcceptsCreditCards': 'True'}   \n",
      "2  {'BikeParking': 'True', 'BusinessAcceptsCredit...   \n",
      "\n",
      "                                          categories  \\\n",
      "0  Doctors, Traditional Chinese Medicine, Naturop...   \n",
      "1  Shipping Centers, Local Services, Notaries, Ma...   \n",
      "2  Department Stores, Shopping, Fashion, Home & G...   \n",
      "\n",
      "                                               hours  \n",
      "0                                               None  \n",
      "1  {'Monday': '0:0-0:0', 'Tuesday': '8:0-18:30', ...  \n",
      "2  {'Monday': '8:0-22:0', 'Tuesday': '8:0-22:0', ...  \n"
     ]
    }
   ],
   "source": [
    "# Obtener las filas que tienen valores nulos en la columna 'state'\n",
    "filas_con_nulos_state = df_business_yelp[df_business_yelp['state'].isnull()]\n",
    "\n",
    "# Mostrar las filas con nulos en 'state'\n",
    "print(filas_con_nulos_state)\n"
   ]
  },
  {
   "cell_type": "markdown",
   "metadata": {},
   "source": [
    "### Verificamos los datos"
   ]
  },
  {
   "cell_type": "code",
   "execution_count": 16,
   "metadata": {},
   "outputs": [
    {
     "data": {
      "text/html": [
       "<div>\n",
       "<style scoped>\n",
       "    .dataframe tbody tr th:only-of-type {\n",
       "        vertical-align: middle;\n",
       "    }\n",
       "\n",
       "    .dataframe tbody tr th {\n",
       "        vertical-align: top;\n",
       "    }\n",
       "\n",
       "    .dataframe thead th {\n",
       "        text-align: right;\n",
       "    }\n",
       "</style>\n",
       "<table border=\"1\" class=\"dataframe\">\n",
       "  <thead>\n",
       "    <tr style=\"text-align: right;\">\n",
       "      <th></th>\n",
       "      <th>business_id</th>\n",
       "      <th>name</th>\n",
       "      <th>address</th>\n",
       "      <th>city</th>\n",
       "      <th>state</th>\n",
       "      <th>postal_code</th>\n",
       "      <th>latitude</th>\n",
       "      <th>longitude</th>\n",
       "      <th>stars</th>\n",
       "      <th>review_count</th>\n",
       "      <th>is_open</th>\n",
       "      <th>attributes</th>\n",
       "      <th>categories</th>\n",
       "      <th>hours</th>\n",
       "    </tr>\n",
       "  </thead>\n",
       "  <tbody>\n",
       "    <tr>\n",
       "      <th>150341</th>\n",
       "      <td>IUQopTMmYQG-qRtBk-8QnA</td>\n",
       "      <td>Binh's Nails</td>\n",
       "      <td>3388 Gateway Blvd</td>\n",
       "      <td>Edmonton</td>\n",
       "      <td>IN</td>\n",
       "      <td>T6J 5H2</td>\n",
       "      <td>53.468419</td>\n",
       "      <td>-113.492054</td>\n",
       "      <td>3.0</td>\n",
       "      <td>13</td>\n",
       "      <td>1</td>\n",
       "      <td>{'ByAppointmentOnly': 'False', 'RestaurantsPri...</td>\n",
       "      <td>Nail Salons, Beauty &amp; Spas</td>\n",
       "      <td>{'Monday': '10:0-19:30', 'Tuesday': '10:0-19:3...</td>\n",
       "    </tr>\n",
       "    <tr>\n",
       "      <th>150342</th>\n",
       "      <td>c8GjPIOTGVmIemT7j5_SyQ</td>\n",
       "      <td>Wild Birds Unlimited</td>\n",
       "      <td>2813 Bransford Ave</td>\n",
       "      <td>Nashville</td>\n",
       "      <td>DE</td>\n",
       "      <td>37204</td>\n",
       "      <td>36.115118</td>\n",
       "      <td>-86.766925</td>\n",
       "      <td>4.0</td>\n",
       "      <td>5</td>\n",
       "      <td>1</td>\n",
       "      <td>{'BusinessAcceptsCreditCards': 'True', 'Restau...</td>\n",
       "      <td>Pets, Nurseries &amp; Gardening, Pet Stores, Hobby...</td>\n",
       "      <td>{'Monday': '9:30-17:30', 'Tuesday': '9:30-17:3...</td>\n",
       "    </tr>\n",
       "    <tr>\n",
       "      <th>150343</th>\n",
       "      <td>_QAMST-NrQobXduilWEqSw</td>\n",
       "      <td>Claire's Boutique</td>\n",
       "      <td>6020 E 82nd St, Ste 46</td>\n",
       "      <td>Indianapolis</td>\n",
       "      <td>AB</td>\n",
       "      <td>46250</td>\n",
       "      <td>39.908707</td>\n",
       "      <td>-86.065088</td>\n",
       "      <td>3.5</td>\n",
       "      <td>8</td>\n",
       "      <td>1</td>\n",
       "      <td>{'RestaurantsPriceRange2': '1', 'BusinessAccep...</td>\n",
       "      <td>Shopping, Jewelry, Piercing, Toy Stores, Beaut...</td>\n",
       "      <td>None</td>\n",
       "    </tr>\n",
       "    <tr>\n",
       "      <th>150344</th>\n",
       "      <td>mtGm22y5c2UHNXDFAjaPNw</td>\n",
       "      <td>Cyclery &amp; Fitness Center</td>\n",
       "      <td>2472 Troy Rd</td>\n",
       "      <td>Edwardsville</td>\n",
       "      <td>AB</td>\n",
       "      <td>62025</td>\n",
       "      <td>38.782351</td>\n",
       "      <td>-89.950558</td>\n",
       "      <td>4.0</td>\n",
       "      <td>24</td>\n",
       "      <td>1</td>\n",
       "      <td>{'BusinessParking': '{'garage': False, 'street...</td>\n",
       "      <td>Fitness/Exercise Equipment, Eyewear &amp; Optician...</td>\n",
       "      <td>{'Monday': '9:0-20:0', 'Tuesday': '9:0-20:0', ...</td>\n",
       "    </tr>\n",
       "    <tr>\n",
       "      <th>150345</th>\n",
       "      <td>jV_XOycEzSlTx-65W906pg</td>\n",
       "      <td>Sic Ink</td>\n",
       "      <td>238 Apollo Beach Blvd</td>\n",
       "      <td>Apollo beach</td>\n",
       "      <td>TN</td>\n",
       "      <td>33572</td>\n",
       "      <td>27.771002</td>\n",
       "      <td>-82.39491</td>\n",
       "      <td>4.5</td>\n",
       "      <td>9</td>\n",
       "      <td>1</td>\n",
       "      <td>{'WheelchairAccessible': 'True', 'BusinessAcce...</td>\n",
       "      <td>Beauty &amp; Spas, Permanent Makeup, Piercing, Tattoo</td>\n",
       "      <td>{'Tuesday': '12:0-19:0', 'Wednesday': '12:0-19...</td>\n",
       "    </tr>\n",
       "  </tbody>\n",
       "</table>\n",
       "</div>"
      ],
      "text/plain": [
       "                   business_id                      name  \\\n",
       "150341  IUQopTMmYQG-qRtBk-8QnA              Binh's Nails   \n",
       "150342  c8GjPIOTGVmIemT7j5_SyQ      Wild Birds Unlimited   \n",
       "150343  _QAMST-NrQobXduilWEqSw         Claire's Boutique   \n",
       "150344  mtGm22y5c2UHNXDFAjaPNw  Cyclery & Fitness Center   \n",
       "150345  jV_XOycEzSlTx-65W906pg                   Sic Ink   \n",
       "\n",
       "                       address          city state postal_code   latitude  \\\n",
       "150341       3388 Gateway Blvd      Edmonton    IN     T6J 5H2  53.468419   \n",
       "150342      2813 Bransford Ave     Nashville    DE       37204  36.115118   \n",
       "150343  6020 E 82nd St, Ste 46  Indianapolis    AB       46250  39.908707   \n",
       "150344            2472 Troy Rd  Edwardsville    AB       62025  38.782351   \n",
       "150345   238 Apollo Beach Blvd  Apollo beach    TN       33572  27.771002   \n",
       "\n",
       "         longitude stars review_count is_open  \\\n",
       "150341 -113.492054   3.0           13       1   \n",
       "150342  -86.766925   4.0            5       1   \n",
       "150343  -86.065088   3.5            8       1   \n",
       "150344  -89.950558   4.0           24       1   \n",
       "150345   -82.39491   4.5            9       1   \n",
       "\n",
       "                                               attributes  \\\n",
       "150341  {'ByAppointmentOnly': 'False', 'RestaurantsPri...   \n",
       "150342  {'BusinessAcceptsCreditCards': 'True', 'Restau...   \n",
       "150343  {'RestaurantsPriceRange2': '1', 'BusinessAccep...   \n",
       "150344  {'BusinessParking': '{'garage': False, 'street...   \n",
       "150345  {'WheelchairAccessible': 'True', 'BusinessAcce...   \n",
       "\n",
       "                                               categories  \\\n",
       "150341                         Nail Salons, Beauty & Spas   \n",
       "150342  Pets, Nurseries & Gardening, Pet Stores, Hobby...   \n",
       "150343  Shopping, Jewelry, Piercing, Toy Stores, Beaut...   \n",
       "150344  Fitness/Exercise Equipment, Eyewear & Optician...   \n",
       "150345  Beauty & Spas, Permanent Makeup, Piercing, Tattoo   \n",
       "\n",
       "                                                    hours  \n",
       "150341  {'Monday': '10:0-19:30', 'Tuesday': '10:0-19:3...  \n",
       "150342  {'Monday': '9:30-17:30', 'Tuesday': '9:30-17:3...  \n",
       "150343                                               None  \n",
       "150344  {'Monday': '9:0-20:0', 'Tuesday': '9:0-20:0', ...  \n",
       "150345  {'Tuesday': '12:0-19:0', 'Wednesday': '12:0-19...  "
      ]
     },
     "execution_count": 16,
     "metadata": {},
     "output_type": "execute_result"
    }
   ],
   "source": [
    "df_business_yelp.tail()"
   ]
  },
  {
   "cell_type": "markdown",
   "metadata": {},
   "source": [
    "***Se observa poca confiabilidad del dato en algunas columnas en particular: state, postal_code, entre otros.\n",
    "Sin embargo, son confiables los datos relevantes como el nombre del comercio, su categoría y su ubicación geográfica.***"
   ]
  },
  {
   "cell_type": "markdown",
   "metadata": {},
   "source": [
    "### Buscamos filas duplicadas"
   ]
  },
  {
   "cell_type": "code",
   "execution_count": 17,
   "metadata": {},
   "outputs": [
    {
     "name": "stdout",
     "output_type": "stream",
     "text": [
      "Número total de filas duplicadas: 0\n"
     ]
    }
   ],
   "source": [
    "# Hacer una copia del DataFrame para evitar el SettingWithCopyWarning\n",
    "df_business_yelp = df_business_yelp.copy()\n",
    "\n",
    "# Convertir columnas de tipo dict a strings (solo para la operación de duplicados)\n",
    "df_business_yelp['attributes'] = df_business_yelp['attributes'].astype(str)\n",
    "df_business_yelp['hours'] = df_business_yelp['hours'].astype(str)\n",
    "\n",
    "# Ahora puedes buscar duplicados en todo el DataFrame\n",
    "print(f\"Número total de filas duplicadas: {df_business_yelp.duplicated().sum()}\")\n"
   ]
  },
  {
   "cell_type": "markdown",
   "metadata": {},
   "source": [
    "### Buscamos errores en rating"
   ]
  },
  {
   "cell_type": "code",
   "execution_count": 18,
   "metadata": {},
   "outputs": [
    {
     "name": "stdout",
     "output_type": "stream",
     "text": [
      "Outliers en la columna 'stars':\n",
      "Empty DataFrame\n",
      "Columns: [business_id, name, address, city, state, postal_code, latitude, longitude, stars, review_count, is_open, attributes, categories, hours]\n",
      "Index: []\n"
     ]
    }
   ],
   "source": [
    "# Verificar si los ratings están dentro del rango válido (1-5)\n",
    "outliers_rating = df_business_yelp[~df_business_yelp['stars'].between(1, 5)]\n",
    "print(\"Outliers en la columna 'stars':\")\n",
    "print(outliers_rating)\n"
   ]
  },
  {
   "cell_type": "markdown",
   "metadata": {},
   "source": [
    "### Verificamos que todas las coordenadas esten dentro de Estados Unidos."
   ]
  },
  {
   "cell_type": "markdown",
   "metadata": {},
   "source": [
    "Para verificar outliers las coordenadas (latitud y longitud) abarcamos todo el territorio de los Estados Unidos, incluidos los estados fuera de la parte continental (como Alaska y Hawái), utilizamos los siguientes límites geográficos:\n",
    "\n",
    "Latitudes: Alaska está más al norte que el territorio continental, con una latitud máxima de aproximadamente 71.538800. Por lo tanto, ajustamos la latitud mínima a 18.0 (para incluir Hawái) y la latitud máxima a 72.0 (para incluir Alaska).\n",
    "Longitudes: Alaska está al oeste con una longitud mínima de alrededor de -179.148611 y Hawái está más hacia el oeste con una longitud máxima de -154.8. La longitud este se puede"
   ]
  },
  {
   "cell_type": "code",
   "execution_count": 19,
   "metadata": {},
   "outputs": [
    {
     "name": "stdout",
     "output_type": "stream",
     "text": [
      "Coordenadas geográficas fuera de los límites de todo el territorio de EE.UU. (incluyendo Alaska y Hawái):\n",
      "Empty DataFrame\n",
      "Columns: [business_id, name, address, city, state, postal_code, latitude, longitude, stars, review_count, is_open, attributes, categories, hours]\n",
      "Index: []\n"
     ]
    }
   ],
   "source": [
    "# Verificar latitudes y longitudes válidas para todo el territorio de EE.UU. (incluyendo Alaska y Hawái)\n",
    "coordenadas_invalidas = df_business_yelp[(df_business_yelp['latitude'] < 18.0) | (df_business_yelp['latitude'] > 72.0) |\n",
    "                                        (df_business_yelp['longitude'] < -179.0) | (df_business_yelp['longitude'] > -60.0)]\n",
    "\n",
    "print(\"Coordenadas geográficas fuera de los límites de todo el territorio de EE.UU. (incluyendo Alaska y Hawái):\")\n",
    "print(coordenadas_invalidas)\n"
   ]
  },
  {
   "cell_type": "markdown",
   "metadata": {},
   "source": [
    "# Ahora pasamos a analizar el dataset de Google Maps"
   ]
  },
  {
   "cell_type": "code",
   "execution_count": 34,
   "metadata": {},
   "outputs": [
    {
     "name": "stdout",
     "output_type": "stream",
     "text": [
      "Index(['name', 'address', 'gmap_id', 'description', 'latitude', 'longitude',\n",
      "       'category', 'avg_rating', 'num_of_reviews', 'price', 'hours', 'MISC',\n",
      "       'state', 'relative_results', 'url'],\n",
      "      dtype='object')\n",
      "El DataFrame tiene 150346 filas.\n"
     ]
    }
   ],
   "source": [
    "# Visualizar columnas\n",
    "print(df_business_google.columns)\n",
    "# Visualizar cantidad de filas del Dataframe\n",
    "print(f\"El DataFrame tiene {df_business_yelp.shape[0]} filas.\")"
   ]
  },
  {
   "cell_type": "markdown",
   "metadata": {},
   "source": [
    "### Tipo de datos de las columnas"
   ]
  },
  {
   "cell_type": "code",
   "execution_count": 21,
   "metadata": {},
   "outputs": [
    {
     "name": "stdout",
     "output_type": "stream",
     "text": [
      "name                 object\n",
      "address              object\n",
      "gmap_id              object\n",
      "description          object\n",
      "latitude            float64\n",
      "longitude           float64\n",
      "category             object\n",
      "avg_rating          float64\n",
      "num_of_reviews        int64\n",
      "price                object\n",
      "hours                object\n",
      "MISC                 object\n",
      "state                object\n",
      "relative_results     object\n",
      "url                  object\n",
      "dtype: object\n"
     ]
    }
   ],
   "source": [
    "# Verificar los tipos de datos de cada columna\n",
    "print(df_business_google.dtypes)"
   ]
  },
  {
   "cell_type": "markdown",
   "metadata": {},
   "source": [
    "### Buscamos nulos en las columnas"
   ]
  },
  {
   "cell_type": "code",
   "execution_count": 33,
   "metadata": {},
   "outputs": [
    {
     "name": "stdout",
     "output_type": "stream",
     "text": [
      "Valores nulos por columna:\n",
      "name                     37\n",
      "address               80511\n",
      "gmap_id                   0\n",
      "description         2770722\n",
      "latitude                  0\n",
      "longitude                 0\n",
      "category              17419\n",
      "avg_rating                0\n",
      "num_of_reviews            0\n",
      "price               2749808\n",
      "hours                787405\n",
      "MISC                 690834\n",
      "state                746455\n",
      "relative_results     295058\n",
      "url                       0\n",
      "dtype: int64\n"
     ]
    }
   ],
   "source": [
    "# Verificar valores nulos en todas las columnas del DataFrame df_business_yelp\n",
    "valores_nulos = df_business_google.isnull().sum()\n",
    "print(\"Valores nulos por columna:\")\n",
    "print(valores_nulos)\n"
   ]
  },
  {
   "cell_type": "markdown",
   "metadata": {},
   "source": [
    "### Observamos la cantidad de valores nulos en porcentaje"
   ]
  },
  {
   "cell_type": "code",
   "execution_count": 23,
   "metadata": {},
   "outputs": [
    {
     "name": "stdout",
     "output_type": "stream",
     "text": [
      "Porcentaje de valores nulos por columna:\n",
      "name                 0.001223\n",
      "address              2.661511\n",
      "gmap_id              0.000000\n",
      "description         91.593783\n",
      "latitude             0.000000\n",
      "longitude            0.000000\n",
      "category             0.575833\n",
      "avg_rating           0.000000\n",
      "num_of_reviews       0.000000\n",
      "price               90.902413\n",
      "hours               26.029823\n",
      "MISC                22.837405\n",
      "state               24.676109\n",
      "relative_results     9.753948\n",
      "url                  0.000000\n",
      "dtype: float64\n"
     ]
    }
   ],
   "source": [
    "# Calcular el porcentaje de valores nulos por columna\n",
    "porcentaje_nulos = (df_business_google.isnull().sum() / len(df_business_google)) * 100\n",
    "\n",
    "# Mostrar el porcentaje de valores nulos por columna\n",
    "print(\"Porcentaje de valores nulos por columna:\")\n",
    "print(porcentaje_nulos)"
   ]
  },
  {
   "cell_type": "markdown",
   "metadata": {},
   "source": [
    "***Podemos observar una gran cantidad de valores faltantes y nulos en las columnas “description” y “price”. Los datos faltantes superan el 90% en ambos casos, por lo que su infomación es, prima facie, irrelevante para identificar posibles insights.***"
   ]
  },
  {
   "cell_type": "code",
   "execution_count": 24,
   "metadata": {},
   "outputs": [
    {
     "data": {
      "image/png": "[encoded data removed]",
      "text/plain": [
       "<Figure size 1000x600 with 1 Axes>"
      ]
     },
     "metadata": {},
     "output_type": "display_data"
    }
   ],
   "source": [
    "# Calcular la cantidad de valores nulos por columna en df_business_google\n",
    "cantidad_nulos_google = df_business_google.isnull().sum()\n",
    "\n",
    "# Filtrar solo las columnas que tienen nulos\n",
    "cantidad_nulos_google = cantidad_nulos_google[cantidad_nulos_google > 0]\n",
    "\n",
    "# Crear el gráfico de barras\n",
    "plt.figure(figsize=(10, 6))\n",
    "ax = cantidad_nulos_google.plot(kind='bar', color='salmon')\n",
    "\n",
    "# Personalizar el gráfico\n",
    "plt.title('Cantidad de valores nulos por columna en df_business_google', fontsize=14)\n",
    "plt.xlabel('Columnas')\n",
    "plt.ylabel('Cantidad de valores nulos (Escala log)')\n",
    "plt.xticks(rotation=45, ha='right')\n",
    "\n",
    "# Añadir etiquetas con los valores encima de cada barra\n",
    "for p in ax.patches:\n",
    "    ax.annotate(f'{int(p.get_height())} Nulos', (p.get_x() * 1.005, p.get_height() * 1.1))\n",
    "\n",
    "# Ajustar la escala si las diferencias son grandes\n",
    "ax.set_yscale('log')  # Escala logarítmica para mejorar la visualización\n",
    "\n",
    "plt.tight_layout()\n",
    "\n",
    "# Mostrar el gráfico\n",
    "plt.show()\n"
   ]
  },
  {
   "cell_type": "markdown",
   "metadata": {},
   "source": [
    "***Este grafico muestra la cantidad de nulos representada en escala logaritmica y encima de cada barra podemos visualizar la cantidad real de los mismos***"
   ]
  },
  {
   "cell_type": "markdown",
   "metadata": {},
   "source": [
    "### Buscamos columnas duplicadas"
   ]
  },
  {
   "cell_type": "code",
   "execution_count": 25,
   "metadata": {},
   "outputs": [
    {
     "name": "stdout",
     "output_type": "stream",
     "text": [
      "Columnas duplicadas: Index([], dtype='object')\n"
     ]
    }
   ],
   "source": [
    "# Verificar si hay columnas duplicadas en el DataFrame\n",
    "duplicated_columns = df_business_google.columns[df_business_google.columns.duplicated()]\n",
    "print(f\"Columnas duplicadas: {duplicated_columns}\")"
   ]
  },
  {
   "cell_type": "markdown",
   "metadata": {},
   "source": [
    "### Buscamos filas duplicadas"
   ]
  },
  {
   "cell_type": "code",
   "execution_count": 26,
   "metadata": {},
   "outputs": [
    {
     "name": "stdout",
     "output_type": "stream",
     "text": [
      "Número total de filas duplicadas: 26583\n"
     ]
    }
   ],
   "source": [
    "# Convertir todas las columnas de tipo 'object' (incluyendo listas y diccionarios) a cadenas de texto\n",
    "for col in df_business_google.columns:\n",
    "    if df_business_google[col].dtype == 'object':\n",
    "        df_business_google[col] = df_business_google[col].apply(lambda x: str(x) if isinstance(x, (list, dict)) else x)\n",
    "\n",
    "# Encontrar las filas duplicadas\n",
    "filas_duplicadas = df_business_google[df_business_google.duplicated(keep=False)]  \n",
    "\n",
    "# Numero de filas duplicadas\n",
    "print(f\"Número total de filas duplicadas: {df_business_google.duplicated().sum()}\")\n"
   ]
  },
  {
   "cell_type": "markdown",
   "metadata": {},
   "source": [
    "***Podemos ver una alta cantidad de filas duplicadas, lo que reduce en un porcentaje considerable la cantidad de datos disponibles. Es recomendable realizar una limpieza de las mismas, para evitar información redundante que pudiera perjudicar el análisis del dataset.***"
   ]
  },
  {
   "cell_type": "markdown",
   "metadata": {},
   "source": [
    "### Graficamos estas filas duplicadas comparado con el total de filas"
   ]
  },
  {
   "cell_type": "code",
   "execution_count": 30,
   "metadata": {},
   "outputs": [
    {
     "data": {
      "image/png": "[encoded data removed]",
      "text/plain": [
       "<Figure size 800x600 with 1 Axes>"
      ]
     },
     "metadata": {},
     "output_type": "display_data"
    }
   ],
   "source": [
    "# Calcular la cantidad de filas duplicadas\n",
    "total_filas = len(df_business_google)\n",
    "filas_duplicadas = df_business_google.duplicated().sum()\n",
    "filas_unicas = total_filas - filas_duplicadas\n",
    "\n",
    "# Crear los datos para el gráfico\n",
    "datos_duplicados = [filas_unicas, filas_duplicadas]\n",
    "etiquetas = ['Filas Únicas', 'Filas Duplicadas']\n",
    "colores = ['lightgreen', 'salmon']\n",
    "\n",
    "# Crear el gráfico circular\n",
    "plt.figure(figsize=(8, 6))\n",
    "plt.pie(datos_duplicados, labels=etiquetas, colors=colores, autopct='%1.1f%%', startangle=90, explode=(0, 0.1))\n",
    "\n",
    "# Personalizar el gráfico\n",
    "plt.title('Proporción de Filas Duplicadas', fontsize=14)\n",
    "\n",
    "# Mostrar el gráfico\n",
    "plt.show()\n",
    "\n"
   ]
  },
  {
   "cell_type": "code",
   "execution_count": 31,
   "metadata": {},
   "outputs": [
    {
     "ename": "AttributeError",
     "evalue": "'numpy.int64' object has no attribute 'head'",
     "output_type": "error",
     "traceback": [
      "\u001b[1;31m---------------------------------------------------------------------------\u001b[0m",
      "\u001b[1;31mAttributeError\u001b[0m                            Traceback (most recent call last)",
      "Cell \u001b[1;32mIn[31], line 1\u001b[0m\n\u001b[1;32m----> 1\u001b[0m \u001b[43mfilas_duplicadas\u001b[49m\u001b[38;5;241;43m.\u001b[39;49m\u001b[43mhead\u001b[49m()\n",
      "\u001b[1;31mAttributeError\u001b[0m: 'numpy.int64' object has no attribute 'head'"
     ]
    }
   ],
   "source": [
    "filas_duplicadas.head()"
   ]
  },
  {
   "cell_type": "markdown",
   "metadata": {},
   "source": [
    "### Verificamos las filas duplicadas"
   ]
  },
  {
   "cell_type": "code",
   "execution_count": 24,
   "metadata": {},
   "outputs": [
    {
     "data": {
      "text/html": [
       "<div>\n",
       "<style scoped>\n",
       "    .dataframe tbody tr th:only-of-type {\n",
       "        vertical-align: middle;\n",
       "    }\n",
       "\n",
       "    .dataframe tbody tr th {\n",
       "        vertical-align: top;\n",
       "    }\n",
       "\n",
       "    .dataframe thead th {\n",
       "        text-align: right;\n",
       "    }\n",
       "</style>\n",
       "<table border=\"1\" class=\"dataframe\">\n",
       "  <thead>\n",
       "    <tr style=\"text-align: right;\">\n",
       "      <th></th>\n",
       "      <th>name</th>\n",
       "      <th>address</th>\n",
       "      <th>gmap_id</th>\n",
       "      <th>description</th>\n",
       "      <th>latitude</th>\n",
       "      <th>longitude</th>\n",
       "      <th>category</th>\n",
       "      <th>avg_rating</th>\n",
       "      <th>num_of_reviews</th>\n",
       "      <th>price</th>\n",
       "      <th>hours</th>\n",
       "      <th>MISC</th>\n",
       "      <th>state</th>\n",
       "      <th>relative_results</th>\n",
       "      <th>url</th>\n",
       "    </tr>\n",
       "  </thead>\n",
       "  <tbody>\n",
       "    <tr>\n",
       "      <th>0</th>\n",
       "      <td>Porter Pharmacy</td>\n",
       "      <td>Porter Pharmacy, 129 N Second St, Cochran, GA ...</td>\n",
       "      <td>0x88f16e41928ff687:0x883dad4fd048e8f8</td>\n",
       "      <td>None</td>\n",
       "      <td>32.3883</td>\n",
       "      <td>-83.3571</td>\n",
       "      <td>['Pharmacy']</td>\n",
       "      <td>4.9</td>\n",
       "      <td>16</td>\n",
       "      <td>None</td>\n",
       "      <td>[['Friday', '8AM–6PM'], ['Saturday', '8AM–12PM...</td>\n",
       "      <td>{'Service options': ['In-store shopping', 'Sam...</td>\n",
       "      <td>Open ⋅ Closes 6PM</td>\n",
       "      <td>['0x88f16e41929435cf:0x5b2532a2885e9ef6', '0x8...</td>\n",
       "      <td>https://www.google.com/maps/place//data=!4m2!3...</td>\n",
       "    </tr>\n",
       "    <tr>\n",
       "      <th>26573</th>\n",
       "      <td>Porter Pharmacy</td>\n",
       "      <td>Porter Pharmacy, 129 N Second St, Cochran, GA ...</td>\n",
       "      <td>0x88f16e41928ff687:0x883dad4fd048e8f8</td>\n",
       "      <td>None</td>\n",
       "      <td>32.3883</td>\n",
       "      <td>-83.3571</td>\n",
       "      <td>['Pharmacy']</td>\n",
       "      <td>4.9</td>\n",
       "      <td>16</td>\n",
       "      <td>None</td>\n",
       "      <td>[['Friday', '8AM–6PM'], ['Saturday', '8AM–12PM...</td>\n",
       "      <td>{'Service options': ['In-store shopping', 'Sam...</td>\n",
       "      <td>Open ⋅ Closes 6PM</td>\n",
       "      <td>['0x88f16e41929435cf:0x5b2532a2885e9ef6', '0x8...</td>\n",
       "      <td>https://www.google.com/maps/place//data=!4m2!3...</td>\n",
       "    </tr>\n",
       "    <tr>\n",
       "      <th>275001</th>\n",
       "      <td>Porter Pharmacy</td>\n",
       "      <td>Porter Pharmacy, 129 N Second St, Cochran, GA ...</td>\n",
       "      <td>0x88f16e41928ff687:0x883dad4fd048e8f8</td>\n",
       "      <td>None</td>\n",
       "      <td>32.3883</td>\n",
       "      <td>-83.3571</td>\n",
       "      <td>['Pharmacy']</td>\n",
       "      <td>4.9</td>\n",
       "      <td>16</td>\n",
       "      <td>None</td>\n",
       "      <td>[['Friday', '8AM–6PM'], ['Saturday', '8AM–12PM...</td>\n",
       "      <td>{'Service options': ['In-store shopping', 'Sam...</td>\n",
       "      <td>Open ⋅ Closes 6PM</td>\n",
       "      <td>['0x88f16e41929435cf:0x5b2532a2885e9ef6', '0x8...</td>\n",
       "      <td>https://www.google.com/maps/place//data=!4m2!3...</td>\n",
       "    </tr>\n",
       "    <tr>\n",
       "      <th>550002</th>\n",
       "      <td>Porter Pharmacy</td>\n",
       "      <td>Porter Pharmacy, 129 N Second St, Cochran, GA ...</td>\n",
       "      <td>0x88f16e41928ff687:0x883dad4fd048e8f8</td>\n",
       "      <td>None</td>\n",
       "      <td>32.3883</td>\n",
       "      <td>-83.3571</td>\n",
       "      <td>['Pharmacy']</td>\n",
       "      <td>4.9</td>\n",
       "      <td>16</td>\n",
       "      <td>None</td>\n",
       "      <td>[['Friday', '8AM–6PM'], ['Saturday', '8AM–12PM...</td>\n",
       "      <td>{'Service options': ['In-store shopping', 'Sam...</td>\n",
       "      <td>Open ⋅ Closes 6PM</td>\n",
       "      <td>['0x88f16e41929435cf:0x5b2532a2885e9ef6', '0x8...</td>\n",
       "      <td>https://www.google.com/maps/place//data=!4m2!3...</td>\n",
       "    </tr>\n",
       "    <tr>\n",
       "      <th>825003</th>\n",
       "      <td>Porter Pharmacy</td>\n",
       "      <td>Porter Pharmacy, 129 N Second St, Cochran, GA ...</td>\n",
       "      <td>0x88f16e41928ff687:0x883dad4fd048e8f8</td>\n",
       "      <td>None</td>\n",
       "      <td>32.3883</td>\n",
       "      <td>-83.3571</td>\n",
       "      <td>['Pharmacy']</td>\n",
       "      <td>4.9</td>\n",
       "      <td>16</td>\n",
       "      <td>None</td>\n",
       "      <td>[['Friday', '8AM–6PM'], ['Saturday', '8AM–12PM...</td>\n",
       "      <td>{'Service options': ['In-store shopping', 'Sam...</td>\n",
       "      <td>Open ⋅ Closes 6PM</td>\n",
       "      <td>['0x88f16e41929435cf:0x5b2532a2885e9ef6', '0x8...</td>\n",
       "      <td>https://www.google.com/maps/place//data=!4m2!3...</td>\n",
       "    </tr>\n",
       "  </tbody>\n",
       "</table>\n",
       "</div>"
      ],
      "text/plain": [
       "                   name                                            address  \\\n",
       "0       Porter Pharmacy  Porter Pharmacy, 129 N Second St, Cochran, GA ...   \n",
       "26573   Porter Pharmacy  Porter Pharmacy, 129 N Second St, Cochran, GA ...   \n",
       "275001  Porter Pharmacy  Porter Pharmacy, 129 N Second St, Cochran, GA ...   \n",
       "550002  Porter Pharmacy  Porter Pharmacy, 129 N Second St, Cochran, GA ...   \n",
       "825003  Porter Pharmacy  Porter Pharmacy, 129 N Second St, Cochran, GA ...   \n",
       "\n",
       "                                      gmap_id description  latitude  \\\n",
       "0       0x88f16e41928ff687:0x883dad4fd048e8f8        None   32.3883   \n",
       "26573   0x88f16e41928ff687:0x883dad4fd048e8f8        None   32.3883   \n",
       "275001  0x88f16e41928ff687:0x883dad4fd048e8f8        None   32.3883   \n",
       "550002  0x88f16e41928ff687:0x883dad4fd048e8f8        None   32.3883   \n",
       "825003  0x88f16e41928ff687:0x883dad4fd048e8f8        None   32.3883   \n",
       "\n",
       "        longitude      category  avg_rating  num_of_reviews price  \\\n",
       "0        -83.3571  ['Pharmacy']         4.9              16  None   \n",
       "26573    -83.3571  ['Pharmacy']         4.9              16  None   \n",
       "275001   -83.3571  ['Pharmacy']         4.9              16  None   \n",
       "550002   -83.3571  ['Pharmacy']         4.9              16  None   \n",
       "825003   -83.3571  ['Pharmacy']         4.9              16  None   \n",
       "\n",
       "                                                    hours  \\\n",
       "0       [['Friday', '8AM–6PM'], ['Saturday', '8AM–12PM...   \n",
       "26573   [['Friday', '8AM–6PM'], ['Saturday', '8AM–12PM...   \n",
       "275001  [['Friday', '8AM–6PM'], ['Saturday', '8AM–12PM...   \n",
       "550002  [['Friday', '8AM–6PM'], ['Saturday', '8AM–12PM...   \n",
       "825003  [['Friday', '8AM–6PM'], ['Saturday', '8AM–12PM...   \n",
       "\n",
       "                                                     MISC              state  \\\n",
       "0       {'Service options': ['In-store shopping', 'Sam...  Open ⋅ Closes 6PM   \n",
       "26573   {'Service options': ['In-store shopping', 'Sam...  Open ⋅ Closes 6PM   \n",
       "275001  {'Service options': ['In-store shopping', 'Sam...  Open ⋅ Closes 6PM   \n",
       "550002  {'Service options': ['In-store shopping', 'Sam...  Open ⋅ Closes 6PM   \n",
       "825003  {'Service options': ['In-store shopping', 'Sam...  Open ⋅ Closes 6PM   \n",
       "\n",
       "                                         relative_results  \\\n",
       "0       ['0x88f16e41929435cf:0x5b2532a2885e9ef6', '0x8...   \n",
       "26573   ['0x88f16e41929435cf:0x5b2532a2885e9ef6', '0x8...   \n",
       "275001  ['0x88f16e41929435cf:0x5b2532a2885e9ef6', '0x8...   \n",
       "550002  ['0x88f16e41929435cf:0x5b2532a2885e9ef6', '0x8...   \n",
       "825003  ['0x88f16e41929435cf:0x5b2532a2885e9ef6', '0x8...   \n",
       "\n",
       "                                                      url  \n",
       "0       https://www.google.com/maps/place//data=!4m2!3...  \n",
       "26573   https://www.google.com/maps/place//data=!4m2!3...  \n",
       "275001  https://www.google.com/maps/place//data=!4m2!3...  \n",
       "550002  https://www.google.com/maps/place//data=!4m2!3...  \n",
       "825003  https://www.google.com/maps/place//data=!4m2!3...  "
      ]
     },
     "execution_count": 24,
     "metadata": {},
     "output_type": "execute_result"
    }
   ],
   "source": [
    "# Buscar todas las filas en las que la columna 'name' sea \"Porter Pharmacy\"\n",
    "resultado_busqueda = df_business_google[df_business_google['name'] == \"Porter Pharmacy\"]\n",
    "\n",
    "# Mostrar los resultados\n",
    "resultado_busqueda.head()"
   ]
  },
  {
   "cell_type": "code",
   "execution_count": 25,
   "metadata": {},
   "outputs": [
    {
     "data": {
      "text/html": [
       "<div>\n",
       "<style scoped>\n",
       "    .dataframe tbody tr th:only-of-type {\n",
       "        vertical-align: middle;\n",
       "    }\n",
       "\n",
       "    .dataframe tbody tr th {\n",
       "        vertical-align: top;\n",
       "    }\n",
       "\n",
       "    .dataframe thead th {\n",
       "        text-align: right;\n",
       "    }\n",
       "</style>\n",
       "<table border=\"1\" class=\"dataframe\">\n",
       "  <thead>\n",
       "    <tr style=\"text-align: right;\">\n",
       "      <th></th>\n",
       "      <th>name</th>\n",
       "      <th>address</th>\n",
       "      <th>gmap_id</th>\n",
       "      <th>description</th>\n",
       "      <th>latitude</th>\n",
       "      <th>longitude</th>\n",
       "      <th>category</th>\n",
       "      <th>avg_rating</th>\n",
       "      <th>num_of_reviews</th>\n",
       "      <th>price</th>\n",
       "      <th>hours</th>\n",
       "      <th>MISC</th>\n",
       "      <th>state</th>\n",
       "      <th>relative_results</th>\n",
       "      <th>url</th>\n",
       "    </tr>\n",
       "  </thead>\n",
       "  <tbody>\n",
       "    <tr>\n",
       "      <th>3</th>\n",
       "      <td>Nova Fabrics</td>\n",
       "      <td>Nova Fabrics, 2200 E 11th St, Los Angeles, CA ...</td>\n",
       "      <td>0x80c2c89923b27a41:0x32041559418d447</td>\n",
       "      <td>None</td>\n",
       "      <td>34.023669</td>\n",
       "      <td>-118.23293</td>\n",
       "      <td>['Fabric store']</td>\n",
       "      <td>3.3</td>\n",
       "      <td>6</td>\n",
       "      <td>None</td>\n",
       "      <td>[['Thursday', '9AM–5PM'], ['Friday', '9AM–5PM'...</td>\n",
       "      <td>{'Service options': ['In-store shopping'], 'Pa...</td>\n",
       "      <td>Open ⋅ Closes 5PM</td>\n",
       "      <td>['0x80c2c8811477253f:0x23a8a492df1918f7', '0x8...</td>\n",
       "      <td>https://www.google.com/maps/place//data=!4m2!3...</td>\n",
       "    </tr>\n",
       "    <tr>\n",
       "      <th>26576</th>\n",
       "      <td>Nova Fabrics</td>\n",
       "      <td>Nova Fabrics, 2200 E 11th St, Los Angeles, CA ...</td>\n",
       "      <td>0x80c2c89923b27a41:0x32041559418d447</td>\n",
       "      <td>None</td>\n",
       "      <td>34.023669</td>\n",
       "      <td>-118.23293</td>\n",
       "      <td>['Fabric store']</td>\n",
       "      <td>3.3</td>\n",
       "      <td>6</td>\n",
       "      <td>None</td>\n",
       "      <td>[['Thursday', '9AM–5PM'], ['Friday', '9AM–5PM'...</td>\n",
       "      <td>{'Service options': ['In-store shopping'], 'Pa...</td>\n",
       "      <td>Open ⋅ Closes 5PM</td>\n",
       "      <td>['0x80c2c8811477253f:0x23a8a492df1918f7', '0x8...</td>\n",
       "      <td>https://www.google.com/maps/place//data=!4m2!3...</td>\n",
       "    </tr>\n",
       "  </tbody>\n",
       "</table>\n",
       "</div>"
      ],
      "text/plain": [
       "               name                                            address  \\\n",
       "3      Nova Fabrics  Nova Fabrics, 2200 E 11th St, Los Angeles, CA ...   \n",
       "26576  Nova Fabrics  Nova Fabrics, 2200 E 11th St, Los Angeles, CA ...   \n",
       "\n",
       "                                    gmap_id description   latitude  longitude  \\\n",
       "3      0x80c2c89923b27a41:0x32041559418d447        None  34.023669 -118.23293   \n",
       "26576  0x80c2c89923b27a41:0x32041559418d447        None  34.023669 -118.23293   \n",
       "\n",
       "               category  avg_rating  num_of_reviews price  \\\n",
       "3      ['Fabric store']         3.3               6  None   \n",
       "26576  ['Fabric store']         3.3               6  None   \n",
       "\n",
       "                                                   hours  \\\n",
       "3      [['Thursday', '9AM–5PM'], ['Friday', '9AM–5PM'...   \n",
       "26576  [['Thursday', '9AM–5PM'], ['Friday', '9AM–5PM'...   \n",
       "\n",
       "                                                    MISC              state  \\\n",
       "3      {'Service options': ['In-store shopping'], 'Pa...  Open ⋅ Closes 5PM   \n",
       "26576  {'Service options': ['In-store shopping'], 'Pa...  Open ⋅ Closes 5PM   \n",
       "\n",
       "                                        relative_results  \\\n",
       "3      ['0x80c2c8811477253f:0x23a8a492df1918f7', '0x8...   \n",
       "26576  ['0x80c2c8811477253f:0x23a8a492df1918f7', '0x8...   \n",
       "\n",
       "                                                     url  \n",
       "3      https://www.google.com/maps/place//data=!4m2!3...  \n",
       "26576  https://www.google.com/maps/place//data=!4m2!3...  "
      ]
     },
     "execution_count": 25,
     "metadata": {},
     "output_type": "execute_result"
    }
   ],
   "source": [
    "# Buscar todas las filas en las que la columna 'name' sea \"Porter Pharmacy\"\n",
    "resultado_busqueda = df_business_google[df_business_google['name'] == \"Nova Fabrics\"]\n",
    "\n",
    "# Mostrar los resultados\n",
    "resultado_busqueda.head()"
   ]
  },
  {
   "cell_type": "markdown",
   "metadata": {},
   "source": [
    "### Buscamos errores en rating"
   ]
  },
  {
   "cell_type": "code",
   "execution_count": 26,
   "metadata": {},
   "outputs": [
    {
     "name": "stdout",
     "output_type": "stream",
     "text": [
      "Outliers en la columna 'stars':\n",
      "Empty DataFrame\n",
      "Columns: [business_id, name, address, city, state, postal_code, latitude, longitude, stars, review_count, is_open, attributes, categories, hours]\n",
      "Index: []\n"
     ]
    }
   ],
   "source": [
    "# Verificar si los ratings están dentro del rango válido (1-5)\n",
    "outliers_rating = df_business_yelp[~df_business_yelp['stars'].between(1, 5)]\n",
    "print(\"Outliers en la columna 'stars':\")\n",
    "print(outliers_rating)"
   ]
  },
  {
   "cell_type": "markdown",
   "metadata": {},
   "source": [
    "***Se observa que la columna “Rating” sigue el sistema de calificación de Google maps: califica de 1 a 5 estrellas. Se observa que no hay valores que escapen de esa frecuencia de valores.***"
   ]
  },
  {
   "cell_type": "markdown",
   "metadata": {},
   "source": [
    "### Verificamos que todas las coordenadas esten dentro de Estados Unidos."
   ]
  },
  {
   "cell_type": "markdown",
   "metadata": {},
   "source": [
    "Para verificar outliers las coordenadas (latitud y longitud) abarcamos todo el territorio de los Estados Unidos, incluidos los estados fuera de la parte continental (como Alaska y Hawái), utilizamos los siguientes límites geográficos:\n",
    "\n",
    "Latitudes: Alaska está más al norte que el territorio continental, con una latitud máxima de aproximadamente 71.538800. Por lo tanto, ajustamos la latitud mínima a 18.0 (para incluir Hawái) y la latitud máxima a 72.0 (para incluir Alaska).\n",
    "Longitudes: Alaska está al oeste con una longitud mínima de alrededor de -179.148611 y Hawái está más hacia el oeste con una longitud máxima de -154.8. La longitud este se puede"
   ]
  },
  {
   "cell_type": "code",
   "execution_count": 27,
   "metadata": {},
   "outputs": [
    {
     "name": "stdout",
     "output_type": "stream",
     "text": [
      "Coordenadas geográficas fuera de los límites de todo el territorio de EE.UU. (incluyendo Alaska y Hawái):\n",
      "Empty DataFrame\n",
      "Columns: [business_id, name, address, city, state, postal_code, latitude, longitude, stars, review_count, is_open, attributes, categories, hours]\n",
      "Index: []\n"
     ]
    }
   ],
   "source": [
    "# Verificar latitudes y longitudes válidas para todo el territorio de EE.UU. (incluyendo Alaska y Hawái)\n",
    "coordenadas_invalidas = df_business_yelp[(df_business_yelp['latitude'] < 18.0) | (df_business_yelp['latitude'] > 72.0) |\n",
    "                                        (df_business_yelp['longitude'] < -179.0) | (df_business_yelp['longitude'] > -60.0)]\n",
    "\n",
    "print(\"Coordenadas geográficas fuera de los límites de todo el territorio de EE.UU. (incluyendo Alaska y Hawái):\")\n",
    "print(coordenadas_invalidas)"
   ]
  },
  {
   "cell_type": "markdown",
   "metadata": {},
   "source": [
    "# Comparativa Ambos DF"
   ]
  },
  {
   "cell_type": "code",
   "execution_count": 43,
   "metadata": {},
   "outputs": [
    {
     "data": {
      "image/png": "[encoded data removed]",
      "text/plain": [
       "<Figure size 500x600 with 1 Axes>"
      ]
     },
     "metadata": {},
     "output_type": "display_data"
    }
   ],
   "source": [
    "# Crear el gráfico de barras\n",
    "plt.figure(figsize=(5, 6))  # Hacer el gráfico menos ancho\n",
    "ax = plt.bar(['df_business_google', 'df_business_yelp'], [3025011, 150346], color=['#42a5f5', '#ef5350'], width=0.6)\n",
    "\n",
    "# Personalizar el gráfico\n",
    "plt.title('Comparación de Tamaño entre Dataframes', fontsize=14)\n",
    "plt.ylabel('Cantidad de Filas')\n",
    "\n",
    "# Añadir etiquetas del eje X (nombres de los DataFrames)\n",
    "plt.xticks([0, 1], ['Dataset Google', 'Dataset Yelp'], rotation=0)\n",
    "\n",
    "# Eliminar espacio entre las barras y el borde\n",
    "plt.xlim(-0.5, 1.5)\n",
    "\n",
    "# Añadir etiquetas con los valores encima de cada barra\n",
    "for i, rect in enumerate(ax):\n",
    "    height = rect.get_height()\n",
    "    plt.text(rect.get_x() + rect.get_width() / 2.0, height, f'{int(height)} Filas', ha='center', va='bottom')\n",
    "\n",
    "plt.tight_layout()\n",
    "\n",
    "# Mostrar el gráfico\n",
    "plt.show()\n"
   ]
  },
  {
   "cell_type": "code",
   "execution_count": 50,
   "metadata": {},
   "outputs": [
    {
     "data": {
      "image/png": "[encoded data removed]",
      "text/plain": [
       "<Figure size 600x600 with 1 Axes>"
      ]
     },
     "metadata": {},
     "output_type": "display_data"
    }
   ],
   "source": [
    "# Crear el gráfico de barras comparativo\n",
    "plt.figure(figsize=(6, 6))\n",
    "ax = plt.bar(comparacion_nulos['DataFrame'], comparacion_nulos['Porcentaje de Nulos'], color=['#42a5f5', '#ef5350'])\n",
    "\n",
    "# Personalizar el gráfico\n",
    "plt.title('Comparación de Porcentaje de Datos Nulos entre DataFrames', fontsize=14)\n",
    "plt.ylabel('Porcentaje de Datos Nulos (%)')\n",
    "\n",
    "# Establecer la escala logarítmica en el eje Y\n",
    "plt.yscale('log')\n",
    "\n",
    "# Añadir etiquetas con los valores encima de cada barra\n",
    "for i, rect in enumerate(ax):\n",
    "    height = rect.get_height()\n",
    "    plt.text(rect.get_x() + rect.get_width() / 2.0, height, f'{height:.2f}%', ha='center', va='bottom')\n",
    "\n",
    "plt.tight_layout()\n",
    "\n",
    "# Mostrar el gráfico\n",
    "plt.show()\n"
   ]
  },
  {
   "cell_type": "code",
   "execution_count": 49,
   "metadata": {},
   "outputs": [
    {
     "data": {
      "image/png": "[encoded data removed]",
      "text/plain": [
       "<Figure size 600x600 with 1 Axes>"
      ]
     },
     "metadata": {},
     "output_type": "display_data"
    }
   ],
   "source": [
    "# calcular registros totales\n",
    "total_celdas_google = df_business_google.shape[0]\n",
    "total_celdas_yelp = df_business_yelp.shape[0] \n",
    "\n",
    "# Crear los datos para el gráfico de torta\n",
    "tamaños = [total_celdas_google, total_celdas_yelp]\n",
    "etiquetas = ['Google', 'Yelp']\n",
    "colores = ['#42a5f5', '#ef5350']\n",
    "\n",
    "# Crear el gráfico de torta\n",
    "plt.figure(figsize=(6, 6))\n",
    "plt.pie(tamaños, labels=etiquetas, colors=colores, autopct='%1.1f%%', startangle=90, explode=(0.05, 0))\n",
    "\n",
    "# Personalizar el gráfico\n",
    "plt.title('Comparación del Total de registros entre Dataframes', fontsize=14)\n",
    "\n",
    "# Mostrar el gráfico\n",
    "plt.show()\n"
   ]
  }
 ],
 "metadata": {
  "kernelspec": {
   "display_name": "Python 3",
   "language": "python",
   "name": "python3"
  },
  "language_info": {
   "codemirror_mode": {
    "name": "ipython",
    "version": 3
   },
   "file_extension": ".py",
   "mimetype": "text/x-python",
   "name": "python",
   "nbconvert_exporter": "python",
   "pygments_lexer": "ipython3",
   "version": "3.10.11"
  }
 },
 "nbformat": 4,
 "nbformat_minor": 2
}
