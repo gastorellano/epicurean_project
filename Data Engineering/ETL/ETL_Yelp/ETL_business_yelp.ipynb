{
 "cells": [
  {
   "cell_type": "code",
   "execution_count": 54,
   "metadata": {},
   "outputs": [],
   "source": [
    "import os\n",
    "import pandas as pd\n",
    "import seaborn as sns\n",
    "import matplotlib.pyplot as plt\n",
    "from wordcloud import WordCloud\n",
    "import re"
   ]
  },
  {
   "cell_type": "code",
   "execution_count": 55,
   "metadata": {},
   "outputs": [],
   "source": [
    "# Ruta del archivo .pkl\n",
    "file_path = r'C:\\Users\\Usuario\\Desktop\\HENRY\\PROYECTO FINAL\\Proyecto Final\\datasets\\Yelp\\business.pkl'\n",
    "\n",
    "# Cargar el archivo .pkl\n",
    "df_business_yelp_base = pd.read_pickle(file_path)"
   ]
  },
  {
   "cell_type": "code",
   "execution_count": 73,
   "metadata": {},
   "outputs": [],
   "source": [
    "df_business_y = df_business_yelp_base"
   ]
  },
  {
   "cell_type": "code",
   "execution_count": 74,
   "metadata": {},
   "outputs": [
    {
     "data": {
      "text/plain": [
       "150346"
      ]
     },
     "execution_count": 74,
     "metadata": {},
     "output_type": "execute_result"
    }
   ],
   "source": [
    "len(df_business_y)"
   ]
  },
  {
   "cell_type": "markdown",
   "metadata": {},
   "source": [
    "### Eliminamos las columnas que tienen un 98% de valores nulos (son columnas erroneas)"
   ]
  },
  {
   "cell_type": "code",
   "execution_count": 75,
   "metadata": {},
   "outputs": [
    {
     "name": "stderr",
     "output_type": "stream",
     "text": [
      "C:\\Users\\Usuario\\AppData\\Local\\Temp\\ipykernel_15784\\1179359240.py:5: SettingWithCopyWarning: \n",
      "A value is trying to be set on a copy of a slice from a DataFrame\n",
      "\n",
      "See the caveats in the documentation: https://pandas.pydata.org/pandas-docs/stable/user_guide/indexing.html#returning-a-view-versus-a-copy\n",
      "  df_business_y.drop(columns=['state', 'postal_code'], inplace=True)\n"
     ]
    }
   ],
   "source": [
    "# Eliminar columnas duplicadas\n",
    "df_business_y = df_business_y.loc[:, ~df_business_y.columns.duplicated()]\n",
    "\n",
    "# Eliminar las columnas 'state', 'postal_code', y 'hours'\n",
    "df_business_y.drop(columns=['state', 'postal_code'], inplace=True)"
   ]
  },
  {
   "cell_type": "markdown",
   "metadata": {},
   "source": [
    "### Rellenamos las filas que tienen valores nulos en \"State\" harcodeandolo ya que son solo 3"
   ]
  },
  {
   "cell_type": "code",
   "execution_count": 76,
   "metadata": {},
   "outputs": [
    {
     "name": "stderr",
     "output_type": "stream",
     "text": [
      "C:\\Users\\Usuario\\AppData\\Local\\Temp\\ipykernel_15784\\3362674017.py:10: SettingWithCopyWarning: \n",
      "A value is trying to be set on a copy of a slice from a DataFrame.\n",
      "Try using .loc[row_indexer,col_indexer] = value instead\n",
      "\n",
      "See the caveats in the documentation: https://pandas.pydata.org/pandas-docs/stable/user_guide/indexing.html#returning-a-view-versus-a-copy\n",
      "  df_business_y.loc[index, 'state'] = value\n"
     ]
    }
   ],
   "source": [
    "# Diccionario con indice y valores para rellenar esos vacios\n",
    "valores_para_reemplazo = {\n",
    "    0: \"California\",  \n",
    "    1: \"Affton\",    \n",
    "    2: \"Arizona\", \n",
    "}\n",
    "\n",
    "# Rellenar valores nulos en 'state' con estado específico\n",
    "for index, value in valores_para_reemplazo.items():\n",
    "    df_business_y.loc[index, 'state'] = value"
   ]
  },
  {
   "cell_type": "markdown",
   "metadata": {},
   "source": [
    "### Filtramos para obtener solo registros de la ciudades de California\n"
   ]
  },
  {
   "cell_type": "code",
   "execution_count": 77,
   "metadata": {},
   "outputs": [
    {
     "name": "stdout",
     "output_type": "stream",
     "text": [
      "Algunas ciudades únicas en df_business_y:\n",
      "['santa barbara' 'affton' 'tucson' 'philadelphia' 'green lane'\n",
      " 'ashland city' 'brentwood' 'st. petersburg' 'nashville' \"land o' lakes\"\n",
      " 'tampa bay' 'indianapolis' 'clearwater' 'largo' 'new orleans' 'kenner'\n",
      " 'edmonton' 'reno' 'newtown' 'white house']\n",
      "\n",
      "Número de registros en df_business_y: 41\n"
     ]
    },
    {
     "name": "stderr",
     "output_type": "stream",
     "text": [
      "C:\\Users\\Usuario\\AppData\\Local\\Temp\\ipykernel_15784\\2128959044.py:16: SettingWithCopyWarning: \n",
      "A value is trying to be set on a copy of a slice from a DataFrame.\n",
      "Try using .loc[row_indexer,col_indexer] = value instead\n",
      "\n",
      "See the caveats in the documentation: https://pandas.pydata.org/pandas-docs/stable/user_guide/indexing.html#returning-a-view-versus-a-copy\n",
      "  df_business_y['city'] = df_business_y['city'].astype(str).str.lower().str.strip()\n"
     ]
    }
   ],
   "source": [
    "# Lista de ciudades de California\n",
    "california_cities = [\n",
    "    'Los Angeles', 'San Francisco', 'San Diego', 'San Jose', 'Sacramento', 'Fresno', 'Long Beach', 'Oakland',\n",
    "    'Bakersfield', 'Anaheim', 'Santa Ana', 'Riverside', 'Stockton', 'Chula Vista', 'Irvine', 'Fremont', \n",
    "    'San Bernardino', 'Modesto', 'Fontana', 'Moreno Valley', 'Huntington Beach', 'Glendale', 'Oxnard', \n",
    "    'Ontario', 'Rancho Cucamonga', 'Santa Clarita', 'Oceanside', 'Garden Grove', 'Elk Grove', 'Corona',\n",
    "    'Lancaster', 'Palmdale', 'Hayward', 'Salinas', 'Pomona', 'Sunnyvale', 'Escondido', 'Torrance', \n",
    "    'Pasadena', 'Orange', 'Fullerton', 'Thousand Oaks', 'Visalia', 'Simi Valley', 'Concord', \n",
    "    'Roseville', 'Victorville', 'Vallejo', 'Berkeley', 'Fairfield'\n",
    "]\n",
    "\n",
    "# Convertir todas las ciudades a minúsculas para estandarizar\n",
    "california_cities_lower = [city.lower() for city in california_cities]\n",
    "\n",
    "# Limpiar la columna 'city' en df_business_y\n",
    "df_business_y['city'] = df_business_y['city'].astype(str).str.lower().str.strip()\n",
    "\n",
    "# Verificar algunas ciudades únicas en df_business_y\n",
    "print(\"Algunas ciudades únicas en df_business_y:\")\n",
    "print(df_business_y['city'].unique()[:20])\n",
    "\n",
    "# Filtrar el DataFrame para mantener solo las filas donde la ciudad esté en la lista de California\n",
    "df_business_y = df_business_y[df_business_y['city'].isin(california_cities_lower)]\n",
    "\n",
    "# Verificar el número de registros después del filtrado\n",
    "print(f\"\\nNúmero de registros en df_business_y: {df_business_y.shape[0]}\")\n"
   ]
  },
  {
   "cell_type": "markdown",
   "metadata": {},
   "source": [
    "### Desanidamos la columna attributes"
   ]
  },
  {
   "cell_type": "code",
   "execution_count": 78,
   "metadata": {},
   "outputs": [],
   "source": [
    "# Desanidar la columna 'attributes'\n",
    "df_attributes_desanidada = pd.json_normalize(df_business_y['attributes'])\n",
    "\n",
    "# Combinar las nuevas columnas desanidadas con el DataFrame original\n",
    "df_business_y = pd.concat([df_business_y, df_attributes_desanidada], axis=1)\n",
    "\n",
    "# Eliminar la columna original 'attributes' si ya no es necesaria\n",
    "df_business_y.drop(columns=['attributes'], inplace=True)"
   ]
  },
  {
   "cell_type": "code",
   "execution_count": 79,
   "metadata": {},
   "outputs": [
    {
     "name": "stderr",
     "output_type": "stream",
     "text": [
      "C:\\Users\\Usuario\\AppData\\Local\\Temp\\ipykernel_15784\\194133525.py:5: UserWarning: This pattern is interpreted as a regular expression, and has match groups. To actually get the groups, use str.extract.\n",
      "  df_business_yelp = df_business_y[df_business_y['categories'].str.contains(palabra, case=False, regex=True, na=False)]\n"
     ]
    }
   ],
   "source": [
    "# Definir el patrón de expresión regular para identificar categorías relacionadas con la gastronomía\n",
    "palabra = r'\\b(restaurant|cafe|delivery|diner|bistro|takeout|bar|pub|grill|pizzeria|coffee|bakery|food|eatery|sandwich|snack)\\b'\n",
    "\n",
    "# Filtrar las categorías que coinciden con el patrón de gastronomía, manejando NaN\n",
    "df_business_yelp = df_business_y[df_business_y['categories'].str.contains(palabra, case=False, regex=True, na=False)]"
   ]
  },
  {
   "cell_type": "code",
   "execution_count": 80,
   "metadata": {},
   "outputs": [
    {
     "data": {
      "text/plain": [
       "12"
      ]
     },
     "execution_count": 80,
     "metadata": {},
     "output_type": "execute_result"
    }
   ],
   "source": [
    "len(df_business_yelp)"
   ]
  },
  {
   "cell_type": "markdown",
   "metadata": {},
   "source": [
    "codigo para ver columnas desanidadas de attributes"
   ]
  },
  {
   "cell_type": "code",
   "execution_count": 65,
   "metadata": {},
   "outputs": [
    {
     "name": "stdout",
     "output_type": "stream",
     "text": [
      "Nombres de las columnas seleccionadas: ['state', 'ByAppointmentOnly', 'BusinessAcceptsCreditCards', 'BikeParking', 'RestaurantsPriceRange2', 'CoatCheck', 'RestaurantsTakeOut', 'RestaurantsDelivery', 'Caters', 'WiFi', 'BusinessParking', 'WheelchairAccessible', 'HappyHour', 'OutdoorSeating', 'HasTV', 'RestaurantsReservations', 'DogsAllowed', 'Alcohol', 'GoodForKids', 'RestaurantsAttire', 'Ambience', 'RestaurantsTableService', 'RestaurantsGoodForGroups', 'DriveThru', 'NoiseLevel', 'GoodForMeal', 'BusinessAcceptsBitcoin', 'Smoking', 'Music', 'GoodForDancing', 'AcceptsInsurance', 'BestNights', 'BYOB', 'Corkage', 'BYOBCorkage', 'HairSpecializesIn', 'Open24Hours', 'RestaurantsCounterService', 'AgesAllowed', 'DietaryRestrictions']\n"
     ]
    }
   ],
   "source": [
    "# Nombre de la columna a partir de la cual deseas ver los nombres de las columnas\n",
    "columna_inicio = 'state'  # Reemplaza con el nombre real de tu columna\n",
    "\n",
    "# Verificar si la columna existe en el DataFrame\n",
    "if columna_inicio in df_business_y.columns:\n",
    "    # Seleccionar las columnas a partir de 'columna_inicio' usando loc\n",
    "    columnas_seleccionadas = df_business_y.loc[:, columna_inicio:].columns\n",
    "    \n",
    "    # Convertir los nombres de las columnas a una lista\n",
    "    lista_columnas = columnas_seleccionadas.tolist()\n",
    "    \n",
    "    # Mostrar la lista de nombres de las columnas seleccionadas\n",
    "    print(\"Nombres de las columnas seleccionadas:\", lista_columnas)\n",
    "else:\n",
    "    print(f\"La columna '{columna_inicio}' no existe en el DataFrame.\")"
   ]
  },
  {
   "cell_type": "markdown",
   "metadata": {},
   "source": [
    "### Guardar dataframe en parquet"
   ]
  },
  {
   "cell_type": "code",
   "execution_count": 66,
   "metadata": {},
   "outputs": [],
   "source": [
    "#df_business_y.to_parquet(r'C:\\Users\\Usuario\\Desktop\\HENRY\\PROYECTO FINAL\\repo\\epicurean_project\\DATA\\data parcial\\locales_gastronomicos_yelp.parquet')"
   ]
  },
  {
   "cell_type": "markdown",
   "metadata": {},
   "source": [
    "codigo que desanida la col attributes solo con las columnas que queremos"
   ]
  },
  {
   "cell_type": "code",
   "execution_count": 67,
   "metadata": {},
   "outputs": [
    {
     "data": {
      "text/plain": [
       "\"\\n# 1. Definir las claves que deseas extraer\\nkeys_to_extract = ['key1', 'key2', 'key3']  # Reemplaza con tus claves\\n\\n# 2. Desanidar solo las claves seleccionadas\\ndf_attributes_desanidada = pd.json_normalize(df_business_y['attributes'])[keys_to_extract]\\n\\n# 3. Combinar las nuevas columnas con el DataFrame original\\ndf_business_y = pd.concat([df_business_y, df_attributes_desanidada], axis=1)\\n\\n# 4. Eliminar la columna original 'attributes' si ya no es necesaria\\ndf_business_y.drop(columns=['attributes'], inplace=True)\\n\""
      ]
     },
     "execution_count": 67,
     "metadata": {},
     "output_type": "execute_result"
    }
   ],
   "source": [
    "\"\"\"\n",
    "# 1. Definir las claves que deseas extraer\n",
    "keys_to_extract = ['key1', 'key2', 'key3']  # Reemplaza con tus claves\n",
    "\n",
    "# 2. Desanidar solo las claves seleccionadas\n",
    "df_attributes_desanidada = pd.json_normalize(df_business_y['attributes'])[keys_to_extract]\n",
    "\n",
    "# 3. Combinar las nuevas columnas con el DataFrame original\n",
    "df_business_y = pd.concat([df_business_y, df_attributes_desanidada], axis=1)\n",
    "\n",
    "# 4. Eliminar la columna original 'attributes' si ya no es necesaria\n",
    "df_business_y.drop(columns=['attributes'], inplace=True)\n",
    "\"\"\""
   ]
  }
 ],
 "metadata": {
  "kernelspec": {
   "display_name": "Python 3",
   "language": "python",
   "name": "python3"
  },
  "language_info": {
   "codemirror_mode": {
    "name": "ipython",
    "version": 3
   },
   "file_extension": ".py",
   "mimetype": "text/x-python",
   "name": "python",
   "nbconvert_exporter": "python",
   "pygments_lexer": "ipython3",
   "version": "3.10.11"
  }
 },
 "nbformat": 4,
 "nbformat_minor": 2
}
