{
 "cells": [
  {
   "cell_type": "markdown",
   "metadata": {},
   "source": [
    "## ETL sobre el archivo review.json de la plataforma Yelp"
   ]
  },
  {
   "cell_type": "markdown",
   "metadata": {},
   "source": [
    "***Importamos las librerias***"
   ]
  },
  {
   "cell_type": "code",
   "execution_count": 1,
   "metadata": {},
   "outputs": [],
   "source": [
    "import os\n",
    "import pandas as pd\n",
    "import seaborn as sns\n",
    "import matplotlib.pyplot as plt\n",
    "from wordcloud import WordCloud\n",
    "import re"
   ]
  },
  {
   "cell_type": "markdown",
   "metadata": {},
   "source": [
    "***Para no sobrecargar la memoria e importar los datos correctamente, lo hacemos en chunks.***"
   ]
  },
  {
   "cell_type": "code",
   "execution_count": 2,
   "metadata": {},
   "outputs": [],
   "source": [
    "# Ruta del archivo\n",
    "file_path = r'C:\\Users\\Usuario\\Desktop\\HENRY\\PROYECTO FINAL\\Proyecto Final\\datasets\\Yelp\\review.json'\n",
    "\n",
    "# Leer el archivo JSON en chunks\n",
    "chunksize = 150000  # Puedes ajustar este valor según sea necesario\n",
    "\n",
    "# Crear un iterador para leer el archivo en chunks\n",
    "json_reader = pd.read_json(file_path, lines=True, chunksize=chunksize)\n",
    "\n",
    "# Inicializar un DataFrame vacío\n",
    "df_reviews_y = pd.DataFrame()\n",
    "\n",
    "# Iterar sobre los chunks y procesar cada uno\n",
    "for chunk in json_reader:\n",
    "    # Procesar el chunk\n",
    "    df_reviews_y = pd.concat([df_reviews_y, chunk])"
   ]
  },
  {
   "cell_type": "markdown",
   "metadata": {},
   "source": [
    "***Visualizamos la cantidad de registros***"
   ]
  },
  {
   "cell_type": "code",
   "execution_count": 3,
   "metadata": {},
   "outputs": [
    {
     "data": {
      "text/plain": [
       "6990280"
      ]
     },
     "execution_count": 3,
     "metadata": {},
     "output_type": "execute_result"
    }
   ],
   "source": [
    "len(df_reviews_y)"
   ]
  },
  {
   "cell_type": "markdown",
   "metadata": {},
   "source": [
    "***Filtramos el Dataset de las reviews, vinculandolo con el dataset de locales y dejando asi, solamente las reviews que sean de estado de California***"
   ]
  },
  {
   "cell_type": "code",
   "execution_count": 5,
   "metadata": {},
   "outputs": [],
   "source": [
    "# Ruta del archivo Parquet\n",
    "parquet_path = r'C:\\Users\\Usuario\\Desktop\\HENRY\\PROYECTO FINAL\\repo\\epicurean_project\\DATA\\data parcial\\locales_gastronomicos_yelp.parquet'\n",
    "\n",
    "# Cargar la columna 'business_id' desde el archivo Parquet\n",
    "busines_id_locales = pd.read_parquet(parquet_path, columns=['business_id'])\n",
    "\n",
    "# Filtrar los registros que coincidan en la columna 'business_id'\n",
    "df_reviews_y = df_reviews_y[df_reviews_y['business_id'].isin(busines_id_locales['business_id'])]"
   ]
  },
  {
   "cell_type": "markdown",
   "metadata": {},
   "source": [
    "***Visualizamos nuevamente la cantidad de registros obtenida***"
   ]
  },
  {
   "cell_type": "code",
   "execution_count": 6,
   "metadata": {},
   "outputs": [
    {
     "data": {
      "text/plain": [
       "214"
      ]
     },
     "execution_count": 6,
     "metadata": {},
     "output_type": "execute_result"
    }
   ],
   "source": [
    "len(df_reviews_y)"
   ]
  },
  {
   "cell_type": "markdown",
   "metadata": {},
   "source": [
    "Como podemos observar, sólo contamos con 214 registros, lo que torna estos datos en irrelevantes de cara a nuestro análisis."
   ]
  }
 ],
 "metadata": {
  "kernelspec": {
   "display_name": "Python 3",
   "language": "python",
   "name": "python3"
  },
  "language_info": {
   "codemirror_mode": {
    "name": "ipython",
    "version": 3
   },
   "file_extension": ".py",
   "mimetype": "text/x-python",
   "name": "python",
   "nbconvert_exporter": "python",
   "pygments_lexer": "ipython3",
   "version": "3.10.11"
  }
 },
 "nbformat": 4,
 "nbformat_minor": 2
}
