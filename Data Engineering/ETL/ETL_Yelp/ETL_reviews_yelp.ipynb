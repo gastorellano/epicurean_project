{
 "cells": [
  {
   "cell_type": "code",
   "execution_count": 28,
   "metadata": {},
   "outputs": [],
   "source": [
    "import os\n",
    "import pandas as pd\n",
    "import seaborn as sns\n",
    "import matplotlib.pyplot as plt\n",
    "from wordcloud import WordCloud\n",
    "import re"
   ]
  },
  {
   "cell_type": "code",
   "execution_count": 29,
   "metadata": {},
   "outputs": [],
   "source": [
    "# Ruta del archivo\n",
    "file_path = r'C:\\Users\\Usuario\\Desktop\\HENRY\\PROYECTO FINAL\\Proyecto Final\\datasets\\Yelp\\review.json'\n",
    "\n",
    "# Leer el archivo JSON en chunks\n",
    "chunksize = 150000  # Puedes ajustar este valor según sea necesario\n",
    "\n",
    "# Crear un iterador para leer el archivo en chunks\n",
    "json_reader = pd.read_json(file_path, lines=True, chunksize=chunksize)\n",
    "\n",
    "# Inicializar un DataFrame vacío\n",
    "df_reviews_y = pd.DataFrame()\n",
    "\n",
    "# Iterar sobre los chunks y procesar cada uno\n",
    "for chunk in json_reader:\n",
    "    # Procesar el chunk (aquí podrías hacer operaciones con los datos)\n",
    "    df_reviews_y = pd.concat([df_reviews_y, chunk])"
   ]
  },
  {
   "cell_type": "code",
   "execution_count": 12,
   "metadata": {},
   "outputs": [
    {
     "data": {
      "text/plain": [
       "6990280"
      ]
     },
     "execution_count": 12,
     "metadata": {},
     "output_type": "execute_result"
    }
   ],
   "source": [
    "len(df_reviews_y)"
   ]
  },
  {
   "cell_type": "code",
   "execution_count": 27,
   "metadata": {},
   "outputs": [
    {
     "name": "stdout",
     "output_type": "stream",
     "text": [
      "Número de 'business_id' en común: 150346\n",
      "Todos los 'business_id' en df_reviews_y están presentes en busines_id_locales.\n"
     ]
    }
   ],
   "source": [
    "import pandas as pd\n",
    "\n",
    "# Supongo que ya has cargado y limpiado ambos DataFrames\n",
    "# busines_id_locales y df_reviews_y\n",
    "\n",
    "# Crear sets para una comparación rápida\n",
    "business_id_set = set(busines_id_locales['business_id'])\n",
    "reviews_id_set = set(df_reviews_y['business_id'])\n",
    "\n",
    "# Calcular la intersección\n",
    "common_ids = business_id_set.intersection(reviews_id_set)\n",
    "num_common_ids = len(common_ids)\n",
    "print(f\"Número de 'business_id' en común: {num_common_ids}\")\n",
    "\n",
    "# Comparar con el número de 'business_id' únicos en df_reviews_y\n",
    "if num_common_ids == df_reviews_y['business_id'].nunique():\n",
    "    print(\"Todos los 'business_id' en df_reviews_y están presentes en busines_id_locales.\")\n",
    "else:\n",
    "    print(\"Algunos 'business_id' en df_reviews_y NO están presentes en busines_id_locales.\")\n",
    "\n"
   ]
  },
  {
   "cell_type": "code",
   "execution_count": 20,
   "metadata": {},
   "outputs": [
    {
     "data": {
      "text/plain": [
       "6990280"
      ]
     },
     "execution_count": 20,
     "metadata": {},
     "output_type": "execute_result"
    }
   ],
   "source": [
    "len(df_reviews_y)"
   ]
  }
 ],
 "metadata": {
  "kernelspec": {
   "display_name": "Python 3",
   "language": "python",
   "name": "python3"
  },
  "language_info": {
   "codemirror_mode": {
    "name": "ipython",
    "version": 3
   },
   "file_extension": ".py",
   "mimetype": "text/x-python",
   "name": "python",
   "nbconvert_exporter": "python",
   "pygments_lexer": "ipython3",
   "version": "3.10.11"
  }
 },
 "nbformat": 4,
 "nbformat_minor": 2
}
