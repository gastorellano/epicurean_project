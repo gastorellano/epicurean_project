{
 "cells": [
  {
   "cell_type": "markdown",
   "metadata": {},
   "source": [
    "# *ETL realizado sobre los datos de Google*"
   ]
  },
  {
   "cell_type": "markdown",
   "metadata": {},
   "source": [
    "## Comenzamos con el dataset de las reviews"
   ]
  },
  {
   "cell_type": "markdown",
   "metadata": {},
   "source": [
    "***importamos librerias a utilizar***"
   ]
  },
  {
   "cell_type": "code",
   "execution_count": 1,
   "metadata": {},
   "outputs": [],
   "source": [
    "import os\n",
    "import pandas as pd\n",
    "import seaborn as sns\n",
    "import matplotlib.pyplot as plt\n",
    "from wordcloud import WordCloud\n",
    "import numpy as np\n",
    "import re"
   ]
  },
  {
   "cell_type": "markdown",
   "metadata": {},
   "source": [
    "***Extraemos los datos***"
   ]
  },
  {
   "cell_type": "code",
   "execution_count": 2,
   "metadata": {},
   "outputs": [],
   "source": [
    "# Especifica la ruta de la carpeta donde están los archivos JSON\n",
    "folder_path = r'C:\\Users\\GASTON\\Desktop\\PROYECTO FINAL\\DATA\\data parcial\\reviews_estados'\n",
    "\n",
    "# Obtiene los todos los archivos de la carpeta\n",
    "files = os.listdir(folder_path)\n",
    "dataframes = []\n",
    "\n",
    "# Leer cada archivo JSON línea por línea\n",
    "for file_name in files:\n",
    "    if file_name.endswith('.json'):  # Asegurarse de que solo se lean los archivos JSON\n",
    "        file_path = os.path.join(folder_path, file_name)\n",
    "        try:\n",
    "            df = pd.read_json(file_path, lines=True)  # Leer el archivo JSON línea por línea\n",
    "            dataframes.append(df)\n",
    "        except ValueError as e:\n",
    "            print(f\"Error leyendo {file_name}: {e}\")\n",
    "\n",
    "# Concatenar todos los DataFrames en uno solo\n",
    "df_reviews_g = pd.concat(dataframes, ignore_index=True)\n"
   ]
  },
  {
   "cell_type": "code",
   "execution_count": 4,
   "metadata": {},
   "outputs": [],
   "source": [
    "df_reviews_g.to_parquet(r'C:\\Users\\GASTON\\Desktop\\PROYECTO FINAL\\DATA\\data parcial\\reviews_unificado.parquet')"
   ]
  },
  {
   "cell_type": "markdown",
   "metadata": {},
   "source": [
    "*Se puede iniciar desde aqui con el archivo ya unificado*"
   ]
  },
  {
   "cell_type": "code",
   "execution_count": 2,
   "metadata": {},
   "outputs": [],
   "source": [
    "df_reviews_g = pd.read_parquet(r'C:\\Users\\GASTON\\Desktop\\PROYECTO FINAL\\DATA\\data parcial\\reviews_unificado.parquet')"
   ]
  },
  {
   "cell_type": "markdown",
   "metadata": {},
   "source": [
    "***Visualizamos la cantidad de registros de este Dataset***"
   ]
  },
  {
   "cell_type": "code",
   "execution_count": 3,
   "metadata": {},
   "outputs": [
    {
     "data": {
      "text/plain": [
       "2700000"
      ]
     },
     "execution_count": 3,
     "metadata": {},
     "output_type": "execute_result"
    }
   ],
   "source": [
    "len(df_reviews_g)"
   ]
  },
  {
   "cell_type": "markdown",
   "metadata": {},
   "source": [
    "***Transformaciones iniciales***"
   ]
  },
  {
   "cell_type": "code",
   "execution_count": 4,
   "metadata": {},
   "outputs": [],
   "source": [
    "# Eliminar la columna 'pics' ya que no la necesitamos para este analisis\n",
    "df_reviews_g.drop(columns=['pics'], inplace=True)\n",
    "\n",
    "# Convertir los diccionarios en la columna 'resp' a cadenas de texto\n",
    "df_reviews_g['resp'] = df_reviews_g['resp'].apply(lambda x: str(x) if isinstance(x, dict) else x)\n",
    "\n",
    "# Convertir la columna 'time' a formato de fecha\n",
    "df_reviews_g['time'] = pd.to_datetime(df_reviews_g['time'], unit='ms')\n",
    "\n",
    "# Eliminar duplicados\n",
    "df_reviews_g.drop_duplicates(inplace=True)"
   ]
  },
  {
   "cell_type": "markdown",
   "metadata": {},
   "source": [
    "Se realizan las primeras transformaciones del dataset. Se convierten diccionarios a strings, y la columna time a datetime.\n",
    "Además, se eliminan duplicados y la columna pics (la cual se había determinado que no era necesaria en el análisis preliminar)."
   ]
  },
  {
   "cell_type": "markdown",
   "metadata": {},
   "source": [
    "***Cambiamos la columna time para obtener de ella tan solo el dia/mes/año de la misma***"
   ]
  },
  {
   "cell_type": "code",
   "execution_count": 5,
   "metadata": {},
   "outputs": [],
   "source": [
    "# Extraer solo el día/mes/año (formato 'dd/mm/yyyy')\n",
    "df_reviews_g['time'] = df_reviews_g['time'].dt.strftime('%d/%m/%Y')"
   ]
  },
  {
   "cell_type": "markdown",
   "metadata": {},
   "source": [
    "**En un analisis de primera instancia, determinamos tambien, que la funcionalidad de hacer una reseña en un local existente en Google Maps se agrego en el año 2007. Por lo tanto todas las reseñas previas a este año las consideramos erroneas y son descartadas.**"
   ]
  },
  {
   "cell_type": "code",
   "execution_count": 6,
   "metadata": {},
   "outputs": [],
   "source": [
    "# Asegurarse de que la columna 'time' esté en formato datetime\n",
    "df_reviews_g['time'] = pd.to_datetime(df_reviews_g['time'], errors='coerce')\n",
    "\n",
    "# Detectar outliers en 'time' (fechas fuera del rango)\n",
    "min_date = pd.to_datetime('2007-06-01')\n",
    "max_date = pd.to_datetime('today')\n",
    "\n",
    "# Filtrar las filas que tienen fechas fuera de este rango\n",
    "outliers_time = df_reviews_g[(df_reviews_g['time'] < min_date) | (df_reviews_g['time'] > max_date)]\n",
    "\n",
    "# Eliminamos estos outliers\n",
    "df_reviews_g = df_reviews_g[(df_reviews_g['time'] >= min_date) & (df_reviews_g['time'] <= max_date)]"
   ]
  },
  {
   "cell_type": "markdown",
   "metadata": {},
   "source": [
    "***Eliminamos la columna 'resp' ya que no la necesitamos para este analisis***"
   ]
  },
  {
   "metadata": {},
   "cell_type": "markdown",
   "source": ""
  },
  {
   "cell_type": "code",
   "execution_count": 7,
   "metadata": {},
   "outputs": [],
   "source": [
    "df_reviews_g = df_reviews_g.drop(columns=['resp'])"
   ]
  },
  {
   "cell_type": "markdown",
   "metadata": {},
   "source": [
    "***Reemplazamos valores nulos en la columna 'review_text' con 'Sin Reseña'***"
   ]
  },
  {
   "cell_type": "code",
   "execution_count": 8,
   "metadata": {},
   "outputs": [],
   "source": [
    "df_reviews_g['text'] = df_reviews_g['text'].fillna('Sin Reseña')"
   ]
  },
  {
   "cell_type": "markdown",
   "metadata": {},
   "source": [
    "***Luego de estas transformaciones, revisamos nuevamente la cantidad de registros***"
   ]
  },
  {
   "cell_type": "code",
   "execution_count": 9,
   "metadata": {},
   "outputs": [
    {
     "data": {
      "text/plain": [
       "1046874"
      ]
     },
     "execution_count": 9,
     "metadata": {},
     "output_type": "execute_result"
    }
   ],
   "source": [
    "len(df_reviews_g)"
   ]
  },
  {
   "cell_type": "code",
   "execution_count": 10,
   "metadata": {},
   "outputs": [
    {
     "data": {
      "text/html": [
       "<div>\n",
       "<style scoped>\n",
       "    .dataframe tbody tr th:only-of-type {\n",
       "        vertical-align: middle;\n",
       "    }\n",
       "\n",
       "    .dataframe tbody tr th {\n",
       "        vertical-align: top;\n",
       "    }\n",
       "\n",
       "    .dataframe thead th {\n",
       "        text-align: right;\n",
       "    }\n",
       "</style>\n",
       "<table border=\"1\" class=\"dataframe\">\n",
       "  <thead>\n",
       "    <tr style=\"text-align: right;\">\n",
       "      <th></th>\n",
       "      <th>user_id</th>\n",
       "      <th>name</th>\n",
       "      <th>time</th>\n",
       "      <th>rating</th>\n",
       "      <th>text</th>\n",
       "      <th>gmap_id</th>\n",
       "    </tr>\n",
       "  </thead>\n",
       "  <tbody>\n",
       "    <tr>\n",
       "      <th>0</th>\n",
       "      <td>1.089912e+20</td>\n",
       "      <td>Song Ro</td>\n",
       "      <td>2021-06-01</td>\n",
       "      <td>5</td>\n",
       "      <td>Love there korean rice cake.</td>\n",
       "      <td>0x80c2c778e3b73d33:0xbdc58662a4a97d49</td>\n",
       "    </tr>\n",
       "    <tr>\n",
       "      <th>1</th>\n",
       "      <td>1.112903e+20</td>\n",
       "      <td>Rafa Robles</td>\n",
       "      <td>2021-09-02</td>\n",
       "      <td>5</td>\n",
       "      <td>Good very good</td>\n",
       "      <td>0x80c2c778e3b73d33:0xbdc58662a4a97d49</td>\n",
       "    </tr>\n",
       "    <tr>\n",
       "      <th>2</th>\n",
       "      <td>1.126404e+20</td>\n",
       "      <td>David Han</td>\n",
       "      <td>2020-08-03</td>\n",
       "      <td>4</td>\n",
       "      <td>They make Korean traditional food very properly.</td>\n",
       "      <td>0x80c2c778e3b73d33:0xbdc58662a4a97d49</td>\n",
       "    </tr>\n",
       "  </tbody>\n",
       "</table>\n",
       "</div>"
      ],
      "text/plain": [
       "        user_id         name       time  rating  \\\n",
       "0  1.089912e+20      Song Ro 2021-06-01       5   \n",
       "1  1.112903e+20  Rafa Robles 2021-09-02       5   \n",
       "2  1.126404e+20    David Han 2020-08-03       4   \n",
       "\n",
       "                                               text  \\\n",
       "0                      Love there korean rice cake.   \n",
       "1                                    Good very good   \n",
       "2  They make Korean traditional food very properly.   \n",
       "\n",
       "                                 gmap_id  \n",
       "0  0x80c2c778e3b73d33:0xbdc58662a4a97d49  \n",
       "1  0x80c2c778e3b73d33:0xbdc58662a4a97d49  \n",
       "2  0x80c2c778e3b73d33:0xbdc58662a4a97d49  "
      ]
     },
     "execution_count": 10,
     "metadata": {},
     "output_type": "execute_result"
    }
   ],
   "source": [
    "df_reviews_g.head(3)"
   ]
  },
  {
   "cell_type": "markdown",
   "metadata": {},
   "source": [
    "## Pasamos al dataset sobre los Metadatos"
   ]
  },
  {
   "cell_type": "markdown",
   "metadata": {},
   "source": [
    "***Extraemos los datos***"
   ]
  },
  {
   "cell_type": "code",
   "execution_count": 13,
   "metadata": {},
   "outputs": [],
   "source": [
    "# Ruta del archivo .pkl\n",
    "folder_path = r'C:\\Users\\GASTON\\Desktop\\PROYECTO FINAL\\DATA\\data parcial\\metadata-sitios\\metadata-sitios'\n",
    "\n",
    "# Obtiene los todos los archivos de la carpeta\n",
    "files = os.listdir(folder_path)\n",
    "dataframes = []\n",
    "\n",
    "# Leer cada archivo JSON línea por línea\n",
    "for file_name in files:\n",
    "    if file_name.endswith('.json'):  # Asegurarse de que solo se lean los archivos JSON\n",
    "        file_path = os.path.join(folder_path, file_name)\n",
    "        try:\n",
    "            df = pd.read_json(file_path, lines=True)  # Leer el archivo JSON línea por línea\n",
    "            dataframes.append(df)\n",
    "        except ValueError as e:\n",
    "            print(f\"Error leyendo {file_name}: {e}\")\n",
    "\n",
    "# Concatenar todos los DataFrames en uno solo\n",
    "df_business_google = pd.concat(dataframes, ignore_index=True)"
   ]
  },
  {
   "cell_type": "code",
   "execution_count": 14,
   "metadata": {},
   "outputs": [],
   "source": [
    "df_business_google.to_parquet(r'C:\\Users\\GASTON\\Desktop\\PROYECTO FINAL\\DATA\\data parcial\\metadatos_unificado.parquet')"
   ]
  },
  {
   "cell_type": "markdown",
   "metadata": {},
   "source": [
    "**Se puede iniciar desde aquí con el dataset ya generado**"
   ]
  },
  {
   "cell_type": "code",
   "execution_count": 18,
   "metadata": {},
   "outputs": [],
   "source": [
    "df_business_google = pd.read_parquet(r'C:\\Users\\GASTON\\Desktop\\PROYECTO FINAL\\DATA\\data parcial\\metadatos_unificado.parquet')"
   ]
  },
  {
   "cell_type": "code",
   "execution_count": 12,
   "metadata": {},
   "outputs": [
    {
     "data": {
      "text/html": [
       "<div>\n",
       "<style scoped>\n",
       "    .dataframe tbody tr th:only-of-type {\n",
       "        vertical-align: middle;\n",
       "    }\n",
       "\n",
       "    .dataframe tbody tr th {\n",
       "        vertical-align: top;\n",
       "    }\n",
       "\n",
       "    .dataframe thead th {\n",
       "        text-align: right;\n",
       "    }\n",
       "</style>\n",
       "<table border=\"1\" class=\"dataframe\">\n",
       "  <thead>\n",
       "    <tr style=\"text-align: right;\">\n",
       "      <th></th>\n",
       "      <th>name</th>\n",
       "      <th>address</th>\n",
       "      <th>gmap_id</th>\n",
       "      <th>description</th>\n",
       "      <th>latitude</th>\n",
       "      <th>longitude</th>\n",
       "      <th>category</th>\n",
       "      <th>avg_rating</th>\n",
       "      <th>num_of_reviews</th>\n",
       "      <th>price</th>\n",
       "      <th>hours</th>\n",
       "      <th>MISC</th>\n",
       "      <th>state</th>\n",
       "      <th>relative_results</th>\n",
       "      <th>url</th>\n",
       "    </tr>\n",
       "  </thead>\n",
       "  <tbody>\n",
       "    <tr>\n",
       "      <th>0</th>\n",
       "      <td>Porter Pharmacy</td>\n",
       "      <td>Porter Pharmacy, 129 N Second St, Cochran, GA ...</td>\n",
       "      <td>0x88f16e41928ff687:0x883dad4fd048e8f8</td>\n",
       "      <td>None</td>\n",
       "      <td>32.388300</td>\n",
       "      <td>-83.35710</td>\n",
       "      <td>[Pharmacy]</td>\n",
       "      <td>4.9</td>\n",
       "      <td>16</td>\n",
       "      <td>None</td>\n",
       "      <td>[[Friday, 8AM–6PM], [Saturday, 8AM–12PM], [Sun...</td>\n",
       "      <td>{'Accessibility': ['Wheelchair accessible entr...</td>\n",
       "      <td>Open ⋅ Closes 6PM</td>\n",
       "      <td>[0x88f16e41929435cf:0x5b2532a2885e9ef6, 0x88f1...</td>\n",
       "      <td>https://www.google.com/maps/place//data=!4m2!3...</td>\n",
       "    </tr>\n",
       "    <tr>\n",
       "      <th>1</th>\n",
       "      <td>City Textile</td>\n",
       "      <td>City Textile, 3001 E Pico Blvd, Los Angeles, C...</td>\n",
       "      <td>0x80c2c98c0e3c16fd:0x29ec8a728764fdf9</td>\n",
       "      <td>None</td>\n",
       "      <td>34.018891</td>\n",
       "      <td>-118.21529</td>\n",
       "      <td>[Textile exporter]</td>\n",
       "      <td>4.5</td>\n",
       "      <td>6</td>\n",
       "      <td>None</td>\n",
       "      <td>None</td>\n",
       "      <td>None</td>\n",
       "      <td>Open now</td>\n",
       "      <td>[0x80c2c624136ea88b:0xb0315367ed448771, 0x80c2...</td>\n",
       "      <td>https://www.google.com/maps/place//data=!4m2!3...</td>\n",
       "    </tr>\n",
       "    <tr>\n",
       "      <th>2</th>\n",
       "      <td>San Soo Dang</td>\n",
       "      <td>San Soo Dang, 761 S Vermont Ave, Los Angeles, ...</td>\n",
       "      <td>0x80c2c778e3b73d33:0xbdc58662a4a97d49</td>\n",
       "      <td>None</td>\n",
       "      <td>34.058092</td>\n",
       "      <td>-118.29213</td>\n",
       "      <td>[Korean restaurant]</td>\n",
       "      <td>4.4</td>\n",
       "      <td>18</td>\n",
       "      <td>None</td>\n",
       "      <td>[[Thursday, 6:30AM–6PM], [Friday, 6:30AM–6PM],...</td>\n",
       "      <td>{'Accessibility': ['Wheelchair accessible entr...</td>\n",
       "      <td>Open ⋅ Closes 6PM</td>\n",
       "      <td>[0x80c2c78249aba68f:0x35bf16ce61be751d, 0x80c2...</td>\n",
       "      <td>https://www.google.com/maps/place//data=!4m2!3...</td>\n",
       "    </tr>\n",
       "  </tbody>\n",
       "</table>\n",
       "</div>"
      ],
      "text/plain": [
       "              name                                            address  \\\n",
       "0  Porter Pharmacy  Porter Pharmacy, 129 N Second St, Cochran, GA ...   \n",
       "1     City Textile  City Textile, 3001 E Pico Blvd, Los Angeles, C...   \n",
       "2     San Soo Dang  San Soo Dang, 761 S Vermont Ave, Los Angeles, ...   \n",
       "\n",
       "                                 gmap_id description   latitude  longitude  \\\n",
       "0  0x88f16e41928ff687:0x883dad4fd048e8f8        None  32.388300  -83.35710   \n",
       "1  0x80c2c98c0e3c16fd:0x29ec8a728764fdf9        None  34.018891 -118.21529   \n",
       "2  0x80c2c778e3b73d33:0xbdc58662a4a97d49        None  34.058092 -118.29213   \n",
       "\n",
       "              category  avg_rating  num_of_reviews price  \\\n",
       "0           [Pharmacy]         4.9              16  None   \n",
       "1   [Textile exporter]         4.5               6  None   \n",
       "2  [Korean restaurant]         4.4              18  None   \n",
       "\n",
       "                                               hours  \\\n",
       "0  [[Friday, 8AM–6PM], [Saturday, 8AM–12PM], [Sun...   \n",
       "1                                               None   \n",
       "2  [[Thursday, 6:30AM–6PM], [Friday, 6:30AM–6PM],...   \n",
       "\n",
       "                                                MISC              state  \\\n",
       "0  {'Accessibility': ['Wheelchair accessible entr...  Open ⋅ Closes 6PM   \n",
       "1                                               None           Open now   \n",
       "2  {'Accessibility': ['Wheelchair accessible entr...  Open ⋅ Closes 6PM   \n",
       "\n",
       "                                    relative_results  \\\n",
       "0  [0x88f16e41929435cf:0x5b2532a2885e9ef6, 0x88f1...   \n",
       "1  [0x80c2c624136ea88b:0xb0315367ed448771, 0x80c2...   \n",
       "2  [0x80c2c78249aba68f:0x35bf16ce61be751d, 0x80c2...   \n",
       "\n",
       "                                                 url  \n",
       "0  https://www.google.com/maps/place//data=!4m2!3...  \n",
       "1  https://www.google.com/maps/place//data=!4m2!3...  \n",
       "2  https://www.google.com/maps/place//data=!4m2!3...  "
      ]
     },
     "execution_count": 12,
     "metadata": {},
     "output_type": "execute_result"
    }
   ],
   "source": [
    "df_business_google.head(3)"
   ]
  },
  {
   "cell_type": "markdown",
   "metadata": {},
   "source": [
    "***Verificamos la cantidad de registros***"
   ]
  },
  {
   "cell_type": "code",
   "execution_count": 11,
   "metadata": {},
   "outputs": [
    {
     "data": {
      "text/plain": [
       "3025011"
      ]
     },
     "execution_count": 11,
     "metadata": {},
     "output_type": "execute_result"
    }
   ],
   "source": [
    "len(df_business_google)"
   ]
  },
  {
   "cell_type": "markdown",
   "metadata": {},
   "source": [
    "***Desanidamos Misc***"
   ]
  },
  {
   "cell_type": "code",
   "execution_count": 19,
   "metadata": {},
   "outputs": [],
   "source": [
    "# Desanidar la columna 'MISC' que contiene JSON\n",
    "misc_expanded = pd.json_normalize(df_business_google['MISC'])\n",
    "\n",
    "# Combinar las columnas desanidadas con el DataFrame original\n",
    "df_business_google = pd.concat([df_business_google, misc_expanded], axis=1)\n",
    "\n",
    "# Eliminar la columna original 'MISC'\n",
    "df_business_google = df_business_google.drop(columns=['MISC'])\n",
    "\n",
    "# Convertir listas o arrays en cadenas separadas por comas en todas las columnas\n",
    "df_business_google = df_business_google.apply(\n",
    "    lambda col: col.apply(lambda x: ', '.join(map(str, x)) if isinstance(x, (list, np.ndarray)) else x)\n",
    ")"
   ]
  },
  {
   "cell_type": "markdown",
   "metadata": {},
   "source": [
    "***Hacemos transformaciones***"
   ]
  },
  {
   "cell_type": "code",
   "execution_count": 20,
   "metadata": {},
   "outputs": [],
   "source": [
    "# Listamos las columnas no deseadas\n",
    "col_eliminar = ['price', 'hours', 'url', 'Health & safety', 'Accessibility', 'Planning', 'description',\n",
    "        'Offerings', 'Amenities', 'Atmosphere', 'Payments', 'Popular for',\n",
    "        'Dining options', 'Crowd', 'From the business', 'Highlights',\n",
    "        'Recycling', 'Getting here', 'Activities', 'Lodging options',\n",
    "        'Health and safety']\n",
    "\n",
    "# Eliminamos las columnas no deseadas\n",
    "df_business_google = df_business_google.drop(columns=col_eliminar)\n",
    "\n",
    "# Eliminar filas duplicadas completamente idénticas\n",
    "df_business_google = df_business_google.drop_duplicates()\n",
    "\n",
    "# Redondear las columnas 'latitude' y 'longitude' a 7 decimales\n",
    "df_business_google['latitude'] = df_business_google['latitude'].round(7)\n",
    "df_business_google['longitude'] = df_business_google['longitude'].round(7)\n",
    "\n",
    "# Convertir la columna 'state' a tipo texto (string)\n",
    "df_business_google['state'] = df_business_google['state'].astype(str)\n",
    "\n",
    "# Eliminar filas donde 'state' es igual a 'Permanently closed'\n",
    "df_business_google = df_business_google[df_business_google['state'] != 'Permanently closed']\n",
    "\n",
    "# Rellenamos los valores nulos con el texto elegido\n",
    "df_business_google['category'] = df_business_google['category'].fillna('Valores Faltantes')\n",
    "df_business_google['relative_results'] = df_business_google['relative_results'].fillna('Sin resultados vinculados')\n",
    "df_business_google['Service options'] = df_business_google['Service options'].fillna('Sin dato')"
   ]
  },
  {
   "cell_type": "markdown",
   "metadata": {},
   "source": [
    "***Verificamos la cantidad de registros luego de los cambios realizados***"
   ]
  },
  {
   "cell_type": "code",
   "execution_count": 21,
   "metadata": {},
   "outputs": [
    {
     "data": {
      "text/plain": [
       "2809262"
      ]
     },
     "execution_count": 21,
     "metadata": {},
     "output_type": "execute_result"
    }
   ],
   "source": [
    "len(df_business_google)"
   ]
  },
  {
   "cell_type": "markdown",
   "metadata": {},
   "source": [
    "***Filtramos para dejar solo los registros con categorias que consideramos dentro de la gastronomia***"
   ]
  },
  {
   "cell_type": "code",
   "execution_count": 22,
   "metadata": {},
   "outputs": [
    {
     "name": "stderr",
     "output_type": "stream",
     "text": [
      "C:\\Users\\GASTON\\AppData\\Local\\Temp\\ipykernel_6180\\3655407268.py:5: UserWarning: This pattern is interpreted as a regular expression, and has match groups. To actually get the groups, use str.extract.\n",
      "  df_business_google = df_business_google[df_business_google['category'].str.contains(palabra, case=False, regex=True, na=False)]\n"
     ]
    }
   ],
   "source": [
    "# Definimos palabras clave a buscar luego en las categorias\n",
    "palabra = r'\\b(restaurant|cafe|delivery|diner|bistro|takeout|bar|pub|grill|pizzeria|coffee|bakery|food|eatery|sandwich|snack)\\b'\n",
    "\n",
    "# Filtrar las categorías coincidentes\n",
    "df_business_google = df_business_google[df_business_google['category'].str.contains(palabra, case=False, regex=True, na=False)]"
   ]
  },
  {
   "cell_type": "markdown",
   "metadata": {},
   "source": "***Generamos una columna \"clasificacion\" a partir de la categoria***"
  },
  {
   "cell_type": "code",
   "execution_count": 23,
   "metadata": {},
   "outputs": [],
   "source": [
    "clasificacion = {\n",
    "    'Dining Venue': ['Restaurant'],\n",
    "    'Quick Service': ['Fast food restaurant', 'Pizza restaurant', 'Pizza Takeout'],\n",
    "    'Takeout & Delivery': ['Takeout Restaurant', 'Delivery Restaurant'],\n",
    "    'Mexican Dining': ['Mexican restaurant', 'Taco restaurant'],\n",
    "    'American Dining': ['American restaurant', 'Burger restaurant'],\n",
    "    'Sandwich Bar': ['Sandwich shop'],\n",
    "    'Italian Dining': ['Italian restaurant'],\n",
    "    'Chinese Dining': ['Chinese restaurant'],\n",
    "    'Café & Coffee': ['Coffee shop', 'Cafe'],\n",
    "    'Seafood Dining': ['Seafood restaurant'],\n",
    "    'Barbecue Dining': ['Barbecue restaurant'],\n",
    "    'Asian Fusion': ['Asian restaurant', 'Sushi restaurant', 'Japanese restaurant', 'Thai restaurant'],\n",
    "    'Chicken House': ['Chicken restaurant', 'Chicken wings restaurant'],\n",
    "    'Bakery Shop': ['Bakery', 'Bakery shop'],\n",
    "    'Ice Cream Parlor': ['Ice cream shop'],\n",
    "    'Indian Dining': ['Indian restaurant'],\n",
    "    'Latin American Dining': ['Latin American restaurant'],\n",
    "    'Juice Bar': ['Juice shop'],\n",
    "    'Specialty Catering': ['Caterer'],\n",
    "    'Vegetarian Dining': ['Vegetarian restaurant'],\n",
    "    'Vietnamese Dining': ['Vietnamese Restaurant'],\n",
    "    'Health Foods': ['Health food store', 'Health Food', 'Green Food']\n",
    "}\n",
    "\n",
    "\n",
    "def assign_group(category):\n",
    "    \"\"\"\n",
    "    \n",
    "    \"\"\"\n",
    "    if pd.isna(category):  # Si la categoría es Nula\n",
    "        return 'Other'\n",
    "    for key, values in clasificacion.items():\n",
    "        for value in values:\n",
    "            if value.lower() in category.lower():\n",
    "                return key\n",
    "    return 'Other'\n",
    "\n",
    "df_business_google['clasificacion'] = df_business_google['category'].map(assign_group)"
   ]
  },
  {
   "cell_type": "code",
   "execution_count": 24,
   "metadata": {},
   "outputs": [],
   "source": [
    "df_business_google = df_business_google[df_business_google['clasificacion'] != 'Other']"
   ]
  },
  {
   "cell_type": "code",
   "execution_count": 25,
   "metadata": {},
   "outputs": [
    {
     "data": {
      "text/html": [
       "<div>\n",
       "<style scoped>\n",
       "    .dataframe tbody tr th:only-of-type {\n",
       "        vertical-align: middle;\n",
       "    }\n",
       "\n",
       "    .dataframe tbody tr th {\n",
       "        vertical-align: top;\n",
       "    }\n",
       "\n",
       "    .dataframe thead th {\n",
       "        text-align: right;\n",
       "    }\n",
       "</style>\n",
       "<table border=\"1\" class=\"dataframe\">\n",
       "  <thead>\n",
       "    <tr style=\"text-align: right;\">\n",
       "      <th></th>\n",
       "      <th>name</th>\n",
       "      <th>address</th>\n",
       "      <th>gmap_id</th>\n",
       "      <th>latitude</th>\n",
       "      <th>longitude</th>\n",
       "      <th>category</th>\n",
       "      <th>avg_rating</th>\n",
       "      <th>num_of_reviews</th>\n",
       "      <th>state</th>\n",
       "      <th>relative_results</th>\n",
       "      <th>Service options</th>\n",
       "      <th>clasificacion</th>\n",
       "    </tr>\n",
       "  </thead>\n",
       "  <tbody>\n",
       "    <tr>\n",
       "      <th>2</th>\n",
       "      <td>San Soo Dang</td>\n",
       "      <td>San Soo Dang, 761 S Vermont Ave, Los Angeles, ...</td>\n",
       "      <td>0x80c2c778e3b73d33:0xbdc58662a4a97d49</td>\n",
       "      <td>34.058092</td>\n",
       "      <td>-118.292130</td>\n",
       "      <td>Korean restaurant</td>\n",
       "      <td>4.4</td>\n",
       "      <td>18</td>\n",
       "      <td>Open ⋅ Closes 6PM</td>\n",
       "      <td>0x80c2c78249aba68f:0x35bf16ce61be751d, 0x80c2c...</td>\n",
       "      <td>Takeout, Dine-in, Delivery</td>\n",
       "      <td>Dining Venue</td>\n",
       "    </tr>\n",
       "    <tr>\n",
       "      <th>6</th>\n",
       "      <td>Vons Chicken</td>\n",
       "      <td>Vons Chicken, 12740 La Mirada Blvd, La Mirada,...</td>\n",
       "      <td>0x80dd2b4c8555edb7:0xfc33d65c4bdbef42</td>\n",
       "      <td>33.916402</td>\n",
       "      <td>-118.010855</td>\n",
       "      <td>Restaurant</td>\n",
       "      <td>4.5</td>\n",
       "      <td>18</td>\n",
       "      <td>Open ⋅ Closes 9:30PM</td>\n",
       "      <td>Sin resultados vinculados</td>\n",
       "      <td>Outdoor seating, Curbside pickup, No-contact d...</td>\n",
       "      <td>Dining Venue</td>\n",
       "    </tr>\n",
       "    <tr>\n",
       "      <th>68</th>\n",
       "      <td>Vivi Bubble Tea</td>\n",
       "      <td>Vivi Bubble Tea, 701 S 5th St, Philadelphia, P...</td>\n",
       "      <td>0x89c6c89efcaed69d:0xded973f6033e7dba</td>\n",
       "      <td>39.940293</td>\n",
       "      <td>-75.150923</td>\n",
       "      <td>Restaurant</td>\n",
       "      <td>4.0</td>\n",
       "      <td>8</td>\n",
       "      <td>None</td>\n",
       "      <td>0x89c6c62a40f4b733:0x73bfeec1898f272b, 0x89c6d...</td>\n",
       "      <td>Delivery</td>\n",
       "      <td>Dining Venue</td>\n",
       "    </tr>\n",
       "  </tbody>\n",
       "</table>\n",
       "</div>"
      ],
      "text/plain": [
       "               name                                            address  \\\n",
       "2      San Soo Dang  San Soo Dang, 761 S Vermont Ave, Los Angeles, ...   \n",
       "6      Vons Chicken  Vons Chicken, 12740 La Mirada Blvd, La Mirada,...   \n",
       "68  Vivi Bubble Tea  Vivi Bubble Tea, 701 S 5th St, Philadelphia, P...   \n",
       "\n",
       "                                  gmap_id   latitude   longitude  \\\n",
       "2   0x80c2c778e3b73d33:0xbdc58662a4a97d49  34.058092 -118.292130   \n",
       "6   0x80dd2b4c8555edb7:0xfc33d65c4bdbef42  33.916402 -118.010855   \n",
       "68  0x89c6c89efcaed69d:0xded973f6033e7dba  39.940293  -75.150923   \n",
       "\n",
       "             category  avg_rating  num_of_reviews                 state  \\\n",
       "2   Korean restaurant         4.4              18     Open ⋅ Closes 6PM   \n",
       "6          Restaurant         4.5              18  Open ⋅ Closes 9:30PM   \n",
       "68         Restaurant         4.0               8                  None   \n",
       "\n",
       "                                     relative_results  \\\n",
       "2   0x80c2c78249aba68f:0x35bf16ce61be751d, 0x80c2c...   \n",
       "6                           Sin resultados vinculados   \n",
       "68  0x89c6c62a40f4b733:0x73bfeec1898f272b, 0x89c6d...   \n",
       "\n",
       "                                      Service options clasificacion  \n",
       "2                          Takeout, Dine-in, Delivery  Dining Venue  \n",
       "6   Outdoor seating, Curbside pickup, No-contact d...  Dining Venue  \n",
       "68                                           Delivery  Dining Venue  "
      ]
     },
     "execution_count": 25,
     "metadata": {},
     "output_type": "execute_result"
    }
   ],
   "source": [
    "df_business_google.head(3)"
   ]
  },
  {
   "cell_type": "markdown",
   "metadata": {},
   "source": [
    "### Filtramos los datos mediante el uso de la columna gmap_id (compartida por ambos datasets) para asi dejar tan solo los datos de california en el Dataframe con los datos de los locales."
   ]
  },
  {
   "cell_type": "code",
   "execution_count": 26,
   "metadata": {},
   "outputs": [],
   "source": [
    "# Filtrar los registros en df_business_google que coincidan en la columna 'gmap_id'\n",
    "df_business_google = df_business_google[df_business_google['gmap_id'].isin(df_reviews_g['gmap_id'])]"
   ]
  },
  {
   "cell_type": "markdown",
   "metadata": {},
   "source": [
    "***Verificamos nuevamente la cantidad de registros para comparar***"
   ]
  },
  {
   "cell_type": "code",
   "execution_count": 27,
   "metadata": {},
   "outputs": [
    {
     "data": {
      "text/plain": [
       "7918"
      ]
     },
     "execution_count": 27,
     "metadata": {},
     "output_type": "execute_result"
    }
   ],
   "source": [
    "len(df_business_google)"
   ]
  },
  {
   "cell_type": "markdown",
   "metadata": {},
   "source": [
    "### Realizamos Ultimas transformaciones al Dataset de business de Google"
   ]
  },
  {
   "cell_type": "markdown",
   "metadata": {},
   "source": [
    "***Eliminamos los valores nulos de address***"
   ]
  },
  {
   "cell_type": "code",
   "execution_count": 28,
   "metadata": {},
   "outputs": [],
   "source": [
    "# Eliminar las filas que tienen valores nulos en la columna 'address'\n",
    "df_business_google = df_business_google.dropna(subset=['address'])"
   ]
  },
  {
   "cell_type": "markdown",
   "metadata": {},
   "source": [
    "***Este codigo extrae la ciudad y direccion en columnas separadas despues de considerar los posibles problemas de carga, se eliminaran valores nulos que queden en el dataframe luego de este proceso***"
   ]
  },
  {
   "cell_type": "code",
   "execution_count": 29,
   "metadata": {},
   "outputs": [],
   "source": [
    "# Función para extraer dirección y ciudad de la columna 'address'\n",
    "def extract_address_city(row):\n",
    "    # Verificar si el valor en 'address' no es nulo\n",
    "    if pd.isnull(row['address']):\n",
    "        return pd.Series([None, None])\n",
    "    \n",
    "    # Verificar si el nombre contiene una coma\n",
    "    if ',' in row['name']:\n",
    "        # Si hay coma en el nombre, ajustamos el patrón para excluir el nombre del análisis\n",
    "        # Permitimos caracteres especiales en la dirección y ciudad\n",
    "        address_pattern = r'(?P<address>.*?),\\s*(?P<city>[A-Za-z\\s\\'•\\-]+),\\s*(?P<state_zip>[A-Z]{2}\\s\\d{5})'\n",
    "        match = re.search(address_pattern, row['address'])\n",
    "    else:\n",
    "        # Usamos el patrón completo con nombre\n",
    "        # Permitimos caracteres especiales en el nombre, dirección y ciudad\n",
    "        address_pattern = r'(?P<name>.*?),\\s*(?P<address>.*?),\\s*(?P<city>[A-Za-z\\s\\'•\\-]+),\\s*(?P<state_zip>[A-Z]{2}\\s\\d{5})'\n",
    "        match = re.search(address_pattern, row['address'])\n",
    "\n",
    "    if match:\n",
    "        # Verificar si la dirección capturada contiene \"port\" (como en \"Airport\")\n",
    "        if 'port' in match.group('address').lower():\n",
    "            address = match.group('address').strip()\n",
    "            city = match.group('city').strip()\n",
    "            return pd.Series([address, city])\n",
    "        \n",
    "        # Verificar si el nombre coincide con la columna 'name' (solo si se usó el patrón con nombre)\n",
    "        if 'name' in match.groupdict() and row['name'].strip() == match.group('name').strip():\n",
    "            address = match.group('address').strip()\n",
    "            city = match.group('city').strip()\n",
    "            return pd.Series([address, city])\n",
    "        elif 'name' not in match.groupdict():\n",
    "            # Si no estamos utilizando el nombre, simplemente tomamos la dirección y la ciudad\n",
    "            address = match.group('address').strip()\n",
    "            city = match.group('city').strip()\n",
    "            return pd.Series([address, city])\n",
    "\n",
    "    # Si no coincide o no encuentra suficientes datos\n",
    "    return pd.Series([None, None])\n",
    "\n",
    "# Aplicar la función a cada fila del DataFrame y guardar los resultados en 'address_depurada' y 'city'\n",
    "df_business_google[['address_depurada', 'city']] = df_business_google.apply(extract_address_city, axis=1)"
   ]
  },
  {
   "cell_type": "code",
   "execution_count": 22,
   "metadata": {},
   "outputs": [
    {
     "data": {
      "text/html": [
       "<div>\n",
       "<style scoped>\n",
       "    .dataframe tbody tr th:only-of-type {\n",
       "        vertical-align: middle;\n",
       "    }\n",
       "\n",
       "    .dataframe tbody tr th {\n",
       "        vertical-align: top;\n",
       "    }\n",
       "\n",
       "    .dataframe thead th {\n",
       "        text-align: right;\n",
       "    }\n",
       "</style>\n",
       "<table border=\"1\" class=\"dataframe\">\n",
       "  <thead>\n",
       "    <tr style=\"text-align: right;\">\n",
       "      <th></th>\n",
       "      <th>name</th>\n",
       "      <th>address</th>\n",
       "      <th>gmap_id</th>\n",
       "      <th>latitude</th>\n",
       "      <th>longitude</th>\n",
       "      <th>category</th>\n",
       "      <th>avg_rating</th>\n",
       "      <th>num_of_reviews</th>\n",
       "      <th>state</th>\n",
       "      <th>relative_results</th>\n",
       "      <th>Service options</th>\n",
       "      <th>clasificacion</th>\n",
       "      <th>address_depurada</th>\n",
       "      <th>city</th>\n",
       "    </tr>\n",
       "  </thead>\n",
       "  <tbody>\n",
       "    <tr>\n",
       "      <th>2</th>\n",
       "      <td>San Soo Dang</td>\n",
       "      <td>San Soo Dang, 761 S Vermont Ave, Los Angeles, ...</td>\n",
       "      <td>0x80c2c778e3b73d33:0xbdc58662a4a97d49</td>\n",
       "      <td>34.058092</td>\n",
       "      <td>-118.292130</td>\n",
       "      <td>Korean restaurant</td>\n",
       "      <td>4.4</td>\n",
       "      <td>18</td>\n",
       "      <td>Open ⋅ Closes 6PM</td>\n",
       "      <td>0x80c2c78249aba68f:0x35bf16ce61be751d, 0x80c2c...</td>\n",
       "      <td>Takeout, Dine-in, Delivery</td>\n",
       "      <td>Dining Venue</td>\n",
       "      <td>761 S Vermont Ave</td>\n",
       "      <td>Los Angeles</td>\n",
       "    </tr>\n",
       "    <tr>\n",
       "      <th>6</th>\n",
       "      <td>Vons Chicken</td>\n",
       "      <td>Vons Chicken, 12740 La Mirada Blvd, La Mirada,...</td>\n",
       "      <td>0x80dd2b4c8555edb7:0xfc33d65c4bdbef42</td>\n",
       "      <td>33.916402</td>\n",
       "      <td>-118.010855</td>\n",
       "      <td>Restaurant</td>\n",
       "      <td>4.5</td>\n",
       "      <td>18</td>\n",
       "      <td>Open ⋅ Closes 9:30PM</td>\n",
       "      <td>Sin resultados vinculados</td>\n",
       "      <td>Outdoor seating, Curbside pickup, No-contact d...</td>\n",
       "      <td>Dining Venue</td>\n",
       "      <td>12740 La Mirada Blvd</td>\n",
       "      <td>La Mirada</td>\n",
       "    </tr>\n",
       "    <tr>\n",
       "      <th>761</th>\n",
       "      <td>La Potranca</td>\n",
       "      <td>La Potranca, 12821 Venice Blvd., Los Angeles, ...</td>\n",
       "      <td>0x80c2baf50d29bf63:0x5bd904b842b9fcc</td>\n",
       "      <td>34.000181</td>\n",
       "      <td>-118.441249</td>\n",
       "      <td>Restaurant</td>\n",
       "      <td>4.2</td>\n",
       "      <td>13</td>\n",
       "      <td>Closed ⋅ Opens 10AM</td>\n",
       "      <td>0x80c2bac345536273:0x8b015c3512788465, 0x80c2c...</td>\n",
       "      <td>Dine-in, Delivery</td>\n",
       "      <td>Dining Venue</td>\n",
       "      <td>12821 Venice Blvd.</td>\n",
       "      <td>Los Angeles</td>\n",
       "    </tr>\n",
       "    <tr>\n",
       "      <th>1426</th>\n",
       "      <td>Circle K</td>\n",
       "      <td>Circle K, 16331 Lakeshore Dr, Lake Elsinore, C...</td>\n",
       "      <td>0x80dc976f028eb61d:0x1a5ed32889a67122</td>\n",
       "      <td>33.689862</td>\n",
       "      <td>-117.376151</td>\n",
       "      <td>Convenience store, ATM, Coffee shop, Coffee st...</td>\n",
       "      <td>3.5</td>\n",
       "      <td>24</td>\n",
       "      <td>Open 24 hours</td>\n",
       "      <td>0x80dc99d523c8983b:0x5bcf75a72567785e, 0x80dc9...</td>\n",
       "      <td>In-store shopping, Delivery</td>\n",
       "      <td>Café &amp; Coffee</td>\n",
       "      <td>16331 Lakeshore Dr</td>\n",
       "      <td>Lake Elsinore</td>\n",
       "    </tr>\n",
       "    <tr>\n",
       "      <th>1548</th>\n",
       "      <td>Cowboy Burgers &amp; BBQ</td>\n",
       "      <td>Cowboy Burgers &amp; BBQ, 13101 Ramona Blvd, Baldw...</td>\n",
       "      <td>0x80c2d765f8c90a3d:0x16afb75943e7ad50</td>\n",
       "      <td>34.079995</td>\n",
       "      <td>-117.988951</td>\n",
       "      <td>Hamburger restaurant, American restaurant, Bar...</td>\n",
       "      <td>3.7</td>\n",
       "      <td>38</td>\n",
       "      <td>Closed ⋅ Opens 6AM</td>\n",
       "      <td>0x80c2d765f8dd4ebf:0xb6baf31e3e536ffa, 0x80c2d...</td>\n",
       "      <td>Drive-through, Takeout, Dine-in, Delivery</td>\n",
       "      <td>Dining Venue</td>\n",
       "      <td>13101 Ramona Blvd</td>\n",
       "      <td>Baldwin Park</td>\n",
       "    </tr>\n",
       "  </tbody>\n",
       "</table>\n",
       "</div>"
      ],
      "text/plain": [
       "                      name                                            address  \\\n",
       "2             San Soo Dang  San Soo Dang, 761 S Vermont Ave, Los Angeles, ...   \n",
       "6             Vons Chicken  Vons Chicken, 12740 La Mirada Blvd, La Mirada,...   \n",
       "761            La Potranca  La Potranca, 12821 Venice Blvd., Los Angeles, ...   \n",
       "1426              Circle K  Circle K, 16331 Lakeshore Dr, Lake Elsinore, C...   \n",
       "1548  Cowboy Burgers & BBQ  Cowboy Burgers & BBQ, 13101 Ramona Blvd, Baldw...   \n",
       "\n",
       "                                    gmap_id   latitude   longitude  \\\n",
       "2     0x80c2c778e3b73d33:0xbdc58662a4a97d49  34.058092 -118.292130   \n",
       "6     0x80dd2b4c8555edb7:0xfc33d65c4bdbef42  33.916402 -118.010855   \n",
       "761    0x80c2baf50d29bf63:0x5bd904b842b9fcc  34.000181 -118.441249   \n",
       "1426  0x80dc976f028eb61d:0x1a5ed32889a67122  33.689862 -117.376151   \n",
       "1548  0x80c2d765f8c90a3d:0x16afb75943e7ad50  34.079995 -117.988951   \n",
       "\n",
       "                                               category  avg_rating  \\\n",
       "2                                     Korean restaurant         4.4   \n",
       "6                                            Restaurant         4.5   \n",
       "761                                          Restaurant         4.2   \n",
       "1426  Convenience store, ATM, Coffee shop, Coffee st...         3.5   \n",
       "1548  Hamburger restaurant, American restaurant, Bar...         3.7   \n",
       "\n",
       "      num_of_reviews                 state  \\\n",
       "2                 18     Open ⋅ Closes 6PM   \n",
       "6                 18  Open ⋅ Closes 9:30PM   \n",
       "761               13   Closed ⋅ Opens 10AM   \n",
       "1426              24         Open 24 hours   \n",
       "1548              38    Closed ⋅ Opens 6AM   \n",
       "\n",
       "                                       relative_results  \\\n",
       "2     0x80c2c78249aba68f:0x35bf16ce61be751d, 0x80c2c...   \n",
       "6                             Sin resultados vinculados   \n",
       "761   0x80c2bac345536273:0x8b015c3512788465, 0x80c2c...   \n",
       "1426  0x80dc99d523c8983b:0x5bcf75a72567785e, 0x80dc9...   \n",
       "1548  0x80c2d765f8dd4ebf:0xb6baf31e3e536ffa, 0x80c2d...   \n",
       "\n",
       "                                        Service options  clasificacion  \\\n",
       "2                            Takeout, Dine-in, Delivery   Dining Venue   \n",
       "6     Outdoor seating, Curbside pickup, No-contact d...   Dining Venue   \n",
       "761                                   Dine-in, Delivery   Dining Venue   \n",
       "1426                        In-store shopping, Delivery  Café & Coffee   \n",
       "1548          Drive-through, Takeout, Dine-in, Delivery   Dining Venue   \n",
       "\n",
       "          address_depurada           city  \n",
       "2        761 S Vermont Ave    Los Angeles  \n",
       "6     12740 La Mirada Blvd      La Mirada  \n",
       "761     12821 Venice Blvd.    Los Angeles  \n",
       "1426    16331 Lakeshore Dr  Lake Elsinore  \n",
       "1548     13101 Ramona Blvd   Baldwin Park  "
      ]
     },
     "execution_count": 22,
     "metadata": {},
     "output_type": "execute_result"
    }
   ],
   "source": [
    "df_business_google.head()"
   ]
  },
  {
   "cell_type": "markdown",
   "metadata": {},
   "source": [
    "### Procedemos a realizar una columna \"county\" que detalle el condado del registro, utilizando la columna \"city\" para ubicarnos"
   ]
  },
  {
   "cell_type": "markdown",
   "metadata": {},
   "source": [
    "***Limpiamos la columna de referencia***"
   ]
  },
  {
   "cell_type": "code",
   "execution_count": 30,
   "metadata": {},
   "outputs": [],
   "source": [
    "# Eliminamos Nulos de la columna 'city'\n",
    "df_business_google = df_business_google.dropna(subset=['city'])\n",
    "\n",
    "# Limpiamos espacios en la misma\n",
    "df_business_google['city'] = df_business_google['city'].str.strip()"
   ]
  },
  {
   "cell_type": "markdown",
   "metadata": {},
   "source": [
    "***Creamos diccionario extenso con los condados y ciudades que abarca***"
   ]
  },
  {
   "cell_type": "code",
   "execution_count": 31,
   "metadata": {},
   "outputs": [],
   "source": [
    "condados_a_ciudades = {\n",
    "    'Alameda': ['Alameda', 'Albany', 'Berkeley', 'Dublin', 'Emeryville', 'Fremont', 'Hayward', 'Livermore', 'Newark', 'Oakland', 'Pleasanton', 'San Leandro', 'Union City', 'Castro Valley', 'San Lorenzo'],\n",
    "    'Alpine': ['Markleeville', 'Markleeville'],\n",
    "    'Amador': ['Amador City', 'Ione', 'Jackson', 'Plymouth', 'Sutter Creek', 'Jackson'],\n",
    "    'Butte': ['Biggs', 'Chico', 'Gridley', 'Oroville', 'Durham', 'Paradise', 'Chico', 'Magalia', 'Paradise'],\n",
    "    'Calaveras': ['Angels Camp', 'Copperopolis', 'Arnold', 'San Andreas'],\n",
    "    'Colusa': ['Colusa', 'Williams', 'Colusa', 'Princeton'],\n",
    "    'Contra Costa': ['Alameda Park', 'Antioch', 'Brentwood', 'Clayton', 'Concord', 'Crockett', 'Danville', 'El Cerrito', 'Hercules', 'Lafayette', 'Martinez', 'Moraga', 'Orinda', 'Pinole', 'Pittsburg', 'Pleasant Hill', 'Richmond', 'San Pablo', 'San Ramon', 'Walnut Creek', 'Alamo', 'Pacheco', 'Bay Point', 'El Sobrante', 'Oakley', 'Rodeo', 'Discovery Bay'],\n",
    "    'Del Norte': ['Crescent City'],\n",
    "    'El Dorado': ['Placerville', 'South Lake Tahoe', 'El Dorado Hills', 'Cool', 'Lotus', 'Cameron Park', 'Kyburz', 'Diamond Springs'],\n",
    "    'Fresno': ['Biola', 'Clovis', 'Coalinga', 'Firebaugh', 'Fowler', 'Fresno', 'Huron', 'Kerman', 'Kingsburg', 'Mendota', 'Orange Cove', 'Parlier', 'Reedley', 'San Joaquin', 'Sanger', 'Selma', 'Prather', 'Shaver Lake', 'Riverdale', 'Five Points'],\n",
    "    'Glenn': ['Orland', 'Willows'],\n",
    "    'Humboldt': ['Arcata', 'Blue Lake', 'Eureka', 'Fortuna', 'Rio Dell', 'Trinidad', 'McKinleyville', 'Ferndale', 'Garberville', 'Loleta', 'Whitethorn', 'Willow Creek'],\n",
    "    'Imperial': ['Brawley', 'Calexico', 'Calipatria', 'El Centro', 'Holtville', 'Imperial', 'Westmorland'],\n",
    "    'Inyo': ['Bishop', 'Lone Pine'],\n",
    "    'Kern': ['Arvin', 'Bakersfield', 'California City', 'Delano', 'Maricopa', 'McFarland', 'Ridgecrest', 'Shafter', 'Taft', 'Tehachapi', 'Wasco', 'Rosamond', 'Edwards AFB', 'Lamont', 'Mojave', 'Lost Hills', 'Kernville', 'Lake Isabella', 'Edwards'],\n",
    "    'Kings': ['Avenal', 'Corcoran', 'Hanford', 'Lemoore'],\n",
    "    'Lake': ['Clearlake', 'Lakeport', 'Nice', 'Spring Valley', 'Hidden Valley Lake', 'Kelseyville', 'Lower Lake'],\n",
    "    'Lassen': ['Susanville', 'Bieber'],\n",
    "    'Los Angeles': ['Pacific Palisades', 'Valencia', 'Reseda', 'San Pedro', 'City of Industry', 'Northridge', 'North Hollywood', 'Sylmar', 'Sun Valley', 'Artesia', 'Arcadia', 'Venice', 'Sherman Oaks', 'Van Nuys', 'Studio City', 'Granada Hills', 'Rowland Heights', 'Harbor City', 'Tujunga', 'Saugus', 'Highland Park', 'Pacoima', 'Universal City', 'Hollywood', 'East Los Angeles', 'West Hills', 'Cudahy', 'La Crescenta-Montrose', 'Canoga Park','Wilmington', 'Woodland Hills', 'Canyon Country', 'Panorama City', 'Tarzana', 'Winnetka', 'Newhall', 'Castaic', 'Stevenson Ranch', 'Irwindale', 'View Park-Windsor Hills', 'Lomita', 'Marina Del Rey', 'Valley Glen', 'Eagle Rock', 'North Hills', 'Lakewood', 'Arleta', 'Toluca Lake', 'Valley Village', 'Mission Hills', 'Bassett', 'Littlerock', 'Topanga', 'Playa Vista', 'Quartz Hill', 'East Compton', 'Porter Ranch', 'Silver Lake'],\n",
    "    'Acton': ['Agoura Hills', 'Alhambra', 'Alondra Park', 'Altadena', 'Avalon', 'Azusa', 'Baldwin Park', 'Bell', 'Bell Gardens', 'Bellflower', 'Beverly Hills', 'Burbank', 'Calabasas', 'Carson', 'Cerritos', 'Chatsworth', 'Claremont', 'Commerce', 'Compton', 'Covina', 'Culver City', 'Diamond Bar', 'Downey', 'Duarte', 'El Monte', 'El Segundo', 'Encino', 'Gardena', 'Glendale', 'Glendora', 'Hacienda Heights', 'Hawaiian Gardens', 'Hawthorne', 'Hermosa Beach', 'Huntington Park', 'Industry', 'Inglewood', 'La Canada Flintridge', 'La Mirada', 'La Puente', 'La Verne', 'Lancaster', 'Lawndale', 'Lennox', 'Long Beach', 'Los Angeles', 'Lynwood', 'Malibu', 'Manhattan Beach', 'Maywood', 'Monrovia', 'Montebello', 'Monterey Park', 'Norwalk', 'Palmdale', 'Palos Verdes Estates', 'Paramount', 'Pasadena', 'Pico Rivera', 'Pomona', 'Rancho Palos Verdes', 'Redondo Beach', 'Rolling Hills Estates', 'Rosemead', 'San Dimas', 'San Fernando', 'San Gabriel', 'San Marino', 'Santa Clarita', 'Santa Fe Springs', 'Santa Monica', 'Sierra Madre', 'Signal Hill', 'South El Monte', 'South Gate', 'South Pasadena', 'Temple City', 'Torrance', 'Vernon', 'Walnut', 'West Covina', 'West Hollywood', 'Westlake Village', 'Whittier'],\n",
    "    'Madera': ['Chowchilla', 'Madera', 'Bass Lake', 'North Fork', 'Coarsegold', 'Oakhurst'],\n",
    "    'Marin': ['Belvedere', 'Corte Madera', 'Fairfax', 'Larkspur', 'Mill Valley', 'Novato', 'Ross', 'San Anselmo', 'San Rafael', 'Sausalito', 'Tiburon', 'Olema', 'Point Reyes Station', 'Greenbrae', 'Stinson Beach', 'Tomales'],\n",
    "    'Mariposa': ['Mariposa'],\n",
    "    'Mendocino': ['Fort Bragg', 'Point Arena', 'Ukiah', 'Willits', 'Mendocino', 'Little River', 'Laytonville', 'Philo', 'Gualala', 'Redwood Valley', 'Elk', 'Boonville'],\n",
    "    'Merced': ['Atwater', 'Dos Palos', 'Gustine', 'Livingston', 'Los Banos', 'Merced', 'Delhi', 'Santa Nella'],\n",
    "    'Modoc': ['Alturas'],\n",
    "    'Mono': ['Mammoth Lakes', 'June Lake'],\n",
    "    'Monterey': ['Carmel-by-the-Sea', 'Del Rey Oaks', 'Gonzales', 'Greenfield', 'King City', 'Marina', 'Monterey', 'Pacific Grove', 'Salinas', 'Sand City', 'Seaside', 'Soledad', 'Carmel Valley', 'Pebble Beach', 'Castroville', 'Pajaro', 'Royal Oaks', 'Prunedale', 'Aromas','Carmel-By-The-Sea'],\n",
    "    'Napa': ['American Canyon', 'Calistoga', 'Napa', 'St. Helena', 'Yountville', 'St Helena', 'Rutherford', 'Santa Elena'],\n",
    "    'Nevada': ['Grass Valley', 'Nevada City', 'Truckee', 'Cisco Grove', 'North San Juan', 'Penn Valley'],\n",
    "    'Orange': ['Aliso Viejo', 'Anaheim', 'Brea', 'Buena Park', 'Costa Mesa', 'Cypress', 'Dana Point', 'Fountain Valley', 'Fullerton', 'Garden Grove', 'Huntington Beach', 'Irvine', 'La Habra', 'La Palma', 'Laguna Beach', 'Laguna Hills', 'Laguna Niguel', 'Laguna Woods', 'Lake Forest', 'Los Alamitos', 'Mission Viejo', 'Newport Beach', 'Orange', 'Placentia', 'Rancho Santa Margarita', 'San Clemente', 'San Juan Capistrano', 'Santa Ana', 'Seal Beach', 'Stanton', 'Tustin', 'Villa Park', 'Westminster', 'Yorba Linda', 'Foothill Ranch', 'Ladera Ranch', 'Silverado', 'Trabuco Canyon', 'Newport Coast'],\n",
    "    'Placer': ['Auburn', 'Colfax', 'Lincoln', 'Loomis', 'Rocklin', 'Roseville', 'Kings Beach', 'Tahoe City', 'Granite Bay', 'Olympic Valley', 'Newcastle', 'Homewood'],\n",
    "    'Plumas': ['Portola', 'Quincy', 'Chester', 'Lake Almanor', 'Blairsden-Graeagle'],\n",
    "    'Riverside': ['Banning', 'Beaumont', 'Blythe', 'Calimesa', 'Canyon Lake', 'Cathedral City', 'Coachella', 'Corona', 'Desert Hot Springs', 'Eastvale', 'Hemet', 'Indian Wells', 'Indio', 'Jurupa Valley', 'La Quinta', 'Lake Elsinore', 'Menifee', 'Moreno Valley', 'Murrieta', 'Norco', 'Palm Desert', 'Palm Springs', 'Perris', 'Rancho Mirage', 'Riverside', 'San Jacinto', 'Temecula', 'Wildomar', 'Thousand Palms', 'Cabazon', 'March Air Reserve Base', 'Idyllwild-Pine Cove', 'Thermal', 'Bermuda Dunes', 'Mira Loma', 'Winchester', 'Anza', 'Mecca', 'Romoland', 'Sun City'],\n",
    "    'Sacramento': ['Citrus Heights', 'Elk Grove', 'Folsom', 'Galt', 'Isleton', 'Rancho Cordova', 'Sacramento', 'Antelope', 'Arden-Arcade', 'Carmichael', 'Clay', 'Courtland', 'Elverta', 'Fair Oaks', 'Florin', 'Foothill Farms', 'Franklin', 'Fruitridge Pocket', 'Gold River', 'La Riviera', 'Lemon Hill', 'Mather', 'North Highlands', 'Orangevale', 'Parkway', 'Rancho Murieta', 'Rio Linda', 'Rosemont', 'Vineyard', 'Walnut Grove', 'Wilton', 'Hood', 'Rio Linda'],\n",
    "    'San Benito': ['Hollister', 'San Juan Bautista', 'Tres Pinos'],\n",
    "    'San Bernardino': ['Adelanto', 'Apple Valley', 'Barstow', 'Big Bear Lake', 'Chino', 'Chino Hills', 'Colton', 'Fontana', 'Grand Terrace', 'Hesperia', 'Highland', 'Loma Linda', 'Montclair', 'Needles', 'Ontario', 'Rancho Cucamonga', 'Redlands', 'Rialto', 'San Bernardino', 'Twentynine Palms', 'Upland', 'Victorville', 'Yucaipa', 'Yucca Valley', 'Joshua Tree', 'Crestline', 'Lake Arrowhead', 'Alta Loma', 'Joshua Tree', 'Oro Grande', 'Yermo', 'Bloomington','Phelan','Helendale','Fort Irwin','Running Springs'],\n",
    "    'San Diego': ['Carlsbad', 'Chula Vista', 'Coronado', 'Del Mar', 'El Cajon', 'Encinitas', 'Escondido', 'Imperial Beach', 'La Mesa', 'Lemon Grove', 'National City', 'Oceanside', 'Poway', 'San Diego', 'San Marcos', 'Santee', 'Solana Beach', 'Vista', 'Alpine', 'Bonita', 'Borrego Springs', 'Fallbrook', 'Jamul', 'Julian', 'Lakeside', 'Pine Valley', 'Ramona', 'Ranchita', 'Rancho Santa Fe', 'Spring Valley', 'Camp Pendleton North', 'Bonsall', 'Pala', 'Carmel Mountain Ranch', 'Pauma Valley', 'Julian','La Jolla','Camp Pendleton'],\n",
    "    'San Francisco': ['San Francisco'],\n",
    "    'San Joaquin': ['Escalon', 'Lathrop', 'Lodi', 'Manteca', 'Ripon', 'Stockton', 'Tracy', 'Acampo', 'French Camp', 'Lockeford', 'Thornton', 'Lockeford', 'Acampo'],\n",
    "    'San Luis Obispo': ['Arroyo Grande', 'Atascadero', 'Grover Beach', 'Morro Bay', 'Paso Robles', 'Pismo Beach', 'San Luis Obispo', 'Baywood-Los Osos', 'Santa Margarita', 'Cayucos', 'Oceano', 'Templeton', 'Nipomo', 'Cambria', 'San Simeon', 'Los Osos'],\n",
    "    'San Mateo': ['Atherton', 'Belmont', 'Brisbane', 'Burlingame', 'Colma', 'Daly City', 'East Palo Alto', 'Foster City', 'Half Moon Bay', 'Hillsborough', 'Menlo Park', 'Millbrae', 'Pacifica', 'Portola Valley', 'Redwood City', 'San Bruno', 'San Carlos', 'San Mateo', 'South San Francisco', 'Woodside'],\n",
    "    'Santa Barbara': ['Buellton', 'Carpinteria', 'Goleta', 'Guadalupe', 'Lompoc', 'Santa Barbara', 'Santa Maria', 'Solvang', 'Orcutt', 'Los Alamos','Los Olivos','Montecito','Isla Vista','Vandenberg AFB'],\n",
    "    'Santa Clara': ['Campbell', 'Cupertino', 'Gilroy', 'Los Altos', 'Los Altos Hills', 'Los Gatos', 'Milpitas', 'Monte Sereno', 'Morgan Hill', 'Mountain View', 'Palo Alto', 'San Jose', 'Santa Clara', 'Saratoga', 'Sunnyvale','Stanford'],\n",
    "    'Santa Cruz': ['Capitola', 'Santa Cruz', 'Scotts Valley', 'Watsonville', 'Boulder Creek', 'Freedom','Aptos','Soquel','Felton'],\n",
    "    'Shasta': ['Anderson', 'Redding', 'Shasta Lake', 'Burney', 'McArthur', 'Platina', 'Lakehead', 'Fall River Mills', 'Cottonwood'],\n",
    "    'Sierra': ['Loyalton', 'Sierra City'],\n",
    "    'Siskiyou': ['Dorris', 'Dunsmuir', 'Etna', 'Fort Jones', 'Montague', 'Mount Shasta', 'Tulelake', 'Weed', 'Yreka', 'Mt Shasta', 'Mount Shasta'],\n",
    "    'Solano': ['Benicia', 'Dixon', 'Fairfield', 'Rio Vista', 'Suisun City', 'Vacaville', 'Vallejo'],\n",
    "    'Sonoma': ['Cloverdale', 'Cotati', 'Healdsburg', 'Petaluma', 'Rohnert Park', 'Santa Rosa', 'Sebastopol', 'Sonoma', 'Windsor', 'Bodega Bay', 'Guerneville', 'Geyserville', 'Forestville', 'Monte Rio'],\n",
    "    'Stanislaus': ['Ceres', 'Hughson', 'Modesto', 'Newman', 'Oakdale', 'Patterson', 'Riverbank', 'Turlock', 'Waterford', 'Salida', 'Keyes', 'Westley'],\n",
    "    'Sutter': ['Live Oak', 'Yuba City', 'Sutter'],\n",
    "    'Tehama': ['Corning', 'Red Bluff', 'Tehama'],\n",
    "    'Trinity': ['Weaverville', 'Wildwood', 'Lewiston'],\n",
    "    'Tulare': ['Dinuba', 'Exeter', 'Farmersville', 'Lindsay', 'Porterville', 'Tulare', 'Visalia', 'Woodlake', 'Alpaugh', 'Orosi', 'Springville','Earlimart','Pixley','Terra Bella','Ivanhoe','Strathmore','Richgrove'],\n",
    "    'Tuolumne': ['Sonora', 'Jamestown', 'Columbia', 'Pinecrest', 'Groveland'],\n",
    "    'Ventura': ['Camarillo', 'Fillmore', 'Moorpark', 'Ojai', 'Oxnard', 'Port Hueneme', 'Santa Paula', 'Simi Valley', 'Thousand Oaks', 'Ventura', 'Oak Park','Newbury Park','Somis'],\n",
    "    'Yolo': ['Davis', 'West Sacramento', 'Winters', 'Woodland', 'Zamora'],\n",
    "    'Yuba': ['Marysville', 'Wheatland','Linda']\n",
    "}"
   ]
  },
  {
   "cell_type": "markdown",
   "metadata": {},
   "source": [
    "***Tomando como referencia este diccionario, creamos la columna county***"
   ]
  },
  {
   "cell_type": "code",
   "execution_count": 32,
   "metadata": {},
   "outputs": [],
   "source": [
    "# Función para asignar el condado basado en la ciudad\n",
    "def asignar_condado(city):\n",
    "    for county, cities in condados_a_ciudades.items():\n",
    "        if city in cities:\n",
    "            return county\n",
    "    return None  # Devuelve None si la ciudad no está en ninguna lista\n",
    "\n",
    "# Crear la nueva columna 'county' aplicando la función a la columna 'city'\n",
    "df_business_google['county'] = df_business_google['city'].apply(asignar_condado)"
   ]
  },
  {
   "cell_type": "code",
   "execution_count": 26,
   "metadata": {},
   "outputs": [
    {
     "data": {
      "text/html": [
       "<div>\n",
       "<style scoped>\n",
       "    .dataframe tbody tr th:only-of-type {\n",
       "        vertical-align: middle;\n",
       "    }\n",
       "\n",
       "    .dataframe tbody tr th {\n",
       "        vertical-align: top;\n",
       "    }\n",
       "\n",
       "    .dataframe thead th {\n",
       "        text-align: right;\n",
       "    }\n",
       "</style>\n",
       "<table border=\"1\" class=\"dataframe\">\n",
       "  <thead>\n",
       "    <tr style=\"text-align: right;\">\n",
       "      <th></th>\n",
       "      <th>name</th>\n",
       "      <th>address</th>\n",
       "      <th>gmap_id</th>\n",
       "      <th>latitude</th>\n",
       "      <th>longitude</th>\n",
       "      <th>category</th>\n",
       "      <th>avg_rating</th>\n",
       "      <th>num_of_reviews</th>\n",
       "      <th>state</th>\n",
       "      <th>relative_results</th>\n",
       "      <th>Service options</th>\n",
       "      <th>clasificacion</th>\n",
       "      <th>address_depurada</th>\n",
       "      <th>city</th>\n",
       "      <th>county</th>\n",
       "    </tr>\n",
       "  </thead>\n",
       "  <tbody>\n",
       "    <tr>\n",
       "      <th>2</th>\n",
       "      <td>San Soo Dang</td>\n",
       "      <td>San Soo Dang, 761 S Vermont Ave, Los Angeles, ...</td>\n",
       "      <td>0x80c2c778e3b73d33:0xbdc58662a4a97d49</td>\n",
       "      <td>34.058092</td>\n",
       "      <td>-118.292130</td>\n",
       "      <td>Korean restaurant</td>\n",
       "      <td>4.4</td>\n",
       "      <td>18</td>\n",
       "      <td>Open ⋅ Closes 6PM</td>\n",
       "      <td>0x80c2c78249aba68f:0x35bf16ce61be751d, 0x80c2c...</td>\n",
       "      <td>Takeout, Dine-in, Delivery</td>\n",
       "      <td>Dining Venue</td>\n",
       "      <td>761 S Vermont Ave</td>\n",
       "      <td>Los Angeles</td>\n",
       "      <td>Acton</td>\n",
       "    </tr>\n",
       "    <tr>\n",
       "      <th>6</th>\n",
       "      <td>Vons Chicken</td>\n",
       "      <td>Vons Chicken, 12740 La Mirada Blvd, La Mirada,...</td>\n",
       "      <td>0x80dd2b4c8555edb7:0xfc33d65c4bdbef42</td>\n",
       "      <td>33.916402</td>\n",
       "      <td>-118.010855</td>\n",
       "      <td>Restaurant</td>\n",
       "      <td>4.5</td>\n",
       "      <td>18</td>\n",
       "      <td>Open ⋅ Closes 9:30PM</td>\n",
       "      <td>Sin resultados vinculados</td>\n",
       "      <td>Outdoor seating, Curbside pickup, No-contact d...</td>\n",
       "      <td>Dining Venue</td>\n",
       "      <td>12740 La Mirada Blvd</td>\n",
       "      <td>La Mirada</td>\n",
       "      <td>Acton</td>\n",
       "    </tr>\n",
       "    <tr>\n",
       "      <th>761</th>\n",
       "      <td>La Potranca</td>\n",
       "      <td>La Potranca, 12821 Venice Blvd., Los Angeles, ...</td>\n",
       "      <td>0x80c2baf50d29bf63:0x5bd904b842b9fcc</td>\n",
       "      <td>34.000181</td>\n",
       "      <td>-118.441249</td>\n",
       "      <td>Restaurant</td>\n",
       "      <td>4.2</td>\n",
       "      <td>13</td>\n",
       "      <td>Closed ⋅ Opens 10AM</td>\n",
       "      <td>0x80c2bac345536273:0x8b015c3512788465, 0x80c2c...</td>\n",
       "      <td>Dine-in, Delivery</td>\n",
       "      <td>Dining Venue</td>\n",
       "      <td>12821 Venice Blvd.</td>\n",
       "      <td>Los Angeles</td>\n",
       "      <td>Acton</td>\n",
       "    </tr>\n",
       "    <tr>\n",
       "      <th>1426</th>\n",
       "      <td>Circle K</td>\n",
       "      <td>Circle K, 16331 Lakeshore Dr, Lake Elsinore, C...</td>\n",
       "      <td>0x80dc976f028eb61d:0x1a5ed32889a67122</td>\n",
       "      <td>33.689862</td>\n",
       "      <td>-117.376151</td>\n",
       "      <td>Convenience store, ATM, Coffee shop, Coffee st...</td>\n",
       "      <td>3.5</td>\n",
       "      <td>24</td>\n",
       "      <td>Open 24 hours</td>\n",
       "      <td>0x80dc99d523c8983b:0x5bcf75a72567785e, 0x80dc9...</td>\n",
       "      <td>In-store shopping, Delivery</td>\n",
       "      <td>Café &amp; Coffee</td>\n",
       "      <td>16331 Lakeshore Dr</td>\n",
       "      <td>Lake Elsinore</td>\n",
       "      <td>Riverside</td>\n",
       "    </tr>\n",
       "    <tr>\n",
       "      <th>1548</th>\n",
       "      <td>Cowboy Burgers &amp; BBQ</td>\n",
       "      <td>Cowboy Burgers &amp; BBQ, 13101 Ramona Blvd, Baldw...</td>\n",
       "      <td>0x80c2d765f8c90a3d:0x16afb75943e7ad50</td>\n",
       "      <td>34.079995</td>\n",
       "      <td>-117.988951</td>\n",
       "      <td>Hamburger restaurant, American restaurant, Bar...</td>\n",
       "      <td>3.7</td>\n",
       "      <td>38</td>\n",
       "      <td>Closed ⋅ Opens 6AM</td>\n",
       "      <td>0x80c2d765f8dd4ebf:0xb6baf31e3e536ffa, 0x80c2d...</td>\n",
       "      <td>Drive-through, Takeout, Dine-in, Delivery</td>\n",
       "      <td>Dining Venue</td>\n",
       "      <td>13101 Ramona Blvd</td>\n",
       "      <td>Baldwin Park</td>\n",
       "      <td>Acton</td>\n",
       "    </tr>\n",
       "  </tbody>\n",
       "</table>\n",
       "</div>"
      ],
      "text/plain": [
       "                      name                                            address  \\\n",
       "2             San Soo Dang  San Soo Dang, 761 S Vermont Ave, Los Angeles, ...   \n",
       "6             Vons Chicken  Vons Chicken, 12740 La Mirada Blvd, La Mirada,...   \n",
       "761            La Potranca  La Potranca, 12821 Venice Blvd., Los Angeles, ...   \n",
       "1426              Circle K  Circle K, 16331 Lakeshore Dr, Lake Elsinore, C...   \n",
       "1548  Cowboy Burgers & BBQ  Cowboy Burgers & BBQ, 13101 Ramona Blvd, Baldw...   \n",
       "\n",
       "                                    gmap_id   latitude   longitude  \\\n",
       "2     0x80c2c778e3b73d33:0xbdc58662a4a97d49  34.058092 -118.292130   \n",
       "6     0x80dd2b4c8555edb7:0xfc33d65c4bdbef42  33.916402 -118.010855   \n",
       "761    0x80c2baf50d29bf63:0x5bd904b842b9fcc  34.000181 -118.441249   \n",
       "1426  0x80dc976f028eb61d:0x1a5ed32889a67122  33.689862 -117.376151   \n",
       "1548  0x80c2d765f8c90a3d:0x16afb75943e7ad50  34.079995 -117.988951   \n",
       "\n",
       "                                               category  avg_rating  \\\n",
       "2                                     Korean restaurant         4.4   \n",
       "6                                            Restaurant         4.5   \n",
       "761                                          Restaurant         4.2   \n",
       "1426  Convenience store, ATM, Coffee shop, Coffee st...         3.5   \n",
       "1548  Hamburger restaurant, American restaurant, Bar...         3.7   \n",
       "\n",
       "      num_of_reviews                 state  \\\n",
       "2                 18     Open ⋅ Closes 6PM   \n",
       "6                 18  Open ⋅ Closes 9:30PM   \n",
       "761               13   Closed ⋅ Opens 10AM   \n",
       "1426              24         Open 24 hours   \n",
       "1548              38    Closed ⋅ Opens 6AM   \n",
       "\n",
       "                                       relative_results  \\\n",
       "2     0x80c2c78249aba68f:0x35bf16ce61be751d, 0x80c2c...   \n",
       "6                             Sin resultados vinculados   \n",
       "761   0x80c2bac345536273:0x8b015c3512788465, 0x80c2c...   \n",
       "1426  0x80dc99d523c8983b:0x5bcf75a72567785e, 0x80dc9...   \n",
       "1548  0x80c2d765f8dd4ebf:0xb6baf31e3e536ffa, 0x80c2d...   \n",
       "\n",
       "                                        Service options  clasificacion  \\\n",
       "2                            Takeout, Dine-in, Delivery   Dining Venue   \n",
       "6     Outdoor seating, Curbside pickup, No-contact d...   Dining Venue   \n",
       "761                                   Dine-in, Delivery   Dining Venue   \n",
       "1426                        In-store shopping, Delivery  Café & Coffee   \n",
       "1548          Drive-through, Takeout, Dine-in, Delivery   Dining Venue   \n",
       "\n",
       "          address_depurada           city     county  \n",
       "2        761 S Vermont Ave    Los Angeles      Acton  \n",
       "6     12740 La Mirada Blvd      La Mirada      Acton  \n",
       "761     12821 Venice Blvd.    Los Angeles      Acton  \n",
       "1426    16331 Lakeshore Dr  Lake Elsinore  Riverside  \n",
       "1548     13101 Ramona Blvd   Baldwin Park      Acton  "
      ]
     },
     "execution_count": 26,
     "metadata": {},
     "output_type": "execute_result"
    }
   ],
   "source": [
    "df_business_google.head()"
   ]
  },
  {
   "cell_type": "markdown",
   "metadata": {},
   "source": [
    "### Ahora seleccionamos columnas de interes para el proyecto"
   ]
  },
  {
   "cell_type": "code",
   "execution_count": 33,
   "metadata": {},
   "outputs": [
    {
     "data": {
      "text/plain": [
       "Index(['name', 'address', 'gmap_id', 'latitude', 'longitude', 'category',\n",
       "       'avg_rating', 'num_of_reviews', 'state', 'relative_results',\n",
       "       'Service options', 'clasificacion', 'address_depurada', 'city',\n",
       "       'county'],\n",
       "      dtype='object')"
      ]
     },
     "execution_count": 33,
     "metadata": {},
     "output_type": "execute_result"
    }
   ],
   "source": [
    "df_business_google.columns"
   ]
  },
  {
   "cell_type": "code",
   "execution_count": 34,
   "metadata": {},
   "outputs": [
    {
     "name": "stdout",
     "output_type": "stream",
     "text": [
      "Index(['gmap_id', 'name', 'address', 'latitude', 'longitude', 'category',\n",
      "       'avg_rating', 'num_of_reviews', 'state', 'relative_results',\n",
      "       'Service options', 'clasificacion', 'address_depurada', 'city',\n",
      "       'county'],\n",
      "      dtype='object')\n"
     ]
    }
   ],
   "source": [
    "#Movemos la columna 'gmap_id' a la primera posición:\n",
    "\n",
    "# Reordenar las columnas colocando 'gmap_id' en la primera posición\n",
    "cols = ['gmap_id'] + [col for col in df_business_google.columns if col != 'gmap_id']\n",
    "df_business_google = df_business_google.reindex(columns=cols)\n",
    "\n",
    "# Verificar que la columna 'gmap_id' está en la primera posición\n",
    "print(df_business_google.columns)\n"
   ]
  },
  {
   "cell_type": "markdown",
   "metadata": {},
   "source": [
    "### Formaremos otro dataset que tendra los datos sobre la posición geografica de los locales y se vinculara a los mismos mediante \"gmap_id\""
   ]
  },
  {
   "cell_type": "code",
   "execution_count": 40,
   "metadata": {},
   "outputs": [],
   "source": [
    "df_ubicacion = df_business_google[['gmap_id', 'address_depurada', 'city', 'county', 'latitude', 'longitude']].copy()\n",
    "# Restablecer el índice para que sea consecutivo\n",
    "df_ubicacion.reset_index(drop=True, inplace=True)"
   ]
  },
  {
   "cell_type": "code",
   "execution_count": 41,
   "metadata": {},
   "outputs": [],
   "source": [
    "# Creamos la nueva columna 'id_locacion' con números incrementales, que serán la PK\n",
    "df_ubicacion['id_locacion'] = range(1, len(df_ubicacion) + 1)\n",
    "\n",
    "# Reordenar las columnas para que 'id_locacion' esté en primer lugar\n",
    "df_ubicacion = df_ubicacion[['id_locacion', 'gmap_id', 'address_depurada', 'city', 'county', 'latitude', 'longitude']]"
   ]
  },
  {
   "cell_type": "code",
   "execution_count": 42,
   "metadata": {},
   "outputs": [
    {
     "data": {
      "text/html": [
       "<div>\n",
       "<style scoped>\n",
       "    .dataframe tbody tr th:only-of-type {\n",
       "        vertical-align: middle;\n",
       "    }\n",
       "\n",
       "    .dataframe tbody tr th {\n",
       "        vertical-align: top;\n",
       "    }\n",
       "\n",
       "    .dataframe thead th {\n",
       "        text-align: right;\n",
       "    }\n",
       "</style>\n",
       "<table border=\"1\" class=\"dataframe\">\n",
       "  <thead>\n",
       "    <tr style=\"text-align: right;\">\n",
       "      <th></th>\n",
       "      <th>id_locacion</th>\n",
       "      <th>gmap_id</th>\n",
       "      <th>address_depurada</th>\n",
       "      <th>city</th>\n",
       "      <th>county</th>\n",
       "      <th>latitude</th>\n",
       "      <th>longitude</th>\n",
       "    </tr>\n",
       "  </thead>\n",
       "  <tbody>\n",
       "    <tr>\n",
       "      <th>0</th>\n",
       "      <td>1</td>\n",
       "      <td>0x80c2c778e3b73d33:0xbdc58662a4a97d49</td>\n",
       "      <td>761 S Vermont Ave</td>\n",
       "      <td>Los Angeles</td>\n",
       "      <td>Acton</td>\n",
       "      <td>34.058092</td>\n",
       "      <td>-118.292130</td>\n",
       "    </tr>\n",
       "    <tr>\n",
       "      <th>1</th>\n",
       "      <td>2</td>\n",
       "      <td>0x80dd2b4c8555edb7:0xfc33d65c4bdbef42</td>\n",
       "      <td>12740 La Mirada Blvd</td>\n",
       "      <td>La Mirada</td>\n",
       "      <td>Acton</td>\n",
       "      <td>33.916402</td>\n",
       "      <td>-118.010855</td>\n",
       "    </tr>\n",
       "    <tr>\n",
       "      <th>2</th>\n",
       "      <td>3</td>\n",
       "      <td>0x80c2baf50d29bf63:0x5bd904b842b9fcc</td>\n",
       "      <td>12821 Venice Blvd.</td>\n",
       "      <td>Los Angeles</td>\n",
       "      <td>Acton</td>\n",
       "      <td>34.000181</td>\n",
       "      <td>-118.441249</td>\n",
       "    </tr>\n",
       "    <tr>\n",
       "      <th>3</th>\n",
       "      <td>4</td>\n",
       "      <td>0x80dc976f028eb61d:0x1a5ed32889a67122</td>\n",
       "      <td>16331 Lakeshore Dr</td>\n",
       "      <td>Lake Elsinore</td>\n",
       "      <td>Riverside</td>\n",
       "      <td>33.689862</td>\n",
       "      <td>-117.376151</td>\n",
       "    </tr>\n",
       "    <tr>\n",
       "      <th>4</th>\n",
       "      <td>5</td>\n",
       "      <td>0x80c2d765f8c90a3d:0x16afb75943e7ad50</td>\n",
       "      <td>13101 Ramona Blvd</td>\n",
       "      <td>Baldwin Park</td>\n",
       "      <td>Acton</td>\n",
       "      <td>34.079995</td>\n",
       "      <td>-117.988951</td>\n",
       "    </tr>\n",
       "  </tbody>\n",
       "</table>\n",
       "</div>"
      ],
      "text/plain": [
       "   id_locacion                                gmap_id      address_depurada  \\\n",
       "0            1  0x80c2c778e3b73d33:0xbdc58662a4a97d49     761 S Vermont Ave   \n",
       "1            2  0x80dd2b4c8555edb7:0xfc33d65c4bdbef42  12740 La Mirada Blvd   \n",
       "2            3   0x80c2baf50d29bf63:0x5bd904b842b9fcc    12821 Venice Blvd.   \n",
       "3            4  0x80dc976f028eb61d:0x1a5ed32889a67122    16331 Lakeshore Dr   \n",
       "4            5  0x80c2d765f8c90a3d:0x16afb75943e7ad50     13101 Ramona Blvd   \n",
       "\n",
       "            city     county   latitude   longitude  \n",
       "0    Los Angeles      Acton  34.058092 -118.292130  \n",
       "1      La Mirada      Acton  33.916402 -118.010855  \n",
       "2    Los Angeles      Acton  34.000181 -118.441249  \n",
       "3  Lake Elsinore  Riverside  33.689862 -117.376151  \n",
       "4   Baldwin Park      Acton  34.079995 -117.988951  "
      ]
     },
     "execution_count": 42,
     "metadata": {},
     "output_type": "execute_result"
    }
   ],
   "source": [
    "df_ubicacion.head()"
   ]
  },
  {
   "cell_type": "code",
   "execution_count": 43,
   "metadata": {},
   "outputs": [
    {
     "data": {
      "text/html": [
       "<div>\n",
       "<style scoped>\n",
       "    .dataframe tbody tr th:only-of-type {\n",
       "        vertical-align: middle;\n",
       "    }\n",
       "\n",
       "    .dataframe tbody tr th {\n",
       "        vertical-align: top;\n",
       "    }\n",
       "\n",
       "    .dataframe thead th {\n",
       "        text-align: right;\n",
       "    }\n",
       "</style>\n",
       "<table border=\"1\" class=\"dataframe\">\n",
       "  <thead>\n",
       "    <tr style=\"text-align: right;\">\n",
       "      <th></th>\n",
       "      <th>gmap_id</th>\n",
       "      <th>name</th>\n",
       "      <th>address</th>\n",
       "      <th>latitude</th>\n",
       "      <th>longitude</th>\n",
       "      <th>category</th>\n",
       "      <th>avg_rating</th>\n",
       "      <th>num_of_reviews</th>\n",
       "      <th>state</th>\n",
       "      <th>relative_results</th>\n",
       "      <th>Service options</th>\n",
       "      <th>clasificacion</th>\n",
       "      <th>address_depurada</th>\n",
       "      <th>city</th>\n",
       "      <th>county</th>\n",
       "    </tr>\n",
       "  </thead>\n",
       "  <tbody>\n",
       "    <tr>\n",
       "      <th>2</th>\n",
       "      <td>0x80c2c778e3b73d33:0xbdc58662a4a97d49</td>\n",
       "      <td>San Soo Dang</td>\n",
       "      <td>San Soo Dang, 761 S Vermont Ave, Los Angeles, ...</td>\n",
       "      <td>34.058092</td>\n",
       "      <td>-118.292130</td>\n",
       "      <td>Korean restaurant</td>\n",
       "      <td>4.4</td>\n",
       "      <td>18</td>\n",
       "      <td>Open ⋅ Closes 6PM</td>\n",
       "      <td>0x80c2c78249aba68f:0x35bf16ce61be751d, 0x80c2c...</td>\n",
       "      <td>Takeout, Dine-in, Delivery</td>\n",
       "      <td>Dining Venue</td>\n",
       "      <td>761 S Vermont Ave</td>\n",
       "      <td>Los Angeles</td>\n",
       "      <td>Acton</td>\n",
       "    </tr>\n",
       "    <tr>\n",
       "      <th>6</th>\n",
       "      <td>0x80dd2b4c8555edb7:0xfc33d65c4bdbef42</td>\n",
       "      <td>Vons Chicken</td>\n",
       "      <td>Vons Chicken, 12740 La Mirada Blvd, La Mirada,...</td>\n",
       "      <td>33.916402</td>\n",
       "      <td>-118.010855</td>\n",
       "      <td>Restaurant</td>\n",
       "      <td>4.5</td>\n",
       "      <td>18</td>\n",
       "      <td>Open ⋅ Closes 9:30PM</td>\n",
       "      <td>Sin resultados vinculados</td>\n",
       "      <td>Outdoor seating, Curbside pickup, No-contact d...</td>\n",
       "      <td>Dining Venue</td>\n",
       "      <td>12740 La Mirada Blvd</td>\n",
       "      <td>La Mirada</td>\n",
       "      <td>Acton</td>\n",
       "    </tr>\n",
       "    <tr>\n",
       "      <th>761</th>\n",
       "      <td>0x80c2baf50d29bf63:0x5bd904b842b9fcc</td>\n",
       "      <td>La Potranca</td>\n",
       "      <td>La Potranca, 12821 Venice Blvd., Los Angeles, ...</td>\n",
       "      <td>34.000181</td>\n",
       "      <td>-118.441249</td>\n",
       "      <td>Restaurant</td>\n",
       "      <td>4.2</td>\n",
       "      <td>13</td>\n",
       "      <td>Closed ⋅ Opens 10AM</td>\n",
       "      <td>0x80c2bac345536273:0x8b015c3512788465, 0x80c2c...</td>\n",
       "      <td>Dine-in, Delivery</td>\n",
       "      <td>Dining Venue</td>\n",
       "      <td>12821 Venice Blvd.</td>\n",
       "      <td>Los Angeles</td>\n",
       "      <td>Acton</td>\n",
       "    </tr>\n",
       "  </tbody>\n",
       "</table>\n",
       "</div>"
      ],
      "text/plain": [
       "                                   gmap_id          name  \\\n",
       "2    0x80c2c778e3b73d33:0xbdc58662a4a97d49  San Soo Dang   \n",
       "6    0x80dd2b4c8555edb7:0xfc33d65c4bdbef42  Vons Chicken   \n",
       "761   0x80c2baf50d29bf63:0x5bd904b842b9fcc   La Potranca   \n",
       "\n",
       "                                               address   latitude   longitude  \\\n",
       "2    San Soo Dang, 761 S Vermont Ave, Los Angeles, ...  34.058092 -118.292130   \n",
       "6    Vons Chicken, 12740 La Mirada Blvd, La Mirada,...  33.916402 -118.010855   \n",
       "761  La Potranca, 12821 Venice Blvd., Los Angeles, ...  34.000181 -118.441249   \n",
       "\n",
       "              category  avg_rating  num_of_reviews                 state  \\\n",
       "2    Korean restaurant         4.4              18     Open ⋅ Closes 6PM   \n",
       "6           Restaurant         4.5              18  Open ⋅ Closes 9:30PM   \n",
       "761         Restaurant         4.2              13   Closed ⋅ Opens 10AM   \n",
       "\n",
       "                                      relative_results  \\\n",
       "2    0x80c2c78249aba68f:0x35bf16ce61be751d, 0x80c2c...   \n",
       "6                            Sin resultados vinculados   \n",
       "761  0x80c2bac345536273:0x8b015c3512788465, 0x80c2c...   \n",
       "\n",
       "                                       Service options clasificacion  \\\n",
       "2                           Takeout, Dine-in, Delivery  Dining Venue   \n",
       "6    Outdoor seating, Curbside pickup, No-contact d...  Dining Venue   \n",
       "761                                  Dine-in, Delivery  Dining Venue   \n",
       "\n",
       "         address_depurada         city county  \n",
       "2       761 S Vermont Ave  Los Angeles  Acton  \n",
       "6    12740 La Mirada Blvd    La Mirada  Acton  \n",
       "761    12821 Venice Blvd.  Los Angeles  Acton  "
      ]
     },
     "execution_count": 43,
     "metadata": {},
     "output_type": "execute_result"
    }
   ],
   "source": [
    "df_business_google.head(3)"
   ]
  },
  {
   "cell_type": "markdown",
   "metadata": {},
   "source": [
    "### Volvemos a transformar el dataset \"Reviews\""
   ]
  },
  {
   "cell_type": "markdown",
   "metadata": {},
   "source": [
    "A partir del dataframe df_reviews_g sacamos la columna gmap_id con valores únicos. De esa forma, esa lista permitió filtrar los registros pertenecientes al Estado de California en el dataset metadatos de Google.\n",
    "Una vez que tenemos aquellos registros definidos, en los que se ha delimitado el dataset al rubro gastronómico y afines, corresponde ahora volver a filtrar este dataset para que sólo queden a disposición los registros del Estado de california vinculados al sector gastronómico, lo que haremos a continuación."
   ]
  },
  {
   "cell_type": "code",
   "execution_count": 44,
   "metadata": {},
   "outputs": [],
   "source": [
    "# Filtrar los registros en df_reviews_g que coincidan en la columna 'gmap_id'\n",
    "df_reviews_google = df_reviews_g[df_reviews_g['gmap_id'].isin(df_business_google['gmap_id'])]"
   ]
  },
  {
   "cell_type": "code",
   "execution_count": 45,
   "metadata": {},
   "outputs": [
    {
     "data": {
      "text/html": [
       "<div>\n",
       "<style scoped>\n",
       "    .dataframe tbody tr th:only-of-type {\n",
       "        vertical-align: middle;\n",
       "    }\n",
       "\n",
       "    .dataframe tbody tr th {\n",
       "        vertical-align: top;\n",
       "    }\n",
       "\n",
       "    .dataframe thead th {\n",
       "        text-align: right;\n",
       "    }\n",
       "</style>\n",
       "<table border=\"1\" class=\"dataframe\">\n",
       "  <thead>\n",
       "    <tr style=\"text-align: right;\">\n",
       "      <th></th>\n",
       "      <th>user_id</th>\n",
       "      <th>name</th>\n",
       "      <th>time</th>\n",
       "      <th>rating</th>\n",
       "      <th>text</th>\n",
       "      <th>gmap_id</th>\n",
       "    </tr>\n",
       "  </thead>\n",
       "  <tbody>\n",
       "    <tr>\n",
       "      <th>0</th>\n",
       "      <td>1.089912e+20</td>\n",
       "      <td>Song Ro</td>\n",
       "      <td>2021-06-01</td>\n",
       "      <td>5</td>\n",
       "      <td>Love there korean rice cake.</td>\n",
       "      <td>0x80c2c778e3b73d33:0xbdc58662a4a97d49</td>\n",
       "    </tr>\n",
       "    <tr>\n",
       "      <th>1</th>\n",
       "      <td>1.112903e+20</td>\n",
       "      <td>Rafa Robles</td>\n",
       "      <td>2021-09-02</td>\n",
       "      <td>5</td>\n",
       "      <td>Good very good</td>\n",
       "      <td>0x80c2c778e3b73d33:0xbdc58662a4a97d49</td>\n",
       "    </tr>\n",
       "    <tr>\n",
       "      <th>2</th>\n",
       "      <td>1.126404e+20</td>\n",
       "      <td>David Han</td>\n",
       "      <td>2020-08-03</td>\n",
       "      <td>4</td>\n",
       "      <td>They make Korean traditional food very properly.</td>\n",
       "      <td>0x80c2c778e3b73d33:0xbdc58662a4a97d49</td>\n",
       "    </tr>\n",
       "    <tr>\n",
       "      <th>3</th>\n",
       "      <td>1.174403e+20</td>\n",
       "      <td>Anthony Kim</td>\n",
       "      <td>2019-07-03</td>\n",
       "      <td>5</td>\n",
       "      <td>Short ribs are very delicious.</td>\n",
       "      <td>0x80c2c778e3b73d33:0xbdc58662a4a97d49</td>\n",
       "    </tr>\n",
       "    <tr>\n",
       "      <th>9</th>\n",
       "      <td>1.174299e+20</td>\n",
       "      <td>Y.M</td>\n",
       "      <td>2018-10-06</td>\n",
       "      <td>5</td>\n",
       "      <td>Sin Reseña</td>\n",
       "      <td>0x80c2c778e3b73d33:0xbdc58662a4a97d49</td>\n",
       "    </tr>\n",
       "  </tbody>\n",
       "</table>\n",
       "</div>"
      ],
      "text/plain": [
       "        user_id         name       time  rating  \\\n",
       "0  1.089912e+20      Song Ro 2021-06-01       5   \n",
       "1  1.112903e+20  Rafa Robles 2021-09-02       5   \n",
       "2  1.126404e+20    David Han 2020-08-03       4   \n",
       "3  1.174403e+20  Anthony Kim 2019-07-03       5   \n",
       "9  1.174299e+20          Y.M 2018-10-06       5   \n",
       "\n",
       "                                               text  \\\n",
       "0                      Love there korean rice cake.   \n",
       "1                                    Good very good   \n",
       "2  They make Korean traditional food very properly.   \n",
       "3                    Short ribs are very delicious.   \n",
       "9                                        Sin Reseña   \n",
       "\n",
       "                                 gmap_id  \n",
       "0  0x80c2c778e3b73d33:0xbdc58662a4a97d49  \n",
       "1  0x80c2c778e3b73d33:0xbdc58662a4a97d49  \n",
       "2  0x80c2c778e3b73d33:0xbdc58662a4a97d49  \n",
       "3  0x80c2c778e3b73d33:0xbdc58662a4a97d49  \n",
       "9  0x80c2c778e3b73d33:0xbdc58662a4a97d49  "
      ]
     },
     "execution_count": 45,
     "metadata": {},
     "output_type": "execute_result"
    }
   ],
   "source": [
    "df_reviews_google.head()"
   ]
  },
  {
   "cell_type": "code",
   "execution_count": 46,
   "metadata": {},
   "outputs": [
    {
     "data": {
      "text/plain": [
       "Index(['user_id', 'name', 'time', 'rating', 'text', 'gmap_id'], dtype='object')"
      ]
     },
     "execution_count": 46,
     "metadata": {},
     "output_type": "execute_result"
    }
   ],
   "source": [
    "df_reviews_google.columns"
   ]
  },
  {
   "cell_type": "code",
   "execution_count": 47,
   "metadata": {},
   "outputs": [],
   "source": [
    "#A continuación crearemos una nueva columna 'review_id' para usar como primary key.\n",
    "\n",
    "# Crear una copia del DataFrame para evitar el SettingWithCopyWarning\n",
    "df_reviews_google = df_reviews_google.copy()\n",
    "\n",
    "# Crear la nueva columna 'review_id' con números incrementales\n",
    "df_reviews_google['review_id'] = range(1, len(df_reviews_google) + 1)\n",
    "\n",
    "# Reordenar las columnas para que 'review_id' esté en primer lugar\n",
    "df_reviews_google = df_reviews_google[['review_id', 'user_id', 'name', 'time', 'rating', 'text', 'gmap_id']]"
   ]
  },
  {
   "cell_type": "code",
   "execution_count": 48,
   "metadata": {},
   "outputs": [
    {
     "data": {
      "text/html": [
       "<div>\n",
       "<style scoped>\n",
       "    .dataframe tbody tr th:only-of-type {\n",
       "        vertical-align: middle;\n",
       "    }\n",
       "\n",
       "    .dataframe tbody tr th {\n",
       "        vertical-align: top;\n",
       "    }\n",
       "\n",
       "    .dataframe thead th {\n",
       "        text-align: right;\n",
       "    }\n",
       "</style>\n",
       "<table border=\"1\" class=\"dataframe\">\n",
       "  <thead>\n",
       "    <tr style=\"text-align: right;\">\n",
       "      <th></th>\n",
       "      <th>review_id</th>\n",
       "      <th>user_id</th>\n",
       "      <th>name</th>\n",
       "      <th>time</th>\n",
       "      <th>rating</th>\n",
       "      <th>text</th>\n",
       "      <th>gmap_id</th>\n",
       "    </tr>\n",
       "  </thead>\n",
       "  <tbody>\n",
       "    <tr>\n",
       "      <th>0</th>\n",
       "      <td>1</td>\n",
       "      <td>1.089912e+20</td>\n",
       "      <td>Song Ro</td>\n",
       "      <td>2021-06-01</td>\n",
       "      <td>5</td>\n",
       "      <td>Love there korean rice cake.</td>\n",
       "      <td>0x80c2c778e3b73d33:0xbdc58662a4a97d49</td>\n",
       "    </tr>\n",
       "    <tr>\n",
       "      <th>1</th>\n",
       "      <td>2</td>\n",
       "      <td>1.112903e+20</td>\n",
       "      <td>Rafa Robles</td>\n",
       "      <td>2021-09-02</td>\n",
       "      <td>5</td>\n",
       "      <td>Good very good</td>\n",
       "      <td>0x80c2c778e3b73d33:0xbdc58662a4a97d49</td>\n",
       "    </tr>\n",
       "  </tbody>\n",
       "</table>\n",
       "</div>"
      ],
      "text/plain": [
       "   review_id       user_id         name       time  rating  \\\n",
       "0          1  1.089912e+20      Song Ro 2021-06-01       5   \n",
       "1          2  1.112903e+20  Rafa Robles 2021-09-02       5   \n",
       "\n",
       "                           text                                gmap_id  \n",
       "0  Love there korean rice cake.  0x80c2c778e3b73d33:0xbdc58662a4a97d49  \n",
       "1                Good very good  0x80c2c778e3b73d33:0xbdc58662a4a97d49  "
      ]
     },
     "execution_count": 48,
     "metadata": {},
     "output_type": "execute_result"
    }
   ],
   "source": [
    "df_reviews_google.head(2)"
   ]
  },
  {
   "cell_type": "markdown",
   "metadata": {},
   "source": [
    "## Guardamos los Dataframes finales en archivos .parquet"
   ]
  },
  {
   "cell_type": "code",
   "execution_count": 49,
   "metadata": {},
   "outputs": [],
   "source": [
    "df_reviews_google.to_parquet(r'C:\\Users\\GASTON\\Desktop\\PROYECTO FINAL\\DATA\\reviews_google.parquet')\n",
    "df_business_google.to_parquet(r'C:\\Users\\GASTON\\Desktop\\PROYECTO FINAL\\DATA\\locales_google.parquet')\n",
    "df_ubicacion.to_parquet(r'C:\\Users\\GASTON\\Desktop\\PROYECTO FINAL\\DATA\\ubicacion_google.parquet')"
   ]
  }
 ],
 "metadata": {
  "kernelspec": {
   "display_name": "Python 3",
   "language": "python",
   "name": "python3"
  },
  "language_info": {
   "codemirror_mode": {
    "name": "ipython",
    "version": 3
   },
   "file_extension": ".py",
   "mimetype": "text/x-python",
   "name": "python",
   "nbconvert_exporter": "python",
   "pygments_lexer": "ipython3",
   "version": "3.11.9"
  }
 },
 "nbformat": 4,
 "nbformat_minor": 2
}
