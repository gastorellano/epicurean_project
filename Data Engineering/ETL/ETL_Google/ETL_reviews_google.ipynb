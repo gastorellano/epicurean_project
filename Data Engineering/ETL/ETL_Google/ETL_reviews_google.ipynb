{
 "cells": [
  {
   "cell_type": "markdown",
   "metadata": {},
   "source": [
    "# ETL de el dataset de reviews de Google"
   ]
  },
  {
   "cell_type": "markdown",
   "metadata": {},
   "source": [
    "importamos librerias a utilizar"
   ]
  },
  {
   "cell_type": "code",
   "execution_count": 36,
   "metadata": {},
   "outputs": [],
   "source": [
    "import os\n",
    "import pandas as pd\n",
    "import seaborn as sns\n",
    "import matplotlib.pyplot as plt\n",
    "from wordcloud import WordCloud\n",
    "import re"
   ]
  },
  {
   "cell_type": "markdown",
   "metadata": {},
   "source": [
    "### Comenzamos con el dataset de reviews de Google"
   ]
  },
  {
   "cell_type": "markdown",
   "metadata": {},
   "source": [
    "Extraemos los datos"
   ]
  },
  {
   "cell_type": "code",
   "execution_count": 37,
   "metadata": {},
   "outputs": [
    {
     "data": {
      "text/html": [
       "<div>\n",
       "<style scoped>\n",
       "    .dataframe tbody tr th:only-of-type {\n",
       "        vertical-align: middle;\n",
       "    }\n",
       "\n",
       "    .dataframe tbody tr th {\n",
       "        vertical-align: top;\n",
       "    }\n",
       "\n",
       "    .dataframe thead th {\n",
       "        text-align: right;\n",
       "    }\n",
       "</style>\n",
       "<table border=\"1\" class=\"dataframe\">\n",
       "  <thead>\n",
       "    <tr style=\"text-align: right;\">\n",
       "      <th></th>\n",
       "      <th>user_id</th>\n",
       "      <th>name</th>\n",
       "      <th>time</th>\n",
       "      <th>rating</th>\n",
       "      <th>text</th>\n",
       "      <th>pics</th>\n",
       "      <th>resp</th>\n",
       "      <th>gmap_id</th>\n",
       "    </tr>\n",
       "  </thead>\n",
       "  <tbody>\n",
       "    <tr>\n",
       "      <th>0</th>\n",
       "      <td>1.089912e+20</td>\n",
       "      <td>Song Ro</td>\n",
       "      <td>1609909927056</td>\n",
       "      <td>5</td>\n",
       "      <td>Love there korean rice cake.</td>\n",
       "      <td>None</td>\n",
       "      <td>None</td>\n",
       "      <td>0x80c2c778e3b73d33:0xbdc58662a4a97d49</td>\n",
       "    </tr>\n",
       "    <tr>\n",
       "      <th>1</th>\n",
       "      <td>1.112903e+20</td>\n",
       "      <td>Rafa Robles</td>\n",
       "      <td>1612849648663</td>\n",
       "      <td>5</td>\n",
       "      <td>Good very good</td>\n",
       "      <td>None</td>\n",
       "      <td>None</td>\n",
       "      <td>0x80c2c778e3b73d33:0xbdc58662a4a97d49</td>\n",
       "    </tr>\n",
       "    <tr>\n",
       "      <th>2</th>\n",
       "      <td>1.126404e+20</td>\n",
       "      <td>David Han</td>\n",
       "      <td>1583643882296</td>\n",
       "      <td>4</td>\n",
       "      <td>They make Korean traditional food very properly.</td>\n",
       "      <td>None</td>\n",
       "      <td>None</td>\n",
       "      <td>0x80c2c778e3b73d33:0xbdc58662a4a97d49</td>\n",
       "    </tr>\n",
       "    <tr>\n",
       "      <th>3</th>\n",
       "      <td>1.174403e+20</td>\n",
       "      <td>Anthony Kim</td>\n",
       "      <td>1551938216355</td>\n",
       "      <td>5</td>\n",
       "      <td>Short ribs are very delicious.</td>\n",
       "      <td>None</td>\n",
       "      <td>None</td>\n",
       "      <td>0x80c2c778e3b73d33:0xbdc58662a4a97d49</td>\n",
       "    </tr>\n",
       "    <tr>\n",
       "      <th>4</th>\n",
       "      <td>1.005808e+20</td>\n",
       "      <td>Mario Marzouk</td>\n",
       "      <td>1494910901933</td>\n",
       "      <td>5</td>\n",
       "      <td>Great food and prices the portions are large</td>\n",
       "      <td>None</td>\n",
       "      <td>None</td>\n",
       "      <td>0x80c2c778e3b73d33:0xbdc58662a4a97d49</td>\n",
       "    </tr>\n",
       "    <tr>\n",
       "      <th>...</th>\n",
       "      <td>...</td>\n",
       "      <td>...</td>\n",
       "      <td>...</td>\n",
       "      <td>...</td>\n",
       "      <td>...</td>\n",
       "      <td>...</td>\n",
       "      <td>...</td>\n",
       "      <td>...</td>\n",
       "    </tr>\n",
       "    <tr>\n",
       "      <th>2699995</th>\n",
       "      <td>1.113423e+20</td>\n",
       "      <td>Byunguk Kim</td>\n",
       "      <td>1573362674409</td>\n",
       "      <td>5</td>\n",
       "      <td>None</td>\n",
       "      <td>None</td>\n",
       "      <td>None</td>\n",
       "      <td>0x80c2bea30829f279:0x39aa953ee93734ed</td>\n",
       "    </tr>\n",
       "    <tr>\n",
       "      <th>2699996</th>\n",
       "      <td>1.080818e+20</td>\n",
       "      <td>Ceveda Craytonhooks</td>\n",
       "      <td>1580608853411</td>\n",
       "      <td>5</td>\n",
       "      <td>Beautiful salon. The staff and atmosphere were...</td>\n",
       "      <td>None</td>\n",
       "      <td>None</td>\n",
       "      <td>0x8094675073616747:0x9f935a9b9046a9ba</td>\n",
       "    </tr>\n",
       "    <tr>\n",
       "      <th>2699997</th>\n",
       "      <td>1.175914e+20</td>\n",
       "      <td>Natacha Thompson</td>\n",
       "      <td>1528597806165</td>\n",
       "      <td>5</td>\n",
       "      <td>Flo is a great beautician.   She is very patie...</td>\n",
       "      <td>[{'url': ['https://lh5.googleusercontent.com/p...</td>\n",
       "      <td>{'time': 1528598932831, 'text': 'Thank you!  I...</td>\n",
       "      <td>0x8094675073616747:0x9f935a9b9046a9ba</td>\n",
       "    </tr>\n",
       "    <tr>\n",
       "      <th>2699998</th>\n",
       "      <td>1.124266e+20</td>\n",
       "      <td>Eleanor Aikins</td>\n",
       "      <td>1551203379295</td>\n",
       "      <td>5</td>\n",
       "      <td>I Been going to have a variety of hair style a...</td>\n",
       "      <td>None</td>\n",
       "      <td>None</td>\n",
       "      <td>0x8094675073616747:0x9f935a9b9046a9ba</td>\n",
       "    </tr>\n",
       "    <tr>\n",
       "      <th>2699999</th>\n",
       "      <td>1.122199e+20</td>\n",
       "      <td>Thai Love</td>\n",
       "      <td>1553880485978</td>\n",
       "      <td>5</td>\n",
       "      <td>Teri is awesome she is a dread loc master. She...</td>\n",
       "      <td>None</td>\n",
       "      <td>None</td>\n",
       "      <td>0x8094675073616747:0x9f935a9b9046a9ba</td>\n",
       "    </tr>\n",
       "  </tbody>\n",
       "</table>\n",
       "<p>2700000 rows × 8 columns</p>\n",
       "</div>"
      ],
      "text/plain": [
       "              user_id                 name           time  rating  \\\n",
       "0        1.089912e+20              Song Ro  1609909927056       5   \n",
       "1        1.112903e+20          Rafa Robles  1612849648663       5   \n",
       "2        1.126404e+20            David Han  1583643882296       4   \n",
       "3        1.174403e+20          Anthony Kim  1551938216355       5   \n",
       "4        1.005808e+20        Mario Marzouk  1494910901933       5   \n",
       "...               ...                  ...            ...     ...   \n",
       "2699995  1.113423e+20          Byunguk Kim  1573362674409       5   \n",
       "2699996  1.080818e+20  Ceveda Craytonhooks  1580608853411       5   \n",
       "2699997  1.175914e+20     Natacha Thompson  1528597806165       5   \n",
       "2699998  1.124266e+20       Eleanor Aikins  1551203379295       5   \n",
       "2699999  1.122199e+20            Thai Love  1553880485978       5   \n",
       "\n",
       "                                                      text  \\\n",
       "0                             Love there korean rice cake.   \n",
       "1                                           Good very good   \n",
       "2         They make Korean traditional food very properly.   \n",
       "3                           Short ribs are very delicious.   \n",
       "4             Great food and prices the portions are large   \n",
       "...                                                    ...   \n",
       "2699995                                               None   \n",
       "2699996  Beautiful salon. The staff and atmosphere were...   \n",
       "2699997  Flo is a great beautician.   She is very patie...   \n",
       "2699998  I Been going to have a variety of hair style a...   \n",
       "2699999  Teri is awesome she is a dread loc master. She...   \n",
       "\n",
       "                                                      pics  \\\n",
       "0                                                     None   \n",
       "1                                                     None   \n",
       "2                                                     None   \n",
       "3                                                     None   \n",
       "4                                                     None   \n",
       "...                                                    ...   \n",
       "2699995                                               None   \n",
       "2699996                                               None   \n",
       "2699997  [{'url': ['https://lh5.googleusercontent.com/p...   \n",
       "2699998                                               None   \n",
       "2699999                                               None   \n",
       "\n",
       "                                                      resp  \\\n",
       "0                                                     None   \n",
       "1                                                     None   \n",
       "2                                                     None   \n",
       "3                                                     None   \n",
       "4                                                     None   \n",
       "...                                                    ...   \n",
       "2699995                                               None   \n",
       "2699996                                               None   \n",
       "2699997  {'time': 1528598932831, 'text': 'Thank you!  I...   \n",
       "2699998                                               None   \n",
       "2699999                                               None   \n",
       "\n",
       "                                       gmap_id  \n",
       "0        0x80c2c778e3b73d33:0xbdc58662a4a97d49  \n",
       "1        0x80c2c778e3b73d33:0xbdc58662a4a97d49  \n",
       "2        0x80c2c778e3b73d33:0xbdc58662a4a97d49  \n",
       "3        0x80c2c778e3b73d33:0xbdc58662a4a97d49  \n",
       "4        0x80c2c778e3b73d33:0xbdc58662a4a97d49  \n",
       "...                                        ...  \n",
       "2699995  0x80c2bea30829f279:0x39aa953ee93734ed  \n",
       "2699996  0x8094675073616747:0x9f935a9b9046a9ba  \n",
       "2699997  0x8094675073616747:0x9f935a9b9046a9ba  \n",
       "2699998  0x8094675073616747:0x9f935a9b9046a9ba  \n",
       "2699999  0x8094675073616747:0x9f935a9b9046a9ba  \n",
       "\n",
       "[2700000 rows x 8 columns]"
      ]
     },
     "execution_count": 37,
     "metadata": {},
     "output_type": "execute_result"
    }
   ],
   "source": [
    "# Especifica la ruta de la carpeta donde están los archivos JSON\n",
    "folder_path = r'C:\\Users\\Usuario\\Desktop\\HENRY\\PROYECTO FINAL\\Proyecto Final\\datasets\\Google Maps\\review-estados\\review-California'\n",
    "\n",
    "# Obtiene los todos los archivos de la carpeta\n",
    "files = os.listdir(folder_path)\n",
    "dataframes = []\n",
    "\n",
    "# Leer cada archivo JSON línea por línea\n",
    "for file_name in files:\n",
    "    if file_name.endswith('.json'):  # Asegurarse de que solo se lean los archivos JSON\n",
    "        file_path = os.path.join(folder_path, file_name)\n",
    "        try:\n",
    "            df = pd.read_json(file_path, lines=True)  # Leer el archivo JSON línea por línea\n",
    "            dataframes.append(df)\n",
    "        except ValueError as e:\n",
    "            print(f\"Error leyendo {file_name}: {e}\")\n",
    "\n",
    "# Concatenar todos los DataFrames en uno solo\n",
    "df_reviews_g_base = pd.concat(dataframes, ignore_index=True)\n",
    "df_reviews_g_base"
   ]
  },
  {
   "cell_type": "code",
   "execution_count": 38,
   "metadata": {},
   "outputs": [],
   "source": [
    "df_reviews_g = df_reviews_g_base "
   ]
  },
  {
   "cell_type": "code",
   "execution_count": 39,
   "metadata": {},
   "outputs": [
    {
     "data": {
      "text/plain": [
       "2700000"
      ]
     },
     "execution_count": 39,
     "metadata": {},
     "output_type": "execute_result"
    }
   ],
   "source": [
    "len(df_reviews_g)"
   ]
  },
  {
   "cell_type": "markdown",
   "metadata": {},
   "source": [
    "ETL Basico tambien realizado al comienzo del EDA sobre este mismo dataset"
   ]
  },
  {
   "cell_type": "code",
   "execution_count": 40,
   "metadata": {},
   "outputs": [],
   "source": [
    "# Eliminar la columna 'pics' ya que no la necesitamos para este analisis\n",
    "df_reviews_g.drop(columns=['pics'], inplace=True)\n",
    "\n",
    "# Convertir los diccionarios en la columna 'resp' a cadenas de texto\n",
    "df_reviews_g['resp'] = df_reviews_g['resp'].apply(lambda x: str(x) if isinstance(x, dict) else x)\n",
    "\n",
    "# Convertir la columna 'time' a formato de fecha\n",
    "df_reviews_g['time'] = pd.to_datetime(df_reviews_g['time'], unit='ms')\n",
    "\n",
    "# Eliminar duplicados\n",
    "df_reviews_g.drop_duplicates(inplace=True)"
   ]
  },
  {
   "cell_type": "markdown",
   "metadata": {},
   "source": [
    "Transformamos time y eliminamos fechas previas a 2007 "
   ]
  },
  {
   "cell_type": "code",
   "execution_count": 41,
   "metadata": {},
   "outputs": [],
   "source": [
    "# Asegurarse de que la columna 'time' esté en formato datetime\n",
    "df_reviews_g['time'] = pd.to_datetime(df_reviews_g['time'], errors='coerce')\n",
    "\n",
    "# Detectar outliers en 'time' (fechas fuera del rango)\n",
    "min_date = pd.to_datetime('2007-06-01')\n",
    "max_date = pd.to_datetime('today')\n",
    "\n",
    "# Filtrar las filas que tienen fechas fuera de este rango\n",
    "outliers_time = df_reviews_g[(df_reviews_g['time'] < min_date) | (df_reviews_g['time'] > max_date)]\n",
    "\n",
    "# Eliminamos estos outliers\n",
    "df_reviews_g = df_reviews_g[(df_reviews_g['time'] >= min_date) & (df_reviews_g['time'] <= max_date)]"
   ]
  },
  {
   "cell_type": "code",
   "execution_count": 42,
   "metadata": {},
   "outputs": [
    {
     "data": {
      "text/plain": [
       "2624574"
      ]
     },
     "execution_count": 42,
     "metadata": {},
     "output_type": "execute_result"
    }
   ],
   "source": [
    "len(df_reviews_g)"
   ]
  },
  {
   "cell_type": "markdown",
   "metadata": {},
   "source": [
    "### Guardamos el dataset en parquet\n",
    "\n"
   ]
  },
  {
   "cell_type": "code",
   "execution_count": 43,
   "metadata": {},
   "outputs": [],
   "source": [
    "df_reviews_g.to_parquet(r'C:\\Users\\Usuario\\Desktop\\HENRY\\PROYECTO FINAL\\repo\\epicurean_project\\DATA\\data parcial\\reviews_google.parquet')"
   ]
  },
  {
   "cell_type": "markdown",
   "metadata": {},
   "source": [
    "### Filtramos los registros relacionados a locales gastronomicos"
   ]
  },
  {
   "cell_type": "markdown",
   "metadata": {},
   "source": [
    "A partir del dataframe df_reviews_g sacamos una lista de la columna gmap_id con valores únicos. De esa forma, esa lista permitio filtrar los registros pertenecientes al estado de California en el dataset metadatos de google.\n",
    "Una vez que tenemos aquellos registros definidos, en los que se ha delimitado el dataset al rubro gastronomico y afines, corresponde ahora volver a filtrar este dataset para que solo queden a disposición los registros del estado de california vinculados al sector gastronomico, lo que haremos a continuación."
   ]
  },
  {
   "cell_type": "code",
   "execution_count": 69,
   "metadata": {},
   "outputs": [],
   "source": [
    "import pandas as pd\n",
    "df_reviews_g = pd.read_parquet(r'C:\\Users\\Usuario\\Desktop\\HENRY\\PROYECTO FINAL\\repo\\epicurean_project\\DATA\\data parcial\\reviews_google.parquet')"
   ]
  },
  {
   "cell_type": "code",
   "execution_count": 60,
   "metadata": {},
   "outputs": [
    {
     "data": {
      "text/plain": [
       "2624574"
      ]
     },
     "execution_count": 60,
     "metadata": {},
     "output_type": "execute_result"
    }
   ],
   "source": [
    "len(df_reviews_g)"
   ]
  },
  {
   "cell_type": "code",
   "execution_count": 70,
   "metadata": {},
   "outputs": [],
   "source": [
    "# Cargar la columna 'gmap_id' desde el archivo Parquet\n",
    "parquet_path = r'C:\\Users\\Usuario\\Desktop\\HENRY\\PROYECTO FINAL\\repo\\epicurean_project\\DATA\\data parcial\\locales_gastronomicos_google.parquet'\n",
    "gmap_id_california_gastronomico = pd.read_parquet(parquet_path, columns=['gmap_id'])\n",
    "\n",
    "# Filtrar los registros en df_reviews_g que coincidan en la columna 'gmap_id'\n",
    "df_reviews_g_filtered = df_reviews_g[df_reviews_g['gmap_id'].isin(gmap_id_california_gastronomico['gmap_id'])]\n"
   ]
  },
  {
   "cell_type": "code",
   "execution_count": 62,
   "metadata": {},
   "outputs": [
    {
     "data": {
      "text/plain": [
       "736570"
      ]
     },
     "execution_count": 62,
     "metadata": {},
     "output_type": "execute_result"
    }
   ],
   "source": [
    "len(df_reviews_g_filtered)"
   ]
  },
  {
   "cell_type": "code",
   "execution_count": 71,
   "metadata": {},
   "outputs": [
    {
     "data": {
      "text/html": [
       "<div>\n",
       "<style scoped>\n",
       "    .dataframe tbody tr th:only-of-type {\n",
       "        vertical-align: middle;\n",
       "    }\n",
       "\n",
       "    .dataframe tbody tr th {\n",
       "        vertical-align: top;\n",
       "    }\n",
       "\n",
       "    .dataframe thead th {\n",
       "        text-align: right;\n",
       "    }\n",
       "</style>\n",
       "<table border=\"1\" class=\"dataframe\">\n",
       "  <thead>\n",
       "    <tr style=\"text-align: right;\">\n",
       "      <th></th>\n",
       "      <th>user_id</th>\n",
       "      <th>name</th>\n",
       "      <th>time</th>\n",
       "      <th>rating</th>\n",
       "      <th>text</th>\n",
       "      <th>resp</th>\n",
       "      <th>gmap_id</th>\n",
       "    </tr>\n",
       "  </thead>\n",
       "  <tbody>\n",
       "    <tr>\n",
       "      <th>0</th>\n",
       "      <td>1.089912e+20</td>\n",
       "      <td>Song Ro</td>\n",
       "      <td>2021-01-06 05:12:07.056</td>\n",
       "      <td>5</td>\n",
       "      <td>Love there korean rice cake.</td>\n",
       "      <td>None</td>\n",
       "      <td>0x80c2c778e3b73d33:0xbdc58662a4a97d49</td>\n",
       "    </tr>\n",
       "    <tr>\n",
       "      <th>1</th>\n",
       "      <td>1.112903e+20</td>\n",
       "      <td>Rafa Robles</td>\n",
       "      <td>2021-02-09 05:47:28.663</td>\n",
       "      <td>5</td>\n",
       "      <td>Good very good</td>\n",
       "      <td>None</td>\n",
       "      <td>0x80c2c778e3b73d33:0xbdc58662a4a97d49</td>\n",
       "    </tr>\n",
       "    <tr>\n",
       "      <th>2</th>\n",
       "      <td>1.126404e+20</td>\n",
       "      <td>David Han</td>\n",
       "      <td>2020-03-08 05:04:42.296</td>\n",
       "      <td>4</td>\n",
       "      <td>They make Korean traditional food very properly.</td>\n",
       "      <td>None</td>\n",
       "      <td>0x80c2c778e3b73d33:0xbdc58662a4a97d49</td>\n",
       "    </tr>\n",
       "    <tr>\n",
       "      <th>3</th>\n",
       "      <td>1.174403e+20</td>\n",
       "      <td>Anthony Kim</td>\n",
       "      <td>2019-03-07 05:56:56.355</td>\n",
       "      <td>5</td>\n",
       "      <td>Short ribs are very delicious.</td>\n",
       "      <td>None</td>\n",
       "      <td>0x80c2c778e3b73d33:0xbdc58662a4a97d49</td>\n",
       "    </tr>\n",
       "    <tr>\n",
       "      <th>4</th>\n",
       "      <td>1.005808e+20</td>\n",
       "      <td>Mario Marzouk</td>\n",
       "      <td>2017-05-16 05:01:41.933</td>\n",
       "      <td>5</td>\n",
       "      <td>Great food and prices the portions are large</td>\n",
       "      <td>None</td>\n",
       "      <td>0x80c2c778e3b73d33:0xbdc58662a4a97d49</td>\n",
       "    </tr>\n",
       "  </tbody>\n",
       "</table>\n",
       "</div>"
      ],
      "text/plain": [
       "        user_id           name                    time  rating  \\\n",
       "0  1.089912e+20        Song Ro 2021-01-06 05:12:07.056       5   \n",
       "1  1.112903e+20    Rafa Robles 2021-02-09 05:47:28.663       5   \n",
       "2  1.126404e+20      David Han 2020-03-08 05:04:42.296       4   \n",
       "3  1.174403e+20    Anthony Kim 2019-03-07 05:56:56.355       5   \n",
       "4  1.005808e+20  Mario Marzouk 2017-05-16 05:01:41.933       5   \n",
       "\n",
       "                                               text  resp  \\\n",
       "0                      Love there korean rice cake.  None   \n",
       "1                                    Good very good  None   \n",
       "2  They make Korean traditional food very properly.  None   \n",
       "3                    Short ribs are very delicious.  None   \n",
       "4      Great food and prices the portions are large  None   \n",
       "\n",
       "                                 gmap_id  \n",
       "0  0x80c2c778e3b73d33:0xbdc58662a4a97d49  \n",
       "1  0x80c2c778e3b73d33:0xbdc58662a4a97d49  \n",
       "2  0x80c2c778e3b73d33:0xbdc58662a4a97d49  \n",
       "3  0x80c2c778e3b73d33:0xbdc58662a4a97d49  \n",
       "4  0x80c2c778e3b73d33:0xbdc58662a4a97d49  "
      ]
     },
     "execution_count": 71,
     "metadata": {},
     "output_type": "execute_result"
    }
   ],
   "source": [
    "df_reviews_g_filtered.head()"
   ]
  },
  {
   "cell_type": "markdown",
   "metadata": {},
   "source": [
    "### Eliminamos la columna \"resp\" ya que determinamos que no aporta valor"
   ]
  },
  {
   "cell_type": "code",
   "execution_count": 72,
   "metadata": {},
   "outputs": [],
   "source": [
    "# Eliminar la columna 'resp' ya que no la necesitamos para este analisis\n",
    "df_reviews_g_filtered = df_reviews_g_filtered.drop(columns=['resp'])"
   ]
  },
  {
   "cell_type": "code",
   "execution_count": null,
   "metadata": {},
   "outputs": [],
   "source": [
    "# Reemplazar valores nulos en la columna 'review_text' con 'No review'\n",
    "df_reviews_g_filtered['text'].fillna('Sin Reseñas', inplace=True)"
   ]
  },
  {
   "cell_type": "code",
   "execution_count": 74,
   "metadata": {},
   "outputs": [
    {
     "data": {
      "text/html": [
       "<div>\n",
       "<style scoped>\n",
       "    .dataframe tbody tr th:only-of-type {\n",
       "        vertical-align: middle;\n",
       "    }\n",
       "\n",
       "    .dataframe tbody tr th {\n",
       "        vertical-align: top;\n",
       "    }\n",
       "\n",
       "    .dataframe thead th {\n",
       "        text-align: right;\n",
       "    }\n",
       "</style>\n",
       "<table border=\"1\" class=\"dataframe\">\n",
       "  <thead>\n",
       "    <tr style=\"text-align: right;\">\n",
       "      <th></th>\n",
       "      <th>user_id</th>\n",
       "      <th>name</th>\n",
       "      <th>time</th>\n",
       "      <th>rating</th>\n",
       "      <th>text</th>\n",
       "      <th>gmap_id</th>\n",
       "    </tr>\n",
       "  </thead>\n",
       "  <tbody>\n",
       "    <tr>\n",
       "      <th>0</th>\n",
       "      <td>1.089912e+20</td>\n",
       "      <td>Song Ro</td>\n",
       "      <td>2021-01-06 05:12:07.056</td>\n",
       "      <td>5</td>\n",
       "      <td>Love there korean rice cake.</td>\n",
       "      <td>0x80c2c778e3b73d33:0xbdc58662a4a97d49</td>\n",
       "    </tr>\n",
       "    <tr>\n",
       "      <th>1</th>\n",
       "      <td>1.112903e+20</td>\n",
       "      <td>Rafa Robles</td>\n",
       "      <td>2021-02-09 05:47:28.663</td>\n",
       "      <td>5</td>\n",
       "      <td>Good very good</td>\n",
       "      <td>0x80c2c778e3b73d33:0xbdc58662a4a97d49</td>\n",
       "    </tr>\n",
       "    <tr>\n",
       "      <th>2</th>\n",
       "      <td>1.126404e+20</td>\n",
       "      <td>David Han</td>\n",
       "      <td>2020-03-08 05:04:42.296</td>\n",
       "      <td>4</td>\n",
       "      <td>They make Korean traditional food very properly.</td>\n",
       "      <td>0x80c2c778e3b73d33:0xbdc58662a4a97d49</td>\n",
       "    </tr>\n",
       "    <tr>\n",
       "      <th>3</th>\n",
       "      <td>1.174403e+20</td>\n",
       "      <td>Anthony Kim</td>\n",
       "      <td>2019-03-07 05:56:56.355</td>\n",
       "      <td>5</td>\n",
       "      <td>Short ribs are very delicious.</td>\n",
       "      <td>0x80c2c778e3b73d33:0xbdc58662a4a97d49</td>\n",
       "    </tr>\n",
       "    <tr>\n",
       "      <th>4</th>\n",
       "      <td>1.005808e+20</td>\n",
       "      <td>Mario Marzouk</td>\n",
       "      <td>2017-05-16 05:01:41.933</td>\n",
       "      <td>5</td>\n",
       "      <td>Great food and prices the portions are large</td>\n",
       "      <td>0x80c2c778e3b73d33:0xbdc58662a4a97d49</td>\n",
       "    </tr>\n",
       "  </tbody>\n",
       "</table>\n",
       "</div>"
      ],
      "text/plain": [
       "        user_id           name                    time  rating  \\\n",
       "0  1.089912e+20        Song Ro 2021-01-06 05:12:07.056       5   \n",
       "1  1.112903e+20    Rafa Robles 2021-02-09 05:47:28.663       5   \n",
       "2  1.126404e+20      David Han 2020-03-08 05:04:42.296       4   \n",
       "3  1.174403e+20    Anthony Kim 2019-03-07 05:56:56.355       5   \n",
       "4  1.005808e+20  Mario Marzouk 2017-05-16 05:01:41.933       5   \n",
       "\n",
       "                                               text  \\\n",
       "0                      Love there korean rice cake.   \n",
       "1                                    Good very good   \n",
       "2  They make Korean traditional food very properly.   \n",
       "3                    Short ribs are very delicious.   \n",
       "4      Great food and prices the portions are large   \n",
       "\n",
       "                                 gmap_id  \n",
       "0  0x80c2c778e3b73d33:0xbdc58662a4a97d49  \n",
       "1  0x80c2c778e3b73d33:0xbdc58662a4a97d49  \n",
       "2  0x80c2c778e3b73d33:0xbdc58662a4a97d49  \n",
       "3  0x80c2c778e3b73d33:0xbdc58662a4a97d49  \n",
       "4  0x80c2c778e3b73d33:0xbdc58662a4a97d49  "
      ]
     },
     "execution_count": 74,
     "metadata": {},
     "output_type": "execute_result"
    }
   ],
   "source": [
    "df_reviews_g_filtered.head()"
   ]
  },
  {
   "cell_type": "markdown",
   "metadata": {},
   "source": [
    "### Guardamos el Dataframe final en parquet"
   ]
  },
  {
   "cell_type": "code",
   "execution_count": 75,
   "metadata": {},
   "outputs": [],
   "source": [
    "df_reviews_g_filtered.to_parquet(r'C:\\Users\\Usuario\\Desktop\\HENRY\\PROYECTO FINAL\\repo\\epicurean_project\\DATA\\reviews_gastronomicos_google.parquet')"
   ]
  }
 ],
 "metadata": {
  "kernelspec": {
   "display_name": "Python 3",
   "language": "python",
   "name": "python3"
  },
  "language_info": {
   "codemirror_mode": {
    "name": "ipython",
    "version": 3
   },
   "file_extension": ".py",
   "mimetype": "text/x-python",
   "name": "python",
   "nbconvert_exporter": "python",
   "pygments_lexer": "ipython3",
   "version": "3.10.11"
  }
 },
 "nbformat": 4,
 "nbformat_minor": 2
}
